{
 "cells": [
  {
   "cell_type": "markdown",
   "metadata": {},
   "source": [
    "<table style=\"width: 100%;\">\n",
    "    <tr style=\"background-color: transparent;\"><td>\n",
    "        <img src=\"https://data-88e.github.io/assets/images/blue_text.png\" width=\"250px\" style=\"margin-left: 0;\" />\n",
    "    </td><td>\n",
    "        <p style=\"text-align: right; font-size: 10pt;\"><strong>Economic Models</strong>, Fall 2021<br>\n",
    "            Dr. Eric Van Dusen <br>\n",
    "        Shashank Dalmia, Ergun Acikoz</p></td></tr>\n",
    "</table>"
   ]
  },
  {
   "cell_type": "markdown",
   "metadata": {},
   "source": [
    "# Lecture 3: Supply"
   ]
  },
  {
   "cell_type": "code",
   "execution_count": 1,
   "metadata": {},
   "outputs": [],
   "source": [
    "from datascience import *\n",
    "import matplotlib.pyplot as plt\n",
    "%matplotlib inline\n",
    "import numpy as np\n",
    "import pandas as pd\n",
    "from utils import *\n",
    "plt.style.use('seaborn-muted')\n",
    "import sympy"
   ]
  },
  {
   "cell_type": "code",
   "execution_count": 2,
   "metadata": {},
   "outputs": [],
   "source": [
    "from __future__ import print_function\n",
    "from ipywidgets import interact, interactive, fixed, interact_manual\n",
    "import ipywidgets as widgets\n",
    "from matplotlib import patches\n",
    "from csaps import csaps\n",
    "import warnings\n",
    "warnings.filterwarnings(\"ignore\")"
   ]
  },
  {
   "cell_type": "markdown",
   "metadata": {},
   "source": [
    "## The Supply Curve"
   ]
  },
  {
   "cell_type": "markdown",
   "metadata": {},
   "source": [
    "The supply of a commodity refers to the quantity for which producers or sellers are willing produce and offer for sale, at a particular price in some given period of time."
   ]
  },
  {
   "cell_type": "markdown",
   "metadata": {},
   "source": [
    "To answer questions like *\"at a given price, what will be the supply of a good in the market?\"*, we need to know the market supply curve. A supply curve is simply a curve (or graph) which shows the quantites of a good that can be produced and the prices they will be sold at.\n",
    "\n",
    "It is good to discern between individual and market supply. **Individual supply** refers to the supply offered by a single firm or producer, while **market supply** refers to the supply offered by all the firms or producers in a market. It is the horizontal summation of the individual supply curves in the market.\n",
    "\n",
    "The following table and graph will give an example of a market with two firm: A and B."
   ]
  },
  {
   "cell_type": "code",
   "execution_count": 3,
   "metadata": {},
   "outputs": [
    {
     "data": {
      "text/html": [
       "<table border=\"1\" class=\"dataframe\">\n",
       "    <thead>\n",
       "        <tr>\n",
       "            <th>Price</th> <th>Quantity supplied by A</th> <th>Quantity supplied by B</th> <th>Market Supply</th>\n",
       "        </tr>\n",
       "    </thead>\n",
       "    <tbody>\n",
       "        <tr>\n",
       "            <td>2    </td> <td>20                    </td> <td>30                    </td> <td>50           </td>\n",
       "        </tr>\n",
       "        <tr>\n",
       "            <td>3    </td> <td>30                    </td> <td>40                    </td> <td>70           </td>\n",
       "        </tr>\n",
       "        <tr>\n",
       "            <td>4    </td> <td>40                    </td> <td>50                    </td> <td>90           </td>\n",
       "        </tr>\n",
       "    </tbody>\n",
       "</table>"
      ],
      "text/plain": [
       "Price | Quantity supplied by A | Quantity supplied by B | Market Supply\n",
       "2     | 20                     | 30                     | 50\n",
       "3     | 30                     | 40                     | 70\n",
       "4     | 40                     | 50                     | 90"
      ]
     },
     "execution_count": 3,
     "metadata": {},
     "output_type": "execute_result"
    }
   ],
   "source": [
    "market_supply = Table().with_columns(\"Price\", make_array(2, 3, 4),\n",
    "                                     \"Quantity supplied by A\", make_array(20, 30, 40),\n",
    "                                     \"Quantity supplied by B\", make_array(30, 40, 50),\n",
    "                                     \"Market Supply\", make_array(50, 70, 90))\n",
    "market_supply"
   ]
  },
  {
   "cell_type": "code",
   "execution_count": 4,
   "metadata": {},
   "outputs": [
    {
     "data": {
      "image/png": "[encoded data removed]",
      "text/plain": [
       "<Figure size 432x288 with 1 Axes>"
      ]
     },
     "metadata": {
      "needs_background": "light"
     },
     "output_type": "display_data"
    }
   ],
   "source": [
    "plt.plot(market_supply.column(1), market_supply.column(0), marker='o')\n",
    "plt.plot(market_supply.column(2), market_supply.column(0), marker='o')\n",
    "plt.plot(market_supply.column(3), market_supply.column(0), marker='o')\n",
    "plt.xlabel('Quantity')\n",
    "plt.ylabel('Price')\n",
    "plt.title('Market Supply')\n",
    "plt.legend(make_array(\"Quantity supplied by A\",\"Quantity supplied by B\",\"Market Supply\"), bbox_to_anchor=(1.04,1), loc=\"center left\")\n",
    "\n",
    "plt.show()"
   ]
  },
  {
   "cell_type": "markdown",
   "metadata": {},
   "source": [
    "Market behaviour relating to supply is based on the behaviour of the individual firms that comprise it. Now, how does an individual firm make its decision about production?\n",
    "\n",
    "It does so based on the costs associated with production. If the price of a good is enough to recover the costs, the firm produces. Generally, costs increase with the quantity of production. So, to induce producers to increase the quantity supplied, the prices need to increase to compensate for the increased costs."
   ]
  },
  {
   "cell_type": "markdown",
   "metadata": {},
   "source": [
    "## Costs and Firm Behavior"
   ]
  },
  {
   "cell_type": "markdown",
   "metadata": {},
   "source": [
    "We will split costs into two categories: **Fixed costs** and **Variable costs**."
   ]
  },
  {
   "cell_type": "markdown",
   "metadata": {},
   "source": [
    "Fixed Costs are costs associated with fixed factors (or inputs) of production. For example, land for a factory, capital equipment like machinery, etc. The quantity of these inputs cannot be changed quickly in the short term. A factory owner cannot purchase land quickly enough to ramp up production in a week. A key point to note is that fixed costs are irrespective of the quantity, i.e., they do not change with the quantity produced."
   ]
  },
  {
   "cell_type": "markdown",
   "metadata": {},
   "source": [
    "Variable Costs are costs associated with variable factors (or inputs) of production. For example, labor, raw materials, etc. The quantity of these inputs can be changed quickly in the short term to adjust supply. A factory owner can hire more laborers or purchase more raw material to increase output. Variable costs change as the supply changes."
   ]
  },
  {
   "cell_type": "markdown",
   "metadata": {},
   "source": [
    "We will create a table with the following firm costs:\n",
    "\n",
    "* **Output:** Units produced and supplied\n",
    "* **Total Fixed Cost (TFC):** Cost incurred by firm on usage of all fixed factors.\n",
    "* **Total Variable Cost (TVC):** Cost incurred by firm on usage of all variable factors.\n",
    "* **Total Cost (TC):** Sum of the total fixed and variable costs\n",
    "* **Marginal Cost (MC):** Addition to total cost as one more unit of output is produced\n",
    "* **Average Fixed Cost (AFC):** Cost per unit of fixed factors\n",
    "* **Average Variable Cost (AVC):** Cost per unit of variable factors\n",
    "* **Average Total Cost (ATC):** Total cost per unit"
   ]
  },
  {
   "cell_type": "code",
   "execution_count": 5,
   "metadata": {},
   "outputs": [
    {
     "data": {
      "text/html": [
       "<table border=\"1\" class=\"dataframe\">\n",
       "    <thead>\n",
       "        <tr>\n",
       "            <th>Output</th> <th>Total Fixed Cost</th> <th>Total Variable Cost</th>\n",
       "        </tr>\n",
       "    </thead>\n",
       "    <tbody>\n",
       "        <tr>\n",
       "            <td>0     </td> <td>50              </td> <td>0                  </td>\n",
       "        </tr>\n",
       "        <tr>\n",
       "            <td>1     </td> <td>50              </td> <td>50                 </td>\n",
       "        </tr>\n",
       "        <tr>\n",
       "            <td>2     </td> <td>50              </td> <td>78                 </td>\n",
       "        </tr>\n",
       "        <tr>\n",
       "            <td>3     </td> <td>50              </td> <td>98                 </td>\n",
       "        </tr>\n",
       "        <tr>\n",
       "            <td>4     </td> <td>50              </td> <td>112                </td>\n",
       "        </tr>\n",
       "        <tr>\n",
       "            <td>5     </td> <td>50              </td> <td>130                </td>\n",
       "        </tr>\n",
       "        <tr>\n",
       "            <td>6     </td> <td>50              </td> <td>150                </td>\n",
       "        </tr>\n",
       "        <tr>\n",
       "            <td>7     </td> <td>50              </td> <td>175                </td>\n",
       "        </tr>\n",
       "        <tr>\n",
       "            <td>8     </td> <td>50              </td> <td>204                </td>\n",
       "        </tr>\n",
       "        <tr>\n",
       "            <td>9     </td> <td>50              </td> <td>242                </td>\n",
       "        </tr>\n",
       "        <tr>\n",
       "            <td>10    </td> <td>50              </td> <td>300                </td>\n",
       "        </tr>\n",
       "        <tr>\n",
       "            <td>11    </td> <td>50              </td> <td>385                </td>\n",
       "        </tr>\n",
       "    </tbody>\n",
       "</table>"
      ],
      "text/plain": [
       "<IPython.core.display.HTML object>"
      ]
     },
     "metadata": {},
     "output_type": "display_data"
    }
   ],
   "source": [
    "individual_firm_costs = Table.read_table('individual_firm_costs.csv')\n",
    "individual_firm_costs.show()"
   ]
  },
  {
   "cell_type": "markdown",
   "metadata": {},
   "source": [
    "First, let's calculate `total_cost`, which is the sum of total fixed cost and total variable cost."
   ]
  },
  {
   "cell_type": "code",
   "execution_count": 6,
   "metadata": {},
   "outputs": [
    {
     "data": {
      "text/plain": [
       "array([ 50, 100, 128, 148, 162, 180, 200, 225, 254, 292, 350, 435])"
      ]
     },
     "execution_count": 6,
     "metadata": {},
     "output_type": "execute_result"
    }
   ],
   "source": [
    "total_cost = individual_firm_costs.column(\"Total Fixed Cost\") + individual_firm_costs.column(\"Total Variable Cost\")\n",
    "total_cost"
   ]
  },
  {
   "cell_type": "markdown",
   "metadata": {},
   "source": [
    "We will now add the total costs array to the table."
   ]
  },
  {
   "cell_type": "code",
   "execution_count": 7,
   "metadata": {},
   "outputs": [
    {
     "data": {
      "text/html": [
       "<table border=\"1\" class=\"dataframe\">\n",
       "    <thead>\n",
       "        <tr>\n",
       "            <th>Output</th> <th>Total Fixed Cost</th> <th>Total Variable Cost</th> <th>Total Cost</th>\n",
       "        </tr>\n",
       "    </thead>\n",
       "    <tbody>\n",
       "        <tr>\n",
       "            <td>0     </td> <td>50              </td> <td>0                  </td> <td>50        </td>\n",
       "        </tr>\n",
       "        <tr>\n",
       "            <td>1     </td> <td>50              </td> <td>50                 </td> <td>100       </td>\n",
       "        </tr>\n",
       "        <tr>\n",
       "            <td>2     </td> <td>50              </td> <td>78                 </td> <td>128       </td>\n",
       "        </tr>\n",
       "        <tr>\n",
       "            <td>3     </td> <td>50              </td> <td>98                 </td> <td>148       </td>\n",
       "        </tr>\n",
       "        <tr>\n",
       "            <td>4     </td> <td>50              </td> <td>112                </td> <td>162       </td>\n",
       "        </tr>\n",
       "        <tr>\n",
       "            <td>5     </td> <td>50              </td> <td>130                </td> <td>180       </td>\n",
       "        </tr>\n",
       "        <tr>\n",
       "            <td>6     </td> <td>50              </td> <td>150                </td> <td>200       </td>\n",
       "        </tr>\n",
       "        <tr>\n",
       "            <td>7     </td> <td>50              </td> <td>175                </td> <td>225       </td>\n",
       "        </tr>\n",
       "        <tr>\n",
       "            <td>8     </td> <td>50              </td> <td>204                </td> <td>254       </td>\n",
       "        </tr>\n",
       "        <tr>\n",
       "            <td>9     </td> <td>50              </td> <td>242                </td> <td>292       </td>\n",
       "        </tr>\n",
       "    </tbody>\n",
       "</table>\n",
       "<p>... (2 rows omitted)</p>"
      ],
      "text/plain": [
       "Output | Total Fixed Cost | Total Variable Cost | Total Cost\n",
       "0      | 50               | 0                   | 50\n",
       "1      | 50               | 50                  | 100\n",
       "2      | 50               | 78                  | 128\n",
       "3      | 50               | 98                  | 148\n",
       "4      | 50               | 112                 | 162\n",
       "5      | 50               | 130                 | 180\n",
       "6      | 50               | 150                 | 200\n",
       "7      | 50               | 175                 | 225\n",
       "8      | 50               | 204                 | 254\n",
       "9      | 50               | 242                 | 292\n",
       "... (2 rows omitted)"
      ]
     },
     "execution_count": 7,
     "metadata": {},
     "output_type": "execute_result"
    }
   ],
   "source": [
    "individual_firm_costs = individual_firm_costs.with_column(\"Total Cost\", total_cost)\n",
    "individual_firm_costs"
   ]
  },
  {
   "cell_type": "markdown",
   "metadata": {},
   "source": [
    "Average Fixed Cost can be calculated as the Total Fixed Costs divided by the output."
   ]
  },
  {
   "cell_type": "code",
   "execution_count": 8,
   "metadata": {},
   "outputs": [
    {
     "data": {
      "text/plain": [
       "array([ 0.        , 50.        , 25.        , 16.66666667, 12.5       ,\n",
       "       10.        ,  8.33333333,  7.14285714,  6.25      ,  5.55555556,\n",
       "        5.        ,  4.54545455])"
      ]
     },
     "execution_count": 8,
     "metadata": {},
     "output_type": "execute_result"
    }
   ],
   "source": [
    "# At zero level of output, we would by dividing by zero, which is invalid.\n",
    "# So we have to manually fix that\n",
    "average_fixed_cost = individual_firm_costs.column(\"Total Fixed Cost\") / individual_firm_costs.column(\"Output\")\n",
    "average_fixed_cost[0] = 0\n",
    "average_fixed_cost"
   ]
  },
  {
   "cell_type": "markdown",
   "metadata": {},
   "source": [
    "Now we will add the AFC column back into the table."
   ]
  },
  {
   "cell_type": "code",
   "execution_count": 9,
   "metadata": {},
   "outputs": [
    {
     "data": {
      "text/html": [
       "<table border=\"1\" class=\"dataframe\">\n",
       "    <thead>\n",
       "        <tr>\n",
       "            <th>Output</th> <th>Total Fixed Cost</th> <th>Total Variable Cost</th> <th>Total Cost</th> <th>Average Fixed Cost</th>\n",
       "        </tr>\n",
       "    </thead>\n",
       "    <tbody>\n",
       "        <tr>\n",
       "            <td>0     </td> <td>50              </td> <td>0                  </td> <td>50        </td> <td>0                 </td>\n",
       "        </tr>\n",
       "        <tr>\n",
       "            <td>1     </td> <td>50              </td> <td>50                 </td> <td>100       </td> <td>50                </td>\n",
       "        </tr>\n",
       "        <tr>\n",
       "            <td>2     </td> <td>50              </td> <td>78                 </td> <td>128       </td> <td>25                </td>\n",
       "        </tr>\n",
       "        <tr>\n",
       "            <td>3     </td> <td>50              </td> <td>98                 </td> <td>148       </td> <td>16.6667           </td>\n",
       "        </tr>\n",
       "        <tr>\n",
       "            <td>4     </td> <td>50              </td> <td>112                </td> <td>162       </td> <td>12.5              </td>\n",
       "        </tr>\n",
       "        <tr>\n",
       "            <td>5     </td> <td>50              </td> <td>130                </td> <td>180       </td> <td>10                </td>\n",
       "        </tr>\n",
       "        <tr>\n",
       "            <td>6     </td> <td>50              </td> <td>150                </td> <td>200       </td> <td>8.33333           </td>\n",
       "        </tr>\n",
       "        <tr>\n",
       "            <td>7     </td> <td>50              </td> <td>175                </td> <td>225       </td> <td>7.14286           </td>\n",
       "        </tr>\n",
       "        <tr>\n",
       "            <td>8     </td> <td>50              </td> <td>204                </td> <td>254       </td> <td>6.25              </td>\n",
       "        </tr>\n",
       "        <tr>\n",
       "            <td>9     </td> <td>50              </td> <td>242                </td> <td>292       </td> <td>5.55556           </td>\n",
       "        </tr>\n",
       "    </tbody>\n",
       "</table>\n",
       "<p>... (2 rows omitted)</p>"
      ],
      "text/plain": [
       "Output | Total Fixed Cost | Total Variable Cost | Total Cost | Average Fixed Cost\n",
       "0      | 50               | 0                   | 50         | 0\n",
       "1      | 50               | 50                  | 100        | 50\n",
       "2      | 50               | 78                  | 128        | 25\n",
       "3      | 50               | 98                  | 148        | 16.6667\n",
       "4      | 50               | 112                 | 162        | 12.5\n",
       "5      | 50               | 130                 | 180        | 10\n",
       "6      | 50               | 150                 | 200        | 8.33333\n",
       "7      | 50               | 175                 | 225        | 7.14286\n",
       "8      | 50               | 204                 | 254        | 6.25\n",
       "9      | 50               | 242                 | 292        | 5.55556\n",
       "... (2 rows omitted)"
      ]
     },
     "execution_count": 9,
     "metadata": {},
     "output_type": "execute_result"
    }
   ],
   "source": [
    "individual_firm_costs = individual_firm_costs.with_column(\"Average Fixed Cost\", average_fixed_cost)\n",
    "individual_firm_costs"
   ]
  },
  {
   "cell_type": "markdown",
   "metadata": {},
   "source": [
    "Similarly, Average Variable Cost can be calculated as the Total Variable Cost divided by the output."
   ]
  },
  {
   "cell_type": "code",
   "execution_count": 10,
   "metadata": {},
   "outputs": [
    {
     "data": {
      "text/plain": [
       "array([ 0.        , 50.        , 39.        , 32.66666667, 28.        ,\n",
       "       26.        , 25.        , 25.        , 25.5       , 26.88888889,\n",
       "       30.        , 35.        ])"
      ]
     },
     "execution_count": 10,
     "metadata": {},
     "output_type": "execute_result"
    }
   ],
   "source": [
    "average_variable_cost = individual_firm_costs.column(\"Total Variable Cost\")/individual_firm_costs.column(\"Output\")\n",
    "average_variable_cost[0] = 0\n",
    "average_variable_cost"
   ]
  },
  {
   "cell_type": "markdown",
   "metadata": {},
   "source": [
    "Now we will add the AVC column to the table."
   ]
  },
  {
   "cell_type": "code",
   "execution_count": 11,
   "metadata": {},
   "outputs": [
    {
     "data": {
      "text/html": [
       "<table border=\"1\" class=\"dataframe\">\n",
       "    <thead>\n",
       "        <tr>\n",
       "            <th>Output</th> <th>Total Fixed Cost</th> <th>Total Variable Cost</th> <th>Total Cost</th> <th>Average Fixed Cost</th> <th>Average Variable Cost</th>\n",
       "        </tr>\n",
       "    </thead>\n",
       "    <tbody>\n",
       "        <tr>\n",
       "            <td>0     </td> <td>50              </td> <td>0                  </td> <td>50        </td> <td>0                 </td> <td>0                    </td>\n",
       "        </tr>\n",
       "        <tr>\n",
       "            <td>1     </td> <td>50              </td> <td>50                 </td> <td>100       </td> <td>50                </td> <td>50                   </td>\n",
       "        </tr>\n",
       "        <tr>\n",
       "            <td>2     </td> <td>50              </td> <td>78                 </td> <td>128       </td> <td>25                </td> <td>39                   </td>\n",
       "        </tr>\n",
       "        <tr>\n",
       "            <td>3     </td> <td>50              </td> <td>98                 </td> <td>148       </td> <td>16.6667           </td> <td>32.6667              </td>\n",
       "        </tr>\n",
       "        <tr>\n",
       "            <td>4     </td> <td>50              </td> <td>112                </td> <td>162       </td> <td>12.5              </td> <td>28                   </td>\n",
       "        </tr>\n",
       "        <tr>\n",
       "            <td>5     </td> <td>50              </td> <td>130                </td> <td>180       </td> <td>10                </td> <td>26                   </td>\n",
       "        </tr>\n",
       "        <tr>\n",
       "            <td>6     </td> <td>50              </td> <td>150                </td> <td>200       </td> <td>8.33333           </td> <td>25                   </td>\n",
       "        </tr>\n",
       "        <tr>\n",
       "            <td>7     </td> <td>50              </td> <td>175                </td> <td>225       </td> <td>7.14286           </td> <td>25                   </td>\n",
       "        </tr>\n",
       "        <tr>\n",
       "            <td>8     </td> <td>50              </td> <td>204                </td> <td>254       </td> <td>6.25              </td> <td>25.5                 </td>\n",
       "        </tr>\n",
       "        <tr>\n",
       "            <td>9     </td> <td>50              </td> <td>242                </td> <td>292       </td> <td>5.55556           </td> <td>26.8889              </td>\n",
       "        </tr>\n",
       "    </tbody>\n",
       "</table>\n",
       "<p>... (2 rows omitted)</p>"
      ],
      "text/plain": [
       "Output | Total Fixed Cost | Total Variable Cost | Total Cost | Average Fixed Cost | Average Variable Cost\n",
       "0      | 50               | 0                   | 50         | 0                  | 0\n",
       "1      | 50               | 50                  | 100        | 50                 | 50\n",
       "2      | 50               | 78                  | 128        | 25                 | 39\n",
       "3      | 50               | 98                  | 148        | 16.6667            | 32.6667\n",
       "4      | 50               | 112                 | 162        | 12.5               | 28\n",
       "5      | 50               | 130                 | 180        | 10                 | 26\n",
       "6      | 50               | 150                 | 200        | 8.33333            | 25\n",
       "7      | 50               | 175                 | 225        | 7.14286            | 25\n",
       "8      | 50               | 204                 | 254        | 6.25               | 25.5\n",
       "9      | 50               | 242                 | 292        | 5.55556            | 26.8889\n",
       "... (2 rows omitted)"
      ]
     },
     "execution_count": 11,
     "metadata": {},
     "output_type": "execute_result"
    }
   ],
   "source": [
    "individual_firm_costs = individual_firm_costs.with_column(\"Average Variable Cost\", average_variable_cost)\n",
    "individual_firm_costs"
   ]
  },
  {
   "cell_type": "markdown",
   "metadata": {},
   "source": [
    "Similarly, Average Total Cost can be calculated as the Total Cost divided by the output."
   ]
  },
  {
   "cell_type": "code",
   "execution_count": 12,
   "metadata": {},
   "outputs": [
    {
     "data": {
      "text/plain": [
       "array([  0.        , 100.        ,  64.        ,  49.33333333,\n",
       "        40.5       ,  36.        ,  33.33333333,  32.14285714,\n",
       "        31.75      ,  32.44444444,  35.        ,  39.54545455])"
      ]
     },
     "execution_count": 12,
     "metadata": {},
     "output_type": "execute_result"
    }
   ],
   "source": [
    "average_total_cost = individual_firm_costs.column(\"Total Cost\")/individual_firm_costs.column(\"Output\")\n",
    "average_total_cost[0] = 0\n",
    "average_total_cost"
   ]
  },
  {
   "cell_type": "code",
   "execution_count": 13,
   "metadata": {},
   "outputs": [
    {
     "data": {
      "text/html": [
       "<table border=\"1\" class=\"dataframe\">\n",
       "    <thead>\n",
       "        <tr>\n",
       "            <th>Output</th> <th>Total Fixed Cost</th> <th>Total Variable Cost</th> <th>Total Cost</th> <th>Average Fixed Cost</th> <th>Average Variable Cost</th> <th>Average Total Cost</th>\n",
       "        </tr>\n",
       "    </thead>\n",
       "    <tbody>\n",
       "        <tr>\n",
       "            <td>0     </td> <td>50              </td> <td>0                  </td> <td>50        </td> <td>0                 </td> <td>0                    </td> <td>0                 </td>\n",
       "        </tr>\n",
       "        <tr>\n",
       "            <td>1     </td> <td>50              </td> <td>50                 </td> <td>100       </td> <td>50                </td> <td>50                   </td> <td>100               </td>\n",
       "        </tr>\n",
       "        <tr>\n",
       "            <td>2     </td> <td>50              </td> <td>78                 </td> <td>128       </td> <td>25                </td> <td>39                   </td> <td>64                </td>\n",
       "        </tr>\n",
       "        <tr>\n",
       "            <td>3     </td> <td>50              </td> <td>98                 </td> <td>148       </td> <td>16.6667           </td> <td>32.6667              </td> <td>49.3333           </td>\n",
       "        </tr>\n",
       "        <tr>\n",
       "            <td>4     </td> <td>50              </td> <td>112                </td> <td>162       </td> <td>12.5              </td> <td>28                   </td> <td>40.5              </td>\n",
       "        </tr>\n",
       "        <tr>\n",
       "            <td>5     </td> <td>50              </td> <td>130                </td> <td>180       </td> <td>10                </td> <td>26                   </td> <td>36                </td>\n",
       "        </tr>\n",
       "        <tr>\n",
       "            <td>6     </td> <td>50              </td> <td>150                </td> <td>200       </td> <td>8.33333           </td> <td>25                   </td> <td>33.3333           </td>\n",
       "        </tr>\n",
       "        <tr>\n",
       "            <td>7     </td> <td>50              </td> <td>175                </td> <td>225       </td> <td>7.14286           </td> <td>25                   </td> <td>32.1429           </td>\n",
       "        </tr>\n",
       "        <tr>\n",
       "            <td>8     </td> <td>50              </td> <td>204                </td> <td>254       </td> <td>6.25              </td> <td>25.5                 </td> <td>31.75             </td>\n",
       "        </tr>\n",
       "        <tr>\n",
       "            <td>9     </td> <td>50              </td> <td>242                </td> <td>292       </td> <td>5.55556           </td> <td>26.8889              </td> <td>32.4444           </td>\n",
       "        </tr>\n",
       "    </tbody>\n",
       "</table>\n",
       "<p>... (2 rows omitted)</p>"
      ],
      "text/plain": [
       "Output | Total Fixed Cost | Total Variable Cost | Total Cost | Average Fixed Cost | Average Variable Cost | Average Total Cost\n",
       "0      | 50               | 0                   | 50         | 0                  | 0                     | 0\n",
       "1      | 50               | 50                  | 100        | 50                 | 50                    | 100\n",
       "2      | 50               | 78                  | 128        | 25                 | 39                    | 64\n",
       "3      | 50               | 98                  | 148        | 16.6667            | 32.6667               | 49.3333\n",
       "4      | 50               | 112                 | 162        | 12.5               | 28                    | 40.5\n",
       "5      | 50               | 130                 | 180        | 10                 | 26                    | 36\n",
       "6      | 50               | 150                 | 200        | 8.33333            | 25                    | 33.3333\n",
       "7      | 50               | 175                 | 225        | 7.14286            | 25                    | 32.1429\n",
       "8      | 50               | 204                 | 254        | 6.25               | 25.5                  | 31.75\n",
       "9      | 50               | 242                 | 292        | 5.55556            | 26.8889               | 32.4444\n",
       "... (2 rows omitted)"
      ]
     },
     "execution_count": 13,
     "metadata": {},
     "output_type": "execute_result"
    }
   ],
   "source": [
    "individual_firm_costs = individual_firm_costs.with_column(\"Average Total Cost\", average_total_cost)\n",
    "individual_firm_costs"
   ]
  },
  {
   "cell_type": "markdown",
   "metadata": {},
   "source": [
    "Marginal Cost can be calculated as the difference between Total Cost at the current output level and Total Cost at the previous output level (or TVC, as TFC is fixed).\n",
    "\n",
    "For this we are going to use the function `np.diff`. You can read about it on http://data8.org/sp19/python-reference.html"
   ]
  },
  {
   "cell_type": "code",
   "execution_count": 14,
   "metadata": {},
   "outputs": [
    {
     "data": {
      "text/plain": [
       "array([ 0, 50, 28, 20, 14, 18, 20, 25, 29, 38, 58, 85])"
      ]
     },
     "execution_count": 14,
     "metadata": {},
     "output_type": "execute_result"
    }
   ],
   "source": [
    "marginal_cost = np.diff(total_cost)\n",
    "marginal_cost = np.append(make_array(0), marginal_cost)\n",
    "marginal_cost"
   ]
  },
  {
   "cell_type": "markdown",
   "metadata": {},
   "source": [
    "Once again, we add the MC column back to the table."
   ]
  },
  {
   "cell_type": "code",
   "execution_count": 15,
   "metadata": {},
   "outputs": [
    {
     "data": {
      "text/html": [
       "<table border=\"1\" class=\"dataframe\">\n",
       "    <thead>\n",
       "        <tr>\n",
       "            <th>Output</th> <th>Total Fixed Cost</th> <th>Total Variable Cost</th> <th>Total Cost</th> <th>Average Fixed Cost</th> <th>Average Variable Cost</th> <th>Average Total Cost</th> <th>Marginal Cost</th>\n",
       "        </tr>\n",
       "    </thead>\n",
       "    <tbody>\n",
       "        <tr>\n",
       "            <td>0     </td> <td>50              </td> <td>0                  </td> <td>50        </td> <td>0                 </td> <td>0                    </td> <td>0                 </td> <td>0            </td>\n",
       "        </tr>\n",
       "        <tr>\n",
       "            <td>1     </td> <td>50              </td> <td>50                 </td> <td>100       </td> <td>50                </td> <td>50                   </td> <td>100               </td> <td>50           </td>\n",
       "        </tr>\n",
       "        <tr>\n",
       "            <td>2     </td> <td>50              </td> <td>78                 </td> <td>128       </td> <td>25                </td> <td>39                   </td> <td>64                </td> <td>28           </td>\n",
       "        </tr>\n",
       "        <tr>\n",
       "            <td>3     </td> <td>50              </td> <td>98                 </td> <td>148       </td> <td>16.6667           </td> <td>32.6667              </td> <td>49.3333           </td> <td>20           </td>\n",
       "        </tr>\n",
       "        <tr>\n",
       "            <td>4     </td> <td>50              </td> <td>112                </td> <td>162       </td> <td>12.5              </td> <td>28                   </td> <td>40.5              </td> <td>14           </td>\n",
       "        </tr>\n",
       "        <tr>\n",
       "            <td>5     </td> <td>50              </td> <td>130                </td> <td>180       </td> <td>10                </td> <td>26                   </td> <td>36                </td> <td>18           </td>\n",
       "        </tr>\n",
       "        <tr>\n",
       "            <td>6     </td> <td>50              </td> <td>150                </td> <td>200       </td> <td>8.33333           </td> <td>25                   </td> <td>33.3333           </td> <td>20           </td>\n",
       "        </tr>\n",
       "        <tr>\n",
       "            <td>7     </td> <td>50              </td> <td>175                </td> <td>225       </td> <td>7.14286           </td> <td>25                   </td> <td>32.1429           </td> <td>25           </td>\n",
       "        </tr>\n",
       "        <tr>\n",
       "            <td>8     </td> <td>50              </td> <td>204                </td> <td>254       </td> <td>6.25              </td> <td>25.5                 </td> <td>31.75             </td> <td>29           </td>\n",
       "        </tr>\n",
       "        <tr>\n",
       "            <td>9     </td> <td>50              </td> <td>242                </td> <td>292       </td> <td>5.55556           </td> <td>26.8889              </td> <td>32.4444           </td> <td>38           </td>\n",
       "        </tr>\n",
       "    </tbody>\n",
       "</table>\n",
       "<p>... (2 rows omitted)</p>"
      ],
      "text/plain": [
       "Output | Total Fixed Cost | Total Variable Cost | Total Cost | Average Fixed Cost | Average Variable Cost | Average Total Cost | Marginal Cost\n",
       "0      | 50               | 0                   | 50         | 0                  | 0                     | 0                  | 0\n",
       "1      | 50               | 50                  | 100        | 50                 | 50                    | 100                | 50\n",
       "2      | 50               | 78                  | 128        | 25                 | 39                    | 64                 | 28\n",
       "3      | 50               | 98                  | 148        | 16.6667            | 32.6667               | 49.3333            | 20\n",
       "4      | 50               | 112                 | 162        | 12.5               | 28                    | 40.5               | 14\n",
       "5      | 50               | 130                 | 180        | 10                 | 26                    | 36                 | 18\n",
       "6      | 50               | 150                 | 200        | 8.33333            | 25                    | 33.3333            | 20\n",
       "7      | 50               | 175                 | 225        | 7.14286            | 25                    | 32.1429            | 25\n",
       "8      | 50               | 204                 | 254        | 6.25               | 25.5                  | 31.75              | 29\n",
       "9      | 50               | 242                 | 292        | 5.55556            | 26.8889               | 32.4444            | 38\n",
       "... (2 rows omitted)"
      ]
     },
     "execution_count": 15,
     "metadata": {},
     "output_type": "execute_result"
    }
   ],
   "source": [
    "individual_firm_costs = individual_firm_costs.with_column(\"Marginal Cost\", marginal_cost)\n",
    "individual_firm_costs"
   ]
  },
  {
   "cell_type": "markdown",
   "metadata": {},
   "source": [
    "Let's look at some plots!"
   ]
  },
  {
   "cell_type": "code",
   "execution_count": 16,
   "metadata": {},
   "outputs": [
    {
     "data": {
      "image/png": "[encoded data removed]",
      "text/plain": [
       "<Figure size 432x288 with 1 Axes>"
      ]
     },
     "metadata": {
      "needs_background": "light"
     },
     "output_type": "display_data"
    }
   ],
   "source": [
    "plt.plot(individual_firm_costs.column(\"Output\"), individual_firm_costs.column(\"Total Fixed Cost\"), marker='o')\n",
    "plt.plot(individual_firm_costs.column(\"Output\"), individual_firm_costs.column(\"Total Variable Cost\"), marker='o')\n",
    "plt.plot(individual_firm_costs.column(\"Output\"), individual_firm_costs.column(\"Total Cost\"), marker='o')\n",
    "plt.xlabel('Quantity')\n",
    "plt.ylabel('Cost')\n",
    "plt.title('TFC, TVC and TC')\n",
    "plt.legend(make_array(\"Total Fixed Cost\",\"Total Variable Cost\",\"Total Cost\"))\n",
    "\n",
    "plt.show()"
   ]
  },
  {
   "cell_type": "markdown",
   "metadata": {},
   "source": [
    "What have we observed?\n",
    "\n",
    "1. TFC is flat\n",
    "2. Vertical difference between TVC and TC is TFC, which is constant"
   ]
  },
  {
   "cell_type": "code",
   "execution_count": 17,
   "metadata": {},
   "outputs": [
    {
     "data": {
      "image/png": "[encoded data removed]",
      "text/plain": [
       "<Figure size 432x288 with 1 Axes>"
      ]
     },
     "metadata": {
      "needs_background": "light"
     },
     "output_type": "display_data"
    }
   ],
   "source": [
    "plt.plot(individual_firm_costs.column(\"Output\")[1:], individual_firm_costs.column(\"Average Fixed Cost\")[1:], marker='o')\n",
    "plt.plot(individual_firm_costs.column(\"Output\")[1:], individual_firm_costs.column(\"Average Variable Cost\")[1:], marker='o')\n",
    "plt.plot(individual_firm_costs.column(\"Output\")[1:], individual_firm_costs.column(\"Average Total Cost\")[1:], marker='o')\n",
    "plt.xlabel('Quantity')\n",
    "plt.ylabel('Cost')\n",
    "plt.title('AFC, AVC and ATC')\n",
    "plt.legend(make_array(\"Average Fixed Cost\",\"Average Variable Cost\",\"Average Total Cost\"))\n",
    "\n",
    "plt.show()"
   ]
  },
  {
   "cell_type": "code",
   "execution_count": 18,
   "metadata": {},
   "outputs": [
    {
     "data": {
      "image/png": "[encoded data removed]",
      "text/plain": [
       "<Figure size 432x288 with 1 Axes>"
      ]
     },
     "metadata": {
      "needs_background": "light"
     },
     "output_type": "display_data"
    }
   ],
   "source": [
    "# You do not need to understand what the code below is doing. \n",
    "output = individual_firm_costs.column(\"Output\")[1:]\n",
    "mc = individual_firm_costs.column(\"Marginal Cost\")[1:]\n",
    "avc = individual_firm_costs.column(\"Average Variable Cost\")[1:]\n",
    "atc = individual_firm_costs.column(\"Average Total Cost\")[1:]\n",
    "\n",
    "sp_mc = csaps(output, mc, smooth=0.85)\n",
    "sp_avc = csaps(output, avc, smooth=0.85)\n",
    "sp_atc = csaps(output, atc, smooth=0.85)\n",
    "\n",
    "output_s = np.linspace(output.min(), output.max(), 150)\n",
    "mc_s = sp_mc(output_s)\n",
    "avc_s = sp_avc(output_s)\n",
    "atc_s = sp_atc(output_s)\n",
    "\n",
    "plt.plot(output, mc, marker = 'o', color = 'tab:blue')\n",
    "plt.plot(output_s, mc_s, alpha=0.7, lw = 2, label='_nolegend_', color = 'tab:blue')\n",
    "plt.plot(output, avc, marker = 'o', color = 'tab:green')\n",
    "plt.plot(output_s, avc_s, alpha=0.7, lw = 2, label='_nolegend_', color = 'tab:green')\n",
    "plt.plot(output, atc, marker = 'o', color = 'tab:orange')\n",
    "plt.plot(output_s, atc_s, alpha=0.7, lw = 2, label='_nolegend_', color = 'tab:orange')\n",
    "plt.hlines(y=min(avc), xmin = 6, xmax = 8, lw=3, color='r', zorder = 10)\n",
    "plt.hlines(y=min(atc), xmin = 7.5, xmax = 9.5, lw=3, color='r', zorder = 10)\n",
    "plt.xlabel('Quantity')\n",
    "plt.ylabel('Cost')\n",
    "plt.title('MC, AVC and ATC')\n",
    "plt.legend(make_array(\"Marginal Cost\",\"Average Variable Cost\",\"Average Total Cost\"))\n",
    "\n",
    "plt.show()"
   ]
  },
  {
   "cell_type": "markdown",
   "metadata": {},
   "source": [
    "Notice something important: _A company decides to produce if it the price is greater than or equal to its Average Variable Cost._\n",
    "\n",
    "There are 3 different scenarios:\n",
    "1. A firm chooses to not produce at all\n",
    "2. A firm chooses to produce at a loss (minimizing quantity)\n",
    "3. A firm chooses to produce at a profit. \n",
    "\n",
    "Play around with the slider to see them."
   ]
  },
  {
   "cell_type": "code",
   "execution_count": 19,
   "metadata": {},
   "outputs": [
    {
     "data": {
      "application/vnd.jupyter.widget-view+json": {
       "model_id": "67cbb3c090584f8da4ebc101732a52fe",
       "version_major": 2,
       "version_minor": 0
      },
      "text/plain": [
       "interactive(children=(IntSlider(value=25, description='price', max=60, min=20), Output()), _dom_classes=('widg…"
      ]
     },
     "metadata": {},
     "output_type": "display_data"
    }
   ],
   "source": [
    "interact(lambda price: firm_behaviour(price, individual_firm_costs), price=widgets.IntSlider(min=20,max=60,step=1,value=25));"
   ]
  },
  {
   "cell_type": "markdown",
   "metadata": {},
   "source": [
    "In the above example if the price is 24 for any amount of production, the firm will lose money. In this case, they shut down and the loss is limited to its fixed costs.\n",
    "\n",
    "If the price is above the minimum of the AVC (25 in the example), for some amount of production, the firm will maximise its profits (i.e. minimise its losses). Profits are Total Revenue minus Total Costs, where Total Revenue is Price times Quantity."
   ]
  },
  {
   "cell_type": "markdown",
   "metadata": {},
   "source": [
    "Therefore, based on the price, each firm looks at its costs and makes a decision on whether to produce. At low prices, only the firms with the lowest production costs produce. As the price increases, firms with higher production costs find it feasible to produce and begin to supply. Thus, the market supply rises with higher prices. Firms with lower costs make extra profits. "
   ]
  },
  {
   "cell_type": "markdown",
   "metadata": {},
   "source": [
    "### Let's look at a real life example! This comes from **EEP 147 Regulation of Energy and the Environment**. "
   ]
  },
  {
   "cell_type": "code",
   "execution_count": 20,
   "metadata": {},
   "outputs": [],
   "source": [
    "ESG_table = Table.read_table('ESGPorfolios_forcsv.csv').select(\n",
    "    \"Group\", \"Group_num\", \"UNIT NAME\", \"Capacity_MW\", \"Total_Var_Cost_USDperMWH\").sort(\n",
    "    \"Total_Var_Cost_USDperMWH\", descending = False).relabel(4, \"Average Variable Cost\")"
   ]
  },
  {
   "cell_type": "code",
   "execution_count": 21,
   "metadata": {},
   "outputs": [
    {
     "data": {
      "text/html": [
       "<table border=\"1\" class=\"dataframe\">\n",
       "    <thead>\n",
       "        <tr>\n",
       "            <th>Group</th> <th>Group_num</th> <th>UNIT NAME</th> <th>Capacity_MW</th> <th>Average Variable Cost</th>\n",
       "        </tr>\n",
       "    </thead>\n",
       "    <tbody>\n",
       "        <tr>\n",
       "            <td>Old Timers  </td> <td>7        </td> <td>BIG CREEK      </td> <td>1000       </td> <td>0                    </td>\n",
       "        </tr>\n",
       "        <tr>\n",
       "            <td>Fossil Light</td> <td>8        </td> <td>HELMS          </td> <td>800        </td> <td>0.5                  </td>\n",
       "        </tr>\n",
       "        <tr>\n",
       "            <td>Fossil Light</td> <td>8        </td> <td>DIABLO CANYON 1</td> <td>1000       </td> <td>11.5                 </td>\n",
       "        </tr>\n",
       "        <tr>\n",
       "            <td>Bay Views   </td> <td>4        </td> <td>MOSS LANDING 6 </td> <td>750        </td> <td>32.56                </td>\n",
       "        </tr>\n",
       "        <tr>\n",
       "            <td>Bay Views   </td> <td>4        </td> <td>MOSS LANDING 7 </td> <td>750        </td> <td>32.56                </td>\n",
       "        </tr>\n",
       "        <tr>\n",
       "            <td>Old Timers  </td> <td>7        </td> <td>MOHAVE 1       </td> <td>750        </td> <td>34.5                 </td>\n",
       "        </tr>\n",
       "        <tr>\n",
       "            <td>Old Timers  </td> <td>7        </td> <td>MOHAVE 2       </td> <td>750        </td> <td>34.5                 </td>\n",
       "        </tr>\n",
       "        <tr>\n",
       "            <td>Big Coal    </td> <td>1        </td> <td>FOUR CORNERS   </td> <td>1900       </td> <td>36.5                 </td>\n",
       "        </tr>\n",
       "        <tr>\n",
       "            <td>Bay Views   </td> <td>4        </td> <td>MORRO BAY 3&4  </td> <td>665        </td> <td>36.61                </td>\n",
       "        </tr>\n",
       "        <tr>\n",
       "            <td>East Bay    </td> <td>6        </td> <td>PITTSBURGH 5&6 </td> <td>650        </td> <td>36.61                </td>\n",
       "        </tr>\n",
       "    </tbody>\n",
       "</table>\n",
       "<p>... (32 rows omitted)</p>"
      ],
      "text/plain": [
       "Group        | Group_num | UNIT NAME       | Capacity_MW | Average Variable Cost\n",
       "Old Timers   | 7         | BIG CREEK       | 1000        | 0\n",
       "Fossil Light | 8         | HELMS           | 800         | 0.5\n",
       "Fossil Light | 8         | DIABLO CANYON 1 | 1000        | 11.5\n",
       "Bay Views    | 4         | MOSS LANDING 6  | 750         | 32.56\n",
       "Bay Views    | 4         | MOSS LANDING 7  | 750         | 32.56\n",
       "Old Timers   | 7         | MOHAVE 1        | 750         | 34.5\n",
       "Old Timers   | 7         | MOHAVE 2        | 750         | 34.5\n",
       "Big Coal     | 1         | FOUR CORNERS    | 1900        | 36.5\n",
       "Bay Views    | 4         | MORRO BAY 3&4   | 665         | 36.61\n",
       "East Bay     | 6         | PITTSBURGH 5&6  | 650         | 36.61\n",
       "... (32 rows omitted)"
      ]
     },
     "execution_count": 21,
     "metadata": {},
     "output_type": "execute_result"
    }
   ],
   "source": [
    "ESG_table"
   ]
  },
  {
   "cell_type": "markdown",
   "metadata": {},
   "source": [
    "This table shows some electricity generation plants in California and their costs. The Capacity is the output the firm is capable of producing. The Average Variable Cost shows the minimum variable cost per MW produced. At a price below AVC, the firm supplies nothing. At a price above the AVC, the firm can supply up to its capacity. Being a profit-maximising firm, it will try to supply its full capacity."
   ]
  },
  {
   "cell_type": "markdown",
   "metadata": {},
   "source": [
    "First, let's look at just the Big Coal producers, a portfolio of electricity producing plants, and understand the data."
   ]
  },
  {
   "cell_type": "code",
   "execution_count": 22,
   "metadata": {},
   "outputs": [],
   "source": [
    "selection = 'Big Coal'\n",
    "Group = ESG_table.where(\"Group\", selection)"
   ]
  },
  {
   "cell_type": "code",
   "execution_count": 23,
   "metadata": {},
   "outputs": [
    {
     "data": {
      "text/html": [
       "<table border=\"1\" class=\"dataframe\">\n",
       "    <thead>\n",
       "        <tr>\n",
       "            <th>Group</th> <th>Group_num</th> <th>UNIT NAME</th> <th>Capacity_MW</th> <th>Average Variable Cost</th>\n",
       "        </tr>\n",
       "    </thead>\n",
       "    <tbody>\n",
       "        <tr>\n",
       "            <td>Big Coal</td> <td>1        </td> <td>FOUR CORNERS        </td> <td>1900       </td> <td>36.5                 </td>\n",
       "        </tr>\n",
       "        <tr>\n",
       "            <td>Big Coal</td> <td>1        </td> <td>HUNTINGTON BEACH 1&2</td> <td>300        </td> <td>40.5                 </td>\n",
       "        </tr>\n",
       "        <tr>\n",
       "            <td>Big Coal</td> <td>1        </td> <td>REDONDO 5&6         </td> <td>350        </td> <td>41.94                </td>\n",
       "        </tr>\n",
       "        <tr>\n",
       "            <td>Big Coal</td> <td>1        </td> <td>REDONDO 7&8         </td> <td>950        </td> <td>41.94                </td>\n",
       "        </tr>\n",
       "        <tr>\n",
       "            <td>Big Coal</td> <td>1        </td> <td>HUNTINGTON BEACH 5  </td> <td>150        </td> <td>66.5                 </td>\n",
       "        </tr>\n",
       "        <tr>\n",
       "            <td>Big Coal</td> <td>1        </td> <td>ALAMITOS 7          </td> <td>250        </td> <td>73.72                </td>\n",
       "        </tr>\n",
       "    </tbody>\n",
       "</table>"
      ],
      "text/plain": [
       "Group    | Group_num | UNIT NAME            | Capacity_MW | Average Variable Cost\n",
       "Big Coal | 1         | FOUR CORNERS         | 1900        | 36.5\n",
       "Big Coal | 1         | HUNTINGTON BEACH 1&2 | 300         | 40.5\n",
       "Big Coal | 1         | REDONDO 5&6          | 350         | 41.94\n",
       "Big Coal | 1         | REDONDO 7&8          | 950         | 41.94\n",
       "Big Coal | 1         | HUNTINGTON BEACH 5   | 150         | 66.5\n",
       "Big Coal | 1         | ALAMITOS 7           | 250         | 73.72"
      ]
     },
     "execution_count": 23,
     "metadata": {},
     "output_type": "execute_result"
    }
   ],
   "source": [
    "Group"
   ]
  },
  {
   "cell_type": "code",
   "execution_count": 24,
   "metadata": {},
   "outputs": [
    {
     "data": {
      "image/png": "[encoded data removed]",
      "text/plain": [
       "<Figure size 648x432 with 1 Axes>"
      ]
     },
     "metadata": {
      "needs_background": "light"
     },
     "output_type": "display_data"
    }
   ],
   "source": [
    "# Make the plot\n",
    "plt.figure(figsize=(9,6))\n",
    "plt.bar(new_x_group, height_group, width=width_group, edgecolor = \"black\")\n",
    "# Add title and axis names\n",
    "plt.title(selection)\n",
    "plt.xlabel('Capacity_MW')\n",
    "plt.ylabel('Variable Cost/Price')\n",
    "\n",
    "plt.show()"
   ]
  },
  {
   "cell_type": "markdown",
   "metadata": {},
   "source": [
    "This figure is the Big Coal Supply curve. It shows the price of electricity, and the quantity supplied at those prices (which depends on Variable Cost). For example, at any Variable Cost at or above 36.5, the producer FOUR CORNERS\t(the one with the lowest production costs) will supply, and so on.\n",
    "\n",
    "Let's interact with it by changing the market price."
   ]
  },
  {
   "cell_type": "code",
   "execution_count": 25,
   "metadata": {},
   "outputs": [
    {
     "data": {
      "application/vnd.jupyter.widget-view+json": {
       "model_id": "bf51e5d15e9d4f5ea7c1e40150133eff",
       "version_major": 2,
       "version_minor": 0
      },
      "text/plain": [
       "interactive(children=(IntSlider(value=37, description='price', max=80, min=20), Output()), _dom_classes=('widg…"
      ]
     },
     "metadata": {},
     "output_type": "display_data"
    }
   ],
   "source": [
    "interact(group_plot, price=widgets.IntSlider(min=20,max=80,step=1,value=37));"
   ]
  },
  {
   "cell_type": "markdown",
   "metadata": {},
   "source": [
    "We are going to repeat the same process, this time for all the energy sources. They have been colored according to production group."
   ]
  },
  {
   "cell_type": "code",
   "execution_count": 26,
   "metadata": {},
   "outputs": [
    {
     "data": {
      "application/vnd.jupyter.widget-view+json": {
       "model_id": "904ad0de03374d68950362d73cf7940b",
       "version_major": 2,
       "version_minor": 0
      },
      "text/plain": [
       "interactive(children=(IntSlider(value=37, description='price', max=90), Output()), _dom_classes=('widget-inter…"
      ]
     },
     "metadata": {},
     "output_type": "display_data"
    }
   ],
   "source": [
    "interact(ESG_plot, price=widgets.IntSlider(min=0,max=90,step=1,value=37));"
   ]
  },
  {
   "cell_type": "markdown",
   "metadata": {},
   "source": [
    "### Energy manipulation for profit (In class demo)"
   ]
  },
  {
   "cell_type": "code",
   "execution_count": 27,
   "metadata": {},
   "outputs": [],
   "source": [
    "def modified_profit(price, tbl):\n",
    "    tbl = tbl.where(\"Average Variable Cost\", are.below_or_equal_to(price))\n",
    "    profit_per_unit = price - tbl.column(\"Average Variable Cost\") \n",
    "    profit_per_plant = profit_per_unit * tbl.column(\"Capacity_MW\")\n",
    "    tbl = tbl.with_columns(\"profit_per_unit\", profit_per_unit, \n",
    "                          \"profit_per_plant\", profit_per_plant)\n",
    "    print(\"Price\", price)\n",
    "    print(\"Total Profit\", sum(profit_per_plant))\n",
    "    return tbl"
   ]
  },
  {
   "cell_type": "code",
   "execution_count": 28,
   "metadata": {},
   "outputs": [
    {
     "data": {
      "text/html": [
       "<table border=\"1\" class=\"dataframe\">\n",
       "    <thead>\n",
       "        <tr>\n",
       "            <th>Group</th> <th>Group_num</th> <th>UNIT NAME</th> <th>Capacity_MW</th> <th>Average Variable Cost</th>\n",
       "        </tr>\n",
       "    </thead>\n",
       "    <tbody>\n",
       "        <tr>\n",
       "            <td>Big Coal</td> <td>1        </td> <td>FOUR CORNERS        </td> <td>1900       </td> <td>36.5                 </td>\n",
       "        </tr>\n",
       "        <tr>\n",
       "            <td>Big Coal</td> <td>1        </td> <td>HUNTINGTON BEACH 1&2</td> <td>300        </td> <td>40.5                 </td>\n",
       "        </tr>\n",
       "        <tr>\n",
       "            <td>Big Coal</td> <td>1        </td> <td>REDONDO 5&6         </td> <td>350        </td> <td>41.94                </td>\n",
       "        </tr>\n",
       "        <tr>\n",
       "            <td>Big Coal</td> <td>1        </td> <td>REDONDO 7&8         </td> <td>950        </td> <td>41.94                </td>\n",
       "        </tr>\n",
       "        <tr>\n",
       "            <td>Big Coal</td> <td>1        </td> <td>HUNTINGTON BEACH 5  </td> <td>150        </td> <td>66.5                 </td>\n",
       "        </tr>\n",
       "        <tr>\n",
       "            <td>Big Coal</td> <td>1        </td> <td>ALAMITOS 7          </td> <td>250        </td> <td>73.72                </td>\n",
       "        </tr>\n",
       "    </tbody>\n",
       "</table>"
      ],
      "text/plain": [
       "Group    | Group_num | UNIT NAME            | Capacity_MW | Average Variable Cost\n",
       "Big Coal | 1         | FOUR CORNERS         | 1900        | 36.5\n",
       "Big Coal | 1         | HUNTINGTON BEACH 1&2 | 300         | 40.5\n",
       "Big Coal | 1         | REDONDO 5&6          | 350         | 41.94\n",
       "Big Coal | 1         | REDONDO 7&8          | 950         | 41.94\n",
       "Big Coal | 1         | HUNTINGTON BEACH 5   | 150         | 66.5\n",
       "Big Coal | 1         | ALAMITOS 7           | 250         | 73.72"
      ]
     },
     "execution_count": 28,
     "metadata": {},
     "output_type": "execute_result"
    }
   ],
   "source": [
    "Group"
   ]
  },
  {
   "cell_type": "code",
   "execution_count": 29,
   "metadata": {},
   "outputs": [
    {
     "name": "stdout",
     "output_type": "stream",
     "text": [
      "Price 45\n",
      "Total Profit 21478.000000000004\n"
     ]
    },
    {
     "data": {
      "text/html": [
       "<table border=\"1\" class=\"dataframe\">\n",
       "    <thead>\n",
       "        <tr>\n",
       "            <th>Group</th> <th>Group_num</th> <th>UNIT NAME</th> <th>Capacity_MW</th> <th>Average Variable Cost</th> <th>profit_per_unit</th> <th>profit_per_plant</th>\n",
       "        </tr>\n",
       "    </thead>\n",
       "    <tbody>\n",
       "        <tr>\n",
       "            <td>Big Coal</td> <td>1        </td> <td>FOUR CORNERS        </td> <td>1900       </td> <td>36.5                 </td> <td>8.5            </td> <td>16150           </td>\n",
       "        </tr>\n",
       "        <tr>\n",
       "            <td>Big Coal</td> <td>1        </td> <td>HUNTINGTON BEACH 1&2</td> <td>300        </td> <td>40.5                 </td> <td>4.5            </td> <td>1350            </td>\n",
       "        </tr>\n",
       "        <tr>\n",
       "            <td>Big Coal</td> <td>1        </td> <td>REDONDO 5&6         </td> <td>350        </td> <td>41.94                </td> <td>3.06           </td> <td>1071            </td>\n",
       "        </tr>\n",
       "        <tr>\n",
       "            <td>Big Coal</td> <td>1        </td> <td>REDONDO 7&8         </td> <td>950        </td> <td>41.94                </td> <td>3.06           </td> <td>2907            </td>\n",
       "        </tr>\n",
       "    </tbody>\n",
       "</table>"
      ],
      "text/plain": [
       "Group    | Group_num | UNIT NAME            | Capacity_MW | Average Variable Cost | profit_per_unit | profit_per_plant\n",
       "Big Coal | 1         | FOUR CORNERS         | 1900        | 36.5                  | 8.5             | 16150\n",
       "Big Coal | 1         | HUNTINGTON BEACH 1&2 | 300         | 40.5                  | 4.5             | 1350\n",
       "Big Coal | 1         | REDONDO 5&6          | 350         | 41.94                 | 3.06            | 1071\n",
       "Big Coal | 1         | REDONDO 7&8          | 950         | 41.94                 | 3.06            | 2907"
      ]
     },
     "execution_count": 29,
     "metadata": {},
     "output_type": "execute_result"
    }
   ],
   "source": [
    "modified_profit(45, Group)"
   ]
  },
  {
   "cell_type": "code",
   "execution_count": 30,
   "metadata": {},
   "outputs": [
    {
     "data": {
      "text/html": [
       "<table border=\"1\" class=\"dataframe\">\n",
       "    <thead>\n",
       "        <tr>\n",
       "            <th>Group</th> <th>Group_num</th> <th>UNIT NAME</th> <th>Capacity_MW</th> <th>Average Variable Cost</th>\n",
       "        </tr>\n",
       "    </thead>\n",
       "    <tbody>\n",
       "        <tr>\n",
       "            <td>Big Coal</td> <td>1        </td> <td>FOUR CORNERS      </td> <td>1900       </td> <td>36.5                 </td>\n",
       "        </tr>\n",
       "        <tr>\n",
       "            <td>Big Coal</td> <td>1        </td> <td>REDONDO 5&6       </td> <td>350        </td> <td>41.94                </td>\n",
       "        </tr>\n",
       "        <tr>\n",
       "            <td>Big Coal</td> <td>1        </td> <td>REDONDO 7&8       </td> <td>950        </td> <td>41.94                </td>\n",
       "        </tr>\n",
       "        <tr>\n",
       "            <td>Big Coal</td> <td>1        </td> <td>HUNTINGTON BEACH 5</td> <td>150        </td> <td>66.5                 </td>\n",
       "        </tr>\n",
       "        <tr>\n",
       "            <td>Big Coal</td> <td>1        </td> <td>ALAMITOS 7        </td> <td>250        </td> <td>73.72                </td>\n",
       "        </tr>\n",
       "    </tbody>\n",
       "</table>"
      ],
      "text/plain": [
       "Group    | Group_num | UNIT NAME          | Capacity_MW | Average Variable Cost\n",
       "Big Coal | 1         | FOUR CORNERS       | 1900        | 36.5\n",
       "Big Coal | 1         | REDONDO 5&6        | 350         | 41.94\n",
       "Big Coal | 1         | REDONDO 7&8        | 950         | 41.94\n",
       "Big Coal | 1         | HUNTINGTON BEACH 5 | 150         | 66.5\n",
       "Big Coal | 1         | ALAMITOS 7         | 250         | 73.72"
      ]
     },
     "execution_count": 30,
     "metadata": {},
     "output_type": "execute_result"
    }
   ],
   "source": [
    "Group_wo_hun = Group.take(make_array(0,2,3, 4,5))\n",
    "Group_wo_hun"
   ]
  },
  {
   "cell_type": "code",
   "execution_count": 31,
   "metadata": {},
   "outputs": [
    {
     "data": {
      "application/vnd.jupyter.widget-view+json": {
       "model_id": "dafa47901bf049f3a2899be59bd66cb2",
       "version_major": 2,
       "version_minor": 0
      },
      "text/plain": [
       "interactive(children=(IntSlider(value=37, description='price', max=90), Output()), _dom_classes=('widget-inter…"
      ]
     },
     "metadata": {},
     "output_type": "display_data"
    }
   ],
   "source": [
    "interact(ESG_plot_wo_hun, price=widgets.IntSlider(min=0,max=90,step=1,value=37));"
   ]
  },
  {
   "cell_type": "code",
   "execution_count": 32,
   "metadata": {},
   "outputs": [
    {
     "name": "stdout",
     "output_type": "stream",
     "text": [
      "Price 50\n",
      "Total Profit 36128.0\n"
     ]
    },
    {
     "data": {
      "text/html": [
       "<table border=\"1\" class=\"dataframe\">\n",
       "    <thead>\n",
       "        <tr>\n",
       "            <th>Group</th> <th>Group_num</th> <th>UNIT NAME</th> <th>Capacity_MW</th> <th>Average Variable Cost</th> <th>profit_per_unit</th> <th>profit_per_plant</th>\n",
       "        </tr>\n",
       "    </thead>\n",
       "    <tbody>\n",
       "        <tr>\n",
       "            <td>Big Coal</td> <td>1        </td> <td>FOUR CORNERS</td> <td>1900       </td> <td>36.5                 </td> <td>13.5           </td> <td>25650           </td>\n",
       "        </tr>\n",
       "        <tr>\n",
       "            <td>Big Coal</td> <td>1        </td> <td>REDONDO 5&6 </td> <td>350        </td> <td>41.94                </td> <td>8.06           </td> <td>2821            </td>\n",
       "        </tr>\n",
       "        <tr>\n",
       "            <td>Big Coal</td> <td>1        </td> <td>REDONDO 7&8 </td> <td>950        </td> <td>41.94                </td> <td>8.06           </td> <td>7657            </td>\n",
       "        </tr>\n",
       "    </tbody>\n",
       "</table>"
      ],
      "text/plain": [
       "Group    | Group_num | UNIT NAME    | Capacity_MW | Average Variable Cost | profit_per_unit | profit_per_plant\n",
       "Big Coal | 1         | FOUR CORNERS | 1900        | 36.5                  | 13.5            | 25650\n",
       "Big Coal | 1         | REDONDO 5&6  | 350         | 41.94                 | 8.06            | 2821\n",
       "Big Coal | 1         | REDONDO 7&8  | 950         | 41.94                 | 8.06            | 7657"
      ]
     },
     "execution_count": 32,
     "metadata": {},
     "output_type": "execute_result"
    }
   ],
   "source": [
    "modified_profit(50, Group_wo_hun)"
   ]
  },
  {
   "cell_type": "markdown",
   "metadata": {},
   "source": [
    " "
   ]
  },
  {
   "cell_type": "code",
   "execution_count": 33,
   "metadata": {},
   "outputs": [
    {
     "data": {
      "text/html": [
       "<table border=\"1\" class=\"dataframe\">\n",
       "    <thead>\n",
       "        <tr>\n",
       "            <th>Output</th> <th>Total Fixed Cost</th> <th>Total Variable Cost</th>\n",
       "        </tr>\n",
       "    </thead>\n",
       "    <tbody>\n",
       "        <tr>\n",
       "            <td>0     </td> <td>50              </td> <td>0                  </td>\n",
       "        </tr>\n",
       "        <tr>\n",
       "            <td>1     </td> <td>50              </td> <td>55                 </td>\n",
       "        </tr>\n",
       "        <tr>\n",
       "            <td>2     </td> <td>50              </td> <td>85.8               </td>\n",
       "        </tr>\n",
       "        <tr>\n",
       "            <td>3     </td> <td>50              </td> <td>107.8              </td>\n",
       "        </tr>\n",
       "        <tr>\n",
       "            <td>4     </td> <td>50              </td> <td>123.2              </td>\n",
       "        </tr>\n",
       "        <tr>\n",
       "            <td>5     </td> <td>50              </td> <td>143                </td>\n",
       "        </tr>\n",
       "        <tr>\n",
       "            <td>6     </td> <td>50              </td> <td>165                </td>\n",
       "        </tr>\n",
       "        <tr>\n",
       "            <td>7     </td> <td>50              </td> <td>192.5              </td>\n",
       "        </tr>\n",
       "        <tr>\n",
       "            <td>8     </td> <td>50              </td> <td>224.4              </td>\n",
       "        </tr>\n",
       "        <tr>\n",
       "            <td>9     </td> <td>50              </td> <td>266.2              </td>\n",
       "        </tr>\n",
       "        <tr>\n",
       "            <td>10    </td> <td>50              </td> <td>330                </td>\n",
       "        </tr>\n",
       "        <tr>\n",
       "            <td>11    </td> <td>50              </td> <td>423.5              </td>\n",
       "        </tr>\n",
       "    </tbody>\n",
       "</table>"
      ],
      "text/plain": [
       "<IPython.core.display.HTML object>"
      ]
     },
     "metadata": {},
     "output_type": "display_data"
    }
   ],
   "source": [
    "another_firm = Table.read_table('another_firm.csv')\n",
    "another_firm.show()"
   ]
  },
  {
   "cell_type": "code",
   "execution_count": 34,
   "metadata": {},
   "outputs": [],
   "source": [
    "total_cost_v2 = another_firm.column(\"Total Fixed Cost\") + another_firm.column(\"Total Variable Cost\")\n",
    "individual_firm_costs_v2 = another_firm.with_column(\"Total Cost\", total_cost_v2)\n",
    "average_fixed_cost_v2 = individual_firm_costs_v2.column(\"Total Fixed Cost\") / individual_firm_costs_v2.column(\"Output\")\n",
    "average_fixed_cost_v2[0] = 0\n",
    "individual_firm_costs_v2 = individual_firm_costs_v2.with_column(\"Average Fixed Cost\", average_fixed_cost_v2)\n",
    "average_variable_cost_v2 = individual_firm_costs_v2.column(\"Total Variable Cost\")/individual_firm_costs_v2.column(\"Output\")\n",
    "average_variable_cost_v2[0] = 0\n",
    "individual_firm_costs_v2 = individual_firm_costs_v2.with_column(\"Average Variable Cost\", average_variable_cost_v2)\n",
    "average_total_cost_v2 = individual_firm_costs_v2.column(\"Total Cost\")/individual_firm_costs_v2.column(\"Output\")\n",
    "average_total_cost_v2[0] = 0\n",
    "individual_firm_costs_v2 = individual_firm_costs_v2.with_column(\"Average Total Cost\", average_total_cost_v2)\n",
    "marginal_cost_v2 = np.diff(total_cost_v2)\n",
    "marginal_cost_v2 = np.append(make_array(0), marginal_cost_v2)\n",
    "individual_firm_costs_v2 = individual_firm_costs_v2.with_column(\"Marginal Cost\", marginal_cost_v2)\n"
   ]
  },
  {
   "cell_type": "code",
   "execution_count": 35,
   "metadata": {},
   "outputs": [
    {
     "data": {
      "text/html": [
       "<table border=\"1\" class=\"dataframe\">\n",
       "    <thead>\n",
       "        <tr>\n",
       "            <th>Output</th> <th>Total Fixed Cost</th> <th>Total Variable Cost</th> <th>Total Cost</th> <th>Average Fixed Cost</th> <th>Average Variable Cost</th> <th>Average Total Cost</th> <th>Marginal Cost</th>\n",
       "        </tr>\n",
       "    </thead>\n",
       "    <tbody>\n",
       "        <tr>\n",
       "            <td>0     </td> <td>50              </td> <td>0                  </td> <td>50        </td> <td>0                 </td> <td>0                    </td> <td>0                 </td> <td>0            </td>\n",
       "        </tr>\n",
       "        <tr>\n",
       "            <td>1     </td> <td>50              </td> <td>55                 </td> <td>105       </td> <td>50                </td> <td>55                   </td> <td>105               </td> <td>55           </td>\n",
       "        </tr>\n",
       "        <tr>\n",
       "            <td>2     </td> <td>50              </td> <td>85.8               </td> <td>135.8     </td> <td>25                </td> <td>42.9                 </td> <td>67.9              </td> <td>30.8         </td>\n",
       "        </tr>\n",
       "        <tr>\n",
       "            <td>3     </td> <td>50              </td> <td>107.8              </td> <td>157.8     </td> <td>16.6667           </td> <td>35.9333              </td> <td>52.6              </td> <td>22           </td>\n",
       "        </tr>\n",
       "        <tr>\n",
       "            <td>4     </td> <td>50              </td> <td>123.2              </td> <td>173.2     </td> <td>12.5              </td> <td>30.8                 </td> <td>43.3              </td> <td>15.4         </td>\n",
       "        </tr>\n",
       "        <tr>\n",
       "            <td>5     </td> <td>50              </td> <td>143                </td> <td>193       </td> <td>10                </td> <td>28.6                 </td> <td>38.6              </td> <td>19.8         </td>\n",
       "        </tr>\n",
       "        <tr>\n",
       "            <td>6     </td> <td>50              </td> <td>165                </td> <td>215       </td> <td>8.33333           </td> <td>27.5                 </td> <td>35.8333           </td> <td>22           </td>\n",
       "        </tr>\n",
       "        <tr>\n",
       "            <td>7     </td> <td>50              </td> <td>192.5              </td> <td>242.5     </td> <td>7.14286           </td> <td>27.5                 </td> <td>34.6429           </td> <td>27.5         </td>\n",
       "        </tr>\n",
       "        <tr>\n",
       "            <td>8     </td> <td>50              </td> <td>224.4              </td> <td>274.4     </td> <td>6.25              </td> <td>28.05                </td> <td>34.3              </td> <td>31.9         </td>\n",
       "        </tr>\n",
       "        <tr>\n",
       "            <td>9     </td> <td>50              </td> <td>266.2              </td> <td>316.2     </td> <td>5.55556           </td> <td>29.5778              </td> <td>35.1333           </td> <td>41.8         </td>\n",
       "        </tr>\n",
       "    </tbody>\n",
       "</table>\n",
       "<p>... (2 rows omitted)</p>"
      ],
      "text/plain": [
       "Output | Total Fixed Cost | Total Variable Cost | Total Cost | Average Fixed Cost | Average Variable Cost | Average Total Cost | Marginal Cost\n",
       "0      | 50               | 0                   | 50         | 0                  | 0                     | 0                  | 0\n",
       "1      | 50               | 55                  | 105        | 50                 | 55                    | 105                | 55\n",
       "2      | 50               | 85.8                | 135.8      | 25                 | 42.9                  | 67.9               | 30.8\n",
       "3      | 50               | 107.8               | 157.8      | 16.6667            | 35.9333               | 52.6               | 22\n",
       "4      | 50               | 123.2               | 173.2      | 12.5               | 30.8                  | 43.3               | 15.4\n",
       "5      | 50               | 143                 | 193        | 10                 | 28.6                  | 38.6               | 19.8\n",
       "6      | 50               | 165                 | 215        | 8.33333            | 27.5                  | 35.8333            | 22\n",
       "7      | 50               | 192.5               | 242.5      | 7.14286            | 27.5                  | 34.6429            | 27.5\n",
       "8      | 50               | 224.4               | 274.4      | 6.25               | 28.05                 | 34.3               | 31.9\n",
       "9      | 50               | 266.2               | 316.2      | 5.55556            | 29.5778               | 35.1333            | 41.8\n",
       "... (2 rows omitted)"
      ]
     },
     "execution_count": 35,
     "metadata": {},
     "output_type": "execute_result"
    }
   ],
   "source": [
    "individual_firm_costs_v2"
   ]
  },
  {
   "cell_type": "code",
   "execution_count": 36,
   "metadata": {},
   "outputs": [
    {
     "data": {
      "image/png": "[encoded data removed]",
      "text/plain": [
       "<Figure size 432x288 with 1 Axes>"
      ]
     },
     "metadata": {
      "needs_background": "light"
     },
     "output_type": "display_data"
    }
   ],
   "source": [
    "plt.plot(individual_firm_costs_v2.column(\"Output\"), individual_firm_costs_v2.column(\"Total Fixed Cost\"), marker='o')\n",
    "plt.plot(individual_firm_costs_v2.column(\"Output\"), individual_firm_costs_v2.column(\"Total Variable Cost\"), marker='o')\n",
    "plt.plot(individual_firm_costs_v2.column(\"Output\"), individual_firm_costs_v2.column(\"Total Cost\"), marker='o')\n",
    "plt.xlabel('Quantity')\n",
    "plt.ylabel('Cost')\n",
    "plt.title('TFC, TVC and TC')\n",
    "plt.legend(make_array(\"Total Fixed Cost\",\"Total Variable Cost\",\"Total Cost\"))\n",
    "\n",
    "plt.show()"
   ]
  },
  {
   "cell_type": "code",
   "execution_count": 37,
   "metadata": {},
   "outputs": [
    {
     "data": {
      "image/png": "[encoded data removed]",
      "text/plain": [
       "<Figure size 432x288 with 1 Axes>"
      ]
     },
     "metadata": {
      "needs_background": "light"
     },
     "output_type": "display_data"
    }
   ],
   "source": [
    "plt.plot(individual_firm_costs_v2.column(\"Output\")[1:], individual_firm_costs_v2.column(\"Average Fixed Cost\")[1:], marker='o')\n",
    "plt.plot(individual_firm_costs_v2.column(\"Output\")[1:], individual_firm_costs_v2.column(\"Average Variable Cost\")[1:], marker='o')\n",
    "plt.plot(individual_firm_costs_v2.column(\"Output\")[1:], individual_firm_costs_v2.column(\"Average Total Cost\")[1:], marker='o')\n",
    "plt.xlabel('Quantity')\n",
    "plt.ylabel('Cost')\n",
    "plt.title('AFC, AVC and ATC')\n",
    "plt.legend(make_array(\"Average Fixed Cost\",\"Average Variable Cost\",\"Average Total Cost\"))\n",
    "\n",
    "plt.show()"
   ]
  },
  {
   "cell_type": "code",
   "execution_count": 38,
   "metadata": {},
   "outputs": [
    {
     "data": {
      "image/png": "[encoded data removed]",
      "text/plain": [
       "<Figure size 432x288 with 1 Axes>"
      ]
     },
     "metadata": {
      "needs_background": "light"
     },
     "output_type": "display_data"
    }
   ],
   "source": [
    "# You do not need to understand what the code below is doing. \n",
    "output_v2 = individual_firm_costs_v2.column(\"Output\")[1:]\n",
    "mc_v2 = individual_firm_costs_v2.column(\"Marginal Cost\")[1:]\n",
    "avc_v2 = individual_firm_costs_v2.column(\"Average Variable Cost\")[1:]\n",
    "atc_v2 = individual_firm_costs_v2.column(\"Average Total Cost\")[1:]\n",
    "\n",
    "sp_mc_v2 = csaps(output_v2, mc_v2, smooth=0.85)\n",
    "sp_avc_v2 = csaps(output, avc_v2, smooth=0.85)\n",
    "sp_atc_v2 = csaps(output, atc_v2, smooth=0.85)\n",
    "\n",
    "output_s_v2 = np.linspace(output_v2.min(), output_v2.max(), 150)\n",
    "mc_s_v2 = sp_mc_v2(output_s_v2)\n",
    "avc_s_v2 = sp_avc_v2(output_s_v2)\n",
    "atc_s_v2 = sp_atc_v2(output_s_v2)\n",
    "\n",
    "plt.plot(output_v2, mc_v2, marker = 'o', color = 'tab:blue')\n",
    "plt.plot(output_s_v2, mc_s_v2, alpha=0.7, lw = 2, label='_nolegend_', color = 'tab:blue')\n",
    "plt.plot(output_v2, avc_v2, marker = 'o', color = 'tab:green')\n",
    "plt.plot(output_s_v2, avc_s_v2, alpha=0.7, lw = 2, label='_nolegend_', color = 'tab:green')\n",
    "plt.plot(output_v2, atc_v2, marker = 'o', color = 'tab:orange')\n",
    "plt.plot(output_s_v2, atc_s_v2, alpha=0.7, lw = 2, label='_nolegend_', color = 'tab:orange')\n",
    "plt.hlines(y=min(avc_v2), xmin = 6, xmax = 8, lw=3, color='r', zorder = 10)\n",
    "plt.hlines(y=min(atc_v2), xmin = 7.5, xmax = 9.5, lw=3, color='r', zorder = 10)\n",
    "plt.xlabel('Quantity')\n",
    "plt.ylabel('Cost')\n",
    "plt.title('MC, AVC and ATC')\n",
    "plt.legend(make_array(\"Marginal Cost\",\"Average Variable Cost\",\"Average Total Cost\"))\n",
    "\n",
    "plt.show()"
   ]
  },
  {
   "cell_type": "code",
   "execution_count": 39,
   "metadata": {},
   "outputs": [
    {
     "data": {
      "application/vnd.jupyter.widget-view+json": {
       "model_id": "8c499a25460f4ad9a71285c253d809da",
       "version_major": 2,
       "version_minor": 0
      },
      "text/plain": [
       "interactive(children=(IntSlider(value=25, description='price', max=60, min=20), Output()), _dom_classes=('widg…"
      ]
     },
     "metadata": {},
     "output_type": "display_data"
    }
   ],
   "source": [
    "interact(lambda price: firm_behaviour(price, individual_firm_costs_v2), price=widgets.IntSlider(min=20,max=60,step=1,value=25));"
   ]
  },
  {
   "cell_type": "code",
   "execution_count": 40,
   "metadata": {},
   "outputs": [
    {
     "data": {
      "image/png": "[encoded data removed]",
      "text/plain": [
       "<Figure size 432x288 with 1 Axes>"
      ]
     },
     "metadata": {
      "needs_background": "light"
     },
     "output_type": "display_data"
    },
    {
     "data": {
      "image/png": "[encoded data removed]",
      "text/plain": [
       "<Figure size 432x288 with 1 Axes>"
      ]
     },
     "metadata": {
      "needs_background": "light"
     },
     "output_type": "display_data"
    }
   ],
   "source": [
    "output = individual_firm_costs.column(\"Output\")[1:]\n",
    "mc = individual_firm_costs.column(\"Marginal Cost\")[1:]\n",
    "avc = individual_firm_costs.column(\"Average Variable Cost\")[1:]\n",
    "atc = individual_firm_costs.column(\"Average Total Cost\")[1:]\n",
    "\n",
    "sp_mc = csaps(output, mc, smooth=0.85)\n",
    "sp_avc = csaps(output, avc, smooth=0.85)\n",
    "sp_atc = csaps(output, atc, smooth=0.85)\n",
    "\n",
    "output_s = np.linspace(output.min(), output.max(), 150)\n",
    "mc_s = sp_mc(output_s)\n",
    "avc_s = sp_avc(output_s)\n",
    "atc_s = sp_atc(output_s)\n",
    "\n",
    "plt.plot(output, mc, marker = 'o', color = 'tab:blue')\n",
    "plt.plot(output_s, mc_s, alpha=0.7, lw = 2, label='_nolegend_', color = 'tab:blue')\n",
    "plt.plot(output, avc, marker = 'o', color = 'tab:green')\n",
    "plt.plot(output_s, avc_s, alpha=0.7, lw = 2, label='_nolegend_', color = 'tab:green')\n",
    "plt.plot(output, atc, marker = 'o', color = 'tab:orange')\n",
    "plt.plot(output_s, atc_s, alpha=0.7, lw = 2, label='_nolegend_', color = 'tab:orange')\n",
    "plt.hlines(y=min(avc), xmin = 6, xmax = 8, lw=3, color='r', zorder = 10)\n",
    "plt.hlines(y=min(atc), xmin = 7.5, xmax = 9.5, lw=3, color='r', zorder = 10)\n",
    "plt.xlabel('Quantity')\n",
    "plt.ylabel('Cost')\n",
    "plt.title('MC, AVC and ATC')\n",
    "plt.legend(make_array(\"Marginal Cost\",\"Average Variable Cost\",\"Average Total Cost\"))\n",
    "\n",
    "plt.show()\n",
    "\n",
    "output_v2 = individual_firm_costs_v2.column(\"Output\")[1:]\n",
    "mc_v2 = individual_firm_costs_v2.column(\"Marginal Cost\")[1:]\n",
    "avc_v2 = individual_firm_costs_v2.column(\"Average Variable Cost\")[1:]\n",
    "atc_v2 = individual_firm_costs_v2.column(\"Average Total Cost\")[1:]\n",
    "\n",
    "sp_mc_v2 = csaps(output_v2, mc_v2, smooth=0.85)\n",
    "sp_avc_v2 = csaps(output, avc_v2, smooth=0.85)\n",
    "sp_atc_v2 = csaps(output, atc_v2, smooth=0.85)\n",
    "\n",
    "output_s_v2 = np.linspace(output_v2.min(), output_v2.max(), 150)\n",
    "mc_s_v2 = sp_mc_v2(output_s_v2)\n",
    "avc_s_v2 = sp_avc_v2(output_s_v2)\n",
    "atc_s_v2 = sp_atc_v2(output_s_v2)\n",
    "\n",
    "plt.plot(output_v2, mc_v2, marker = 'o', color = 'tab:blue')\n",
    "plt.plot(output_s_v2, mc_s_v2, alpha=0.7, lw = 2, label='_nolegend_', color = 'tab:blue')\n",
    "plt.plot(output_v2, avc_v2, marker = 'o', color = 'tab:green')\n",
    "plt.plot(output_s_v2, avc_s_v2, alpha=0.7, lw = 2, label='_nolegend_', color = 'tab:green')\n",
    "plt.plot(output_v2, atc_v2, marker = 'o', color = 'tab:orange')\n",
    "plt.plot(output_s_v2, atc_s_v2, alpha=0.7, lw = 2, label='_nolegend_', color = 'tab:orange')\n",
    "plt.hlines(y=min(avc_v2), xmin = 6, xmax = 8, lw=3, color='r', zorder = 10)\n",
    "plt.hlines(y=min(atc_v2), xmin = 7.5, xmax = 9.5, lw=3, color='r', zorder = 10)\n",
    "plt.xlabel('Quantity')\n",
    "plt.ylabel('Cost')\n",
    "plt.title('MC, AVC and ATC')\n",
    "plt.legend(make_array(\"Marginal Cost\",\"Average Variable Cost\",\"Average Total Cost\"))\n",
    "\n",
    "plt.show()"
   ]
  },
  {
   "cell_type": "code",
   "execution_count": null,
   "metadata": {},
   "outputs": [],
   "source": []
  },
  {
   "cell_type": "code",
   "execution_count": null,
   "metadata": {},
   "outputs": [],
   "source": []
  },
  {
   "cell_type": "code",
   "execution_count": null,
   "metadata": {},
   "outputs": [],
   "source": []
  }
 ],
 "metadata": {
  "@webio": {
   "lastCommId": null,
   "lastKernelId": null
  },
  "kernelspec": {
   "display_name": "Python 3",
   "language": "python",
   "name": "python3"
  },
  "language_info": {
   "codemirror_mode": {
    "name": "ipython",
    "version": 3
   },
   "file_extension": ".py",
   "mimetype": "text/x-python",
   "name": "python",
   "nbconvert_exporter": "python",
   "pygments_lexer": "ipython3",
   "version": "3.8.8"
  },
  "varInspector": {
   "cols": {
    "lenName": 16,
    "lenType": 16,
    "lenVar": 40
   },
   "kernels_config": {
    "python": {
     "delete_cmd_postfix": "",
     "delete_cmd_prefix": "del ",
     "library": "var_list.py",
     "varRefreshCmd": "print(var_dic_list())"
    },
    "r": {
     "delete_cmd_postfix": ") ",
     "delete_cmd_prefix": "rm(",
     "library": "var_list.r",
     "varRefreshCmd": "cat(var_dic_list()) "
    }
   },
   "types_to_exclude": [
    "module",
    "function",
    "builtin_function_or_method",
    "instance",
    "_Feature"
   ],
   "window_display": false
  }
 },
 "nbformat": 4,
 "nbformat_minor": 4
}
