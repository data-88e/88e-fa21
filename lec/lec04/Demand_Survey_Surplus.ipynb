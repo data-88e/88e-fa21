{
 "cells": [
  {
   "cell_type": "markdown",
   "metadata": {},
   "source": [
    "## Demand Survey and Surplus ##\n",
    "\n",
    "The idea for this mini-lab is to derive a Demand curve from student input from the first day of class, and to use that to motivate the concept of surplus.\n"
   ]
  },
  {
   "cell_type": "code",
   "execution_count": 68,
   "metadata": {},
   "outputs": [],
   "source": [
    "from datascience import *\n",
    "import pandas as pd\n",
    "import numpy as np\n",
    "import matplotlib.pyplot as plt\n",
    "%matplotlib inline\n",
    "import matplotlib.patches as patches\n",
    "import sympy\n",
    "solve = lambda x,y: sympy.solve(x-y)[0] if len(sympy.solve(x-y))==1 else \"Not Single Solution\"\n",
    "from ipywidgets import interact, interactive, fixed, interact_manual\n",
    "import ipywidgets as widgets\n",
    "from IPython.display import display\n",
    "import warnings\n",
    "warnings.filterwarnings('ignore')\n",
    "plt.style.use(\"seaborn-muted\")"
   ]
  },
  {
   "cell_type": "markdown",
   "metadata": {},
   "source": [
    "Lets start off with the demand from a student survey:\n",
    " - we had 4 \"goods\" and a range of prices available for each good\n",
    " - students made bids on their willingness to pay for each of the 4 goods\n",
    " - the dataset for Fall 2021 has something like 83 observations\n",
    " - this dataset has been exported and we have to read it in here:"
   ]
  },
  {
   "cell_type": "code",
   "execution_count": 163,
   "metadata": {},
   "outputs": [
    {
     "data": {
      "text/html": [
       "<table border=\"1\" class=\"dataframe\">\n",
       "    <thead>\n",
       "        <tr>\n",
       "            <th>greek tickets</th> <th>iphone 13</th> <th>green tea kit kat</th> <th>burrito</th>\n",
       "        </tr>\n",
       "    </thead>\n",
       "    <tbody>\n",
       "        <tr>\n",
       "            <td>$125         </td> <td>$1750    </td> <td>1                </td> <td>20     </td>\n",
       "        </tr>\n",
       "        <tr>\n",
       "            <td>$200         </td> <td>$750     </td> <td>2                </td> <td>10     </td>\n",
       "        </tr>\n",
       "        <tr>\n",
       "            <td>$175         </td> <td>$1750    </td> <td>1.25             </td> <td>12.5   </td>\n",
       "        </tr>\n",
       "        <tr>\n",
       "            <td>$150         </td> <td>$2000    </td> <td>1                </td> <td>10     </td>\n",
       "        </tr>\n",
       "        <tr>\n",
       "            <td>$150         </td> <td>$750     </td> <td>1                </td> <td>5      </td>\n",
       "        </tr>\n",
       "        <tr>\n",
       "            <td>$150         </td> <td>$1250    </td> <td>1.5              </td> <td>15     </td>\n",
       "        </tr>\n",
       "        <tr>\n",
       "            <td>$50          </td> <td>$750     </td> <td>1                </td> <td>7.5    </td>\n",
       "        </tr>\n",
       "        <tr>\n",
       "            <td>$125         </td> <td>$1500    </td> <td>1.25             </td> <td>12.5   </td>\n",
       "        </tr>\n",
       "        <tr>\n",
       "            <td>$100         </td> <td>$1000    </td> <td>0.5              </td> <td>7.5    </td>\n",
       "        </tr>\n",
       "        <tr>\n",
       "            <td>$200         </td> <td>$2000    </td> <td>1                </td> <td>15     </td>\n",
       "        </tr>\n",
       "    </tbody>\n",
       "</table>\n",
       "<p>... (72 rows omitted)</p>"
      ],
      "text/plain": [
       "greek tickets | iphone 13 | green tea kit kat | burrito\n",
       "$125          | $1750     | 1                 | 20\n",
       "$200          | $750      | 2                 | 10\n",
       "$175          | $1750     | 1.25              | 12.5\n",
       "$150          | $2000     | 1                 | 10\n",
       "$150          | $750      | 1                 | 5\n",
       "$150          | $1250     | 1.5               | 15\n",
       "$50           | $750      | 1                 | 7.5\n",
       "$125          | $1500     | 1.25              | 12.5\n",
       "$100          | $1000     | 0.5               | 7.5\n",
       "$200          | $2000     | 1                 | 15\n",
       "... (72 rows omitted)"
      ]
     },
     "execution_count": 163,
     "metadata": {},
     "output_type": "execute_result"
    }
   ],
   "source": [
    "demand = Table.read_table(\"demand_table_2021.csv\")\n",
    "demand\n"
   ]
  },
  {
   "cell_type": "markdown",
   "metadata": {},
   "source": [
    "Where last we left off we had to do a little *data cleaning* because it seemed like there were some missing values - lets try to find them!"
   ]
  },
  {
   "cell_type": "code",
   "execution_count": 70,
   "metadata": {},
   "outputs": [
    {
     "data": {
      "text/html": [
       "<table border=\"1\" class=\"dataframe\">\n",
       "    <thead>\n",
       "        <tr>\n",
       "            <th>greek tickets</th> <th>iphone 13</th> <th>green tea kit kat</th> <th>burrito</th>\n",
       "        </tr>\n",
       "    </thead>\n",
       "    <tbody>\n",
       "        <tr>\n",
       "            <td>$125         </td> <td>$1750    </td> <td>1                </td> <td>20     </td>\n",
       "        </tr>\n",
       "        <tr>\n",
       "            <td>$200         </td> <td>$750     </td> <td>2                </td> <td>10     </td>\n",
       "        </tr>\n",
       "        <tr>\n",
       "            <td>$175         </td> <td>$1750    </td> <td>1.25             </td> <td>12.5   </td>\n",
       "        </tr>\n",
       "        <tr>\n",
       "            <td>$150         </td> <td>$2000    </td> <td>1                </td> <td>10     </td>\n",
       "        </tr>\n",
       "        <tr>\n",
       "            <td>$150         </td> <td>$750     </td> <td>1                </td> <td>5      </td>\n",
       "        </tr>\n",
       "        <tr>\n",
       "            <td>$150         </td> <td>$1250    </td> <td>1.5              </td> <td>15     </td>\n",
       "        </tr>\n",
       "        <tr>\n",
       "            <td>$50          </td> <td>$750     </td> <td>1                </td> <td>7.5    </td>\n",
       "        </tr>\n",
       "        <tr>\n",
       "            <td>$125         </td> <td>$1500    </td> <td>1.25             </td> <td>12.5   </td>\n",
       "        </tr>\n",
       "        <tr>\n",
       "            <td>$100         </td> <td>$1000    </td> <td>0.5              </td> <td>7.5    </td>\n",
       "        </tr>\n",
       "        <tr>\n",
       "            <td>$200         </td> <td>$2000    </td> <td>1                </td> <td>15     </td>\n",
       "        </tr>\n",
       "        <tr>\n",
       "            <td>$75          </td> <td>$750     </td> <td>0.5              </td> <td>5      </td>\n",
       "        </tr>\n",
       "        <tr>\n",
       "            <td>$25          </td> <td>$1000    </td> <td>1                </td> <td>12.5   </td>\n",
       "        </tr>\n",
       "        <tr>\n",
       "            <td>$100         </td> <td>$750     </td> <td>1                </td> <td>10     </td>\n",
       "        </tr>\n",
       "        <tr>\n",
       "            <td>$50          </td> <td>$2500    </td> <td>1                </td> <td>17.5   </td>\n",
       "        </tr>\n",
       "        <tr>\n",
       "            <td>nan          </td> <td>nan      </td> <td>0.75             </td> <td>5      </td>\n",
       "        </tr>\n",
       "        <tr>\n",
       "            <td>$50          </td> <td>$1500    </td> <td>1.5              </td> <td>12.5   </td>\n",
       "        </tr>\n",
       "        <tr>\n",
       "            <td>$25          </td> <td>$750     </td> <td>0.75             </td> <td>5      </td>\n",
       "        </tr>\n",
       "        <tr>\n",
       "            <td>$150         </td> <td>$750     </td> <td>1.25             </td> <td>15     </td>\n",
       "        </tr>\n",
       "        <tr>\n",
       "            <td>$100         </td> <td>$1250    </td> <td>0.5              </td> <td>10     </td>\n",
       "        </tr>\n",
       "        <tr>\n",
       "            <td>$25          </td> <td>$750     </td> <td>0.75             </td> <td>7.5    </td>\n",
       "        </tr>\n",
       "        <tr>\n",
       "            <td>$25          </td> <td>$1000    </td> <td>1                </td> <td>5      </td>\n",
       "        </tr>\n",
       "        <tr>\n",
       "            <td>$200         </td> <td>$750     </td> <td>0.5              </td> <td>12.5   </td>\n",
       "        </tr>\n",
       "        <tr>\n",
       "            <td>$100         </td> <td>$250     </td> <td>2                </td> <td>17.5   </td>\n",
       "        </tr>\n",
       "        <tr>\n",
       "            <td>$75          </td> <td>$1250    </td> <td>1                </td> <td>12.5   </td>\n",
       "        </tr>\n",
       "        <tr>\n",
       "            <td>$125         </td> <td>$1500    </td> <td>0.5              </td> <td>12.5   </td>\n",
       "        </tr>\n",
       "        <tr>\n",
       "            <td>$100         </td> <td>$2000    </td> <td>1.5              </td> <td>12.5   </td>\n",
       "        </tr>\n",
       "        <tr>\n",
       "            <td>$200         </td> <td>$1500    </td> <td>0.5              </td> <td>10     </td>\n",
       "        </tr>\n",
       "        <tr>\n",
       "            <td>$200         </td> <td>$1000    </td> <td>1.5              </td> <td>10     </td>\n",
       "        </tr>\n",
       "        <tr>\n",
       "            <td>$200         </td> <td>$500     </td> <td>0.75             </td> <td>10     </td>\n",
       "        </tr>\n",
       "        <tr>\n",
       "            <td>$100         </td> <td>$1000    </td> <td>1.25             </td> <td>10     </td>\n",
       "        </tr>\n",
       "        <tr>\n",
       "            <td>$200         </td> <td>$2000    </td> <td>0.5              </td> <td>7.5    </td>\n",
       "        </tr>\n",
       "        <tr>\n",
       "            <td>$100         </td> <td>$1250    </td> <td>1.75             </td> <td>12.5   </td>\n",
       "        </tr>\n",
       "        <tr>\n",
       "            <td>$150         </td> <td>$1250    </td> <td>1.25             </td> <td>15     </td>\n",
       "        </tr>\n",
       "        <tr>\n",
       "            <td>$150         </td> <td>$1000    </td> <td>1                </td> <td>12.5   </td>\n",
       "        </tr>\n",
       "        <tr>\n",
       "            <td>$125         </td> <td>$2000    </td> <td>1.75             </td> <td>7.5    </td>\n",
       "        </tr>\n",
       "        <tr>\n",
       "            <td>$125         </td> <td>$1250    </td> <td>0.75             </td> <td>10     </td>\n",
       "        </tr>\n",
       "        <tr>\n",
       "            <td>$100         </td> <td>$1750    </td> <td>1                </td> <td>12.5   </td>\n",
       "        </tr>\n",
       "        <tr>\n",
       "            <td>$100         </td> <td>$1250    </td> <td>1.5              </td> <td>10     </td>\n",
       "        </tr>\n",
       "        <tr>\n",
       "            <td>$150         </td> <td>$1000    </td> <td>0.5              </td> <td>12.5   </td>\n",
       "        </tr>\n",
       "        <tr>\n",
       "            <td>$75          </td> <td>$1250    </td> <td>0.5              </td> <td>7.5    </td>\n",
       "        </tr>\n",
       "        <tr>\n",
       "            <td>$125         </td> <td>$1000    </td> <td>0.5              </td> <td>10     </td>\n",
       "        </tr>\n",
       "        <tr>\n",
       "            <td>$150         </td> <td>$2750    </td> <td>1                </td> <td>10     </td>\n",
       "        </tr>\n",
       "        <tr>\n",
       "            <td>$175         </td> <td>$1250    </td> <td>2                </td> <td>17.5   </td>\n",
       "        </tr>\n",
       "        <tr>\n",
       "            <td>$50          </td> <td>$1000    </td> <td>1                </td> <td>12.5   </td>\n",
       "        </tr>\n",
       "        <tr>\n",
       "            <td>$175         </td> <td>$2000    </td> <td>1                </td> <td>12.5   </td>\n",
       "        </tr>\n",
       "        <tr>\n",
       "            <td>$75          </td> <td>$2500    </td> <td>0.25             </td> <td>15     </td>\n",
       "        </tr>\n",
       "        <tr>\n",
       "            <td>$100         </td> <td>$1250    </td> <td>0.5              </td> <td>10     </td>\n",
       "        </tr>\n",
       "        <tr>\n",
       "            <td>$50          </td> <td>$1000    </td> <td>0.5              </td> <td>10     </td>\n",
       "        </tr>\n",
       "        <tr>\n",
       "            <td>$50          </td> <td>$1250    </td> <td>0.25             </td> <td>10     </td>\n",
       "        </tr>\n",
       "        <tr>\n",
       "            <td>$150         </td> <td>$1250    </td> <td>1                </td> <td>10     </td>\n",
       "        </tr>\n",
       "        <tr>\n",
       "            <td>$150         </td> <td>$1500    </td> <td>1                </td> <td>10     </td>\n",
       "        </tr>\n",
       "        <tr>\n",
       "            <td>$200         </td> <td>$2750    </td> <td>1                </td> <td>20     </td>\n",
       "        </tr>\n",
       "        <tr>\n",
       "            <td>$150         </td> <td>$3000    </td> <td>1.75             </td> <td>12.5   </td>\n",
       "        </tr>\n",
       "        <tr>\n",
       "            <td>$200         </td> <td>$750     </td> <td>1.5              </td> <td>12.5   </td>\n",
       "        </tr>\n",
       "        <tr>\n",
       "            <td>$100         </td> <td>$1000    </td> <td>1.25             </td> <td>12.5   </td>\n",
       "        </tr>\n",
       "        <tr>\n",
       "            <td>$50          </td> <td>$750     </td> <td>1.25             </td> <td>2.5    </td>\n",
       "        </tr>\n",
       "        <tr>\n",
       "            <td>$150         </td> <td>$2500    </td> <td>0.75             </td> <td>7.5    </td>\n",
       "        </tr>\n",
       "        <tr>\n",
       "            <td>$125         </td> <td>$2000    </td> <td>0.25             </td> <td>15     </td>\n",
       "        </tr>\n",
       "        <tr>\n",
       "            <td>$125         </td> <td>$1250    </td> <td>0.75             </td> <td>10     </td>\n",
       "        </tr>\n",
       "        <tr>\n",
       "            <td>$200         </td> <td>$1500    </td> <td>1                </td> <td>7.5    </td>\n",
       "        </tr>\n",
       "        <tr>\n",
       "            <td>$175         </td> <td>$2000    </td> <td>0.5              </td> <td>10     </td>\n",
       "        </tr>\n",
       "        <tr>\n",
       "            <td>$150         </td> <td>$1000    </td> <td>0.5              </td> <td>17.5   </td>\n",
       "        </tr>\n",
       "        <tr>\n",
       "            <td>$150         </td> <td>$1000    </td> <td>1                </td> <td>15     </td>\n",
       "        </tr>\n",
       "        <tr>\n",
       "            <td>$150         </td> <td>$1250    </td> <td>1                </td> <td>15     </td>\n",
       "        </tr>\n",
       "        <tr>\n",
       "            <td>$150         </td> <td>$3000    </td> <td>1.75             </td> <td>12.5   </td>\n",
       "        </tr>\n",
       "        <tr>\n",
       "            <td>$200         </td> <td>$1250    </td> <td>0.75             </td> <td>15     </td>\n",
       "        </tr>\n",
       "        <tr>\n",
       "            <td>$125         </td> <td>$1500    </td> <td>1                </td> <td>12.5   </td>\n",
       "        </tr>\n",
       "        <tr>\n",
       "            <td>$175         </td> <td>$750     </td> <td>0.75             </td> <td>7.5    </td>\n",
       "        </tr>\n",
       "        <tr>\n",
       "            <td>$100         </td> <td>$1000    </td> <td>1                </td> <td>7.5    </td>\n",
       "        </tr>\n",
       "        <tr>\n",
       "            <td>$100         </td> <td>$1000    </td> <td>1                </td> <td>15     </td>\n",
       "        </tr>\n",
       "        <tr>\n",
       "            <td>$100         </td> <td>$1000    </td> <td>1                </td> <td>10     </td>\n",
       "        </tr>\n",
       "        <tr>\n",
       "            <td>$50          </td> <td>$1250    </td> <td>1                </td> <td>12.5   </td>\n",
       "        </tr>\n",
       "        <tr>\n",
       "            <td>$125         </td> <td>$1000    </td> <td>0.75             </td> <td>10     </td>\n",
       "        </tr>\n",
       "        <tr>\n",
       "            <td>$150         </td> <td>$1250    </td> <td>0.5              </td> <td>15     </td>\n",
       "        </tr>\n",
       "        <tr>\n",
       "            <td>$100         </td> <td>$1000    </td> <td>0.5              </td> <td>5      </td>\n",
       "        </tr>\n",
       "        <tr>\n",
       "            <td>$150         </td> <td>$1250    </td> <td>0.5              </td> <td>15     </td>\n",
       "        </tr>\n",
       "        <tr>\n",
       "            <td>$200         </td> <td>$750     </td> <td>2                </td> <td>15     </td>\n",
       "        </tr>\n",
       "        <tr>\n",
       "            <td>$100         </td> <td>$500     </td> <td>0.25             </td> <td>5      </td>\n",
       "        </tr>\n",
       "        <tr>\n",
       "            <td>$200         </td> <td>$3000    </td> <td>2                </td> <td>20     </td>\n",
       "        </tr>\n",
       "        <tr>\n",
       "            <td>$50          </td> <td>$250     </td> <td>0.25             </td> <td>2.5    </td>\n",
       "        </tr>\n",
       "        <tr>\n",
       "            <td>$75          </td> <td>$750     </td> <td>0.5              </td> <td>7.5    </td>\n",
       "        </tr>\n",
       "        <tr>\n",
       "            <td>$150         </td> <td>$1500    </td> <td>0.25             </td> <td>7.5    </td>\n",
       "        </tr>\n",
       "    </tbody>\n",
       "</table>"
      ],
      "text/plain": [
       "<IPython.core.display.HTML object>"
      ]
     },
     "metadata": {},
     "output_type": "display_data"
    }
   ],
   "source": [
    "demand.show()"
   ]
  },
  {
   "cell_type": "markdown",
   "metadata": {},
   "source": [
    "Looks like there is a \"nan\" in row 15 \n",
    "\n",
    "Because in Python we are zero-indexed, lets try deleting row 14\n",
    "\n",
    "And then check to see that it worked"
   ]
  },
  {
   "cell_type": "code",
   "execution_count": 165,
   "metadata": {
    "collapsed": true,
    "jupyter": {
     "outputs_hidden": true
    }
   },
   "outputs": [
    {
     "data": {
      "text/html": [
       "<table border=\"1\" class=\"dataframe\">\n",
       "    <thead>\n",
       "        <tr>\n",
       "            <th>greek tickets</th> <th>iphone 13</th> <th>green tea kit kat</th> <th>burrito</th>\n",
       "        </tr>\n",
       "    </thead>\n",
       "    <tbody>\n",
       "        <tr>\n",
       "            <td>$125         </td> <td>$1750    </td> <td>1                </td> <td>20     </td>\n",
       "        </tr>\n",
       "        <tr>\n",
       "            <td>$200         </td> <td>$750     </td> <td>2                </td> <td>10     </td>\n",
       "        </tr>\n",
       "        <tr>\n",
       "            <td>$175         </td> <td>$1750    </td> <td>1.25             </td> <td>12.5   </td>\n",
       "        </tr>\n",
       "        <tr>\n",
       "            <td>$150         </td> <td>$2000    </td> <td>1                </td> <td>10     </td>\n",
       "        </tr>\n",
       "        <tr>\n",
       "            <td>$150         </td> <td>$750     </td> <td>1                </td> <td>5      </td>\n",
       "        </tr>\n",
       "        <tr>\n",
       "            <td>$150         </td> <td>$1250    </td> <td>1.5              </td> <td>15     </td>\n",
       "        </tr>\n",
       "        <tr>\n",
       "            <td>$50          </td> <td>$750     </td> <td>1                </td> <td>7.5    </td>\n",
       "        </tr>\n",
       "        <tr>\n",
       "            <td>$125         </td> <td>$1500    </td> <td>1.25             </td> <td>12.5   </td>\n",
       "        </tr>\n",
       "        <tr>\n",
       "            <td>$100         </td> <td>$1000    </td> <td>0.5              </td> <td>7.5    </td>\n",
       "        </tr>\n",
       "        <tr>\n",
       "            <td>$200         </td> <td>$2000    </td> <td>1                </td> <td>15     </td>\n",
       "        </tr>\n",
       "        <tr>\n",
       "            <td>$75          </td> <td>$750     </td> <td>0.5              </td> <td>5      </td>\n",
       "        </tr>\n",
       "        <tr>\n",
       "            <td>$25          </td> <td>$1000    </td> <td>1                </td> <td>12.5   </td>\n",
       "        </tr>\n",
       "        <tr>\n",
       "            <td>$100         </td> <td>$750     </td> <td>1                </td> <td>10     </td>\n",
       "        </tr>\n",
       "        <tr>\n",
       "            <td>$50          </td> <td>$2500    </td> <td>1                </td> <td>17.5   </td>\n",
       "        </tr>\n",
       "        <tr>\n",
       "            <td>$25          </td> <td>$750     </td> <td>0.75             </td> <td>5      </td>\n",
       "        </tr>\n",
       "        <tr>\n",
       "            <td>$150         </td> <td>$750     </td> <td>1.25             </td> <td>15     </td>\n",
       "        </tr>\n",
       "        <tr>\n",
       "            <td>$100         </td> <td>$1250    </td> <td>0.5              </td> <td>10     </td>\n",
       "        </tr>\n",
       "        <tr>\n",
       "            <td>$25          </td> <td>$750     </td> <td>0.75             </td> <td>7.5    </td>\n",
       "        </tr>\n",
       "        <tr>\n",
       "            <td>$25          </td> <td>$1000    </td> <td>1                </td> <td>5      </td>\n",
       "        </tr>\n",
       "        <tr>\n",
       "            <td>$200         </td> <td>$750     </td> <td>0.5              </td> <td>12.5   </td>\n",
       "        </tr>\n",
       "        <tr>\n",
       "            <td>$100         </td> <td>$250     </td> <td>2                </td> <td>17.5   </td>\n",
       "        </tr>\n",
       "        <tr>\n",
       "            <td>$75          </td> <td>$1250    </td> <td>1                </td> <td>12.5   </td>\n",
       "        </tr>\n",
       "        <tr>\n",
       "            <td>$125         </td> <td>$1500    </td> <td>0.5              </td> <td>12.5   </td>\n",
       "        </tr>\n",
       "        <tr>\n",
       "            <td>$100         </td> <td>$2000    </td> <td>1.5              </td> <td>12.5   </td>\n",
       "        </tr>\n",
       "        <tr>\n",
       "            <td>$200         </td> <td>$1500    </td> <td>0.5              </td> <td>10     </td>\n",
       "        </tr>\n",
       "        <tr>\n",
       "            <td>$200         </td> <td>$1000    </td> <td>1.5              </td> <td>10     </td>\n",
       "        </tr>\n",
       "        <tr>\n",
       "            <td>$200         </td> <td>$500     </td> <td>0.75             </td> <td>10     </td>\n",
       "        </tr>\n",
       "        <tr>\n",
       "            <td>$100         </td> <td>$1000    </td> <td>1.25             </td> <td>10     </td>\n",
       "        </tr>\n",
       "        <tr>\n",
       "            <td>$200         </td> <td>$2000    </td> <td>0.5              </td> <td>7.5    </td>\n",
       "        </tr>\n",
       "        <tr>\n",
       "            <td>$100         </td> <td>$1250    </td> <td>1.75             </td> <td>12.5   </td>\n",
       "        </tr>\n",
       "        <tr>\n",
       "            <td>$150         </td> <td>$1250    </td> <td>1.25             </td> <td>15     </td>\n",
       "        </tr>\n",
       "        <tr>\n",
       "            <td>$150         </td> <td>$1000    </td> <td>1                </td> <td>12.5   </td>\n",
       "        </tr>\n",
       "        <tr>\n",
       "            <td>$125         </td> <td>$2000    </td> <td>1.75             </td> <td>7.5    </td>\n",
       "        </tr>\n",
       "        <tr>\n",
       "            <td>$125         </td> <td>$1250    </td> <td>0.75             </td> <td>10     </td>\n",
       "        </tr>\n",
       "        <tr>\n",
       "            <td>$100         </td> <td>$1750    </td> <td>1                </td> <td>12.5   </td>\n",
       "        </tr>\n",
       "        <tr>\n",
       "            <td>$100         </td> <td>$1250    </td> <td>1.5              </td> <td>10     </td>\n",
       "        </tr>\n",
       "        <tr>\n",
       "            <td>$150         </td> <td>$1000    </td> <td>0.5              </td> <td>12.5   </td>\n",
       "        </tr>\n",
       "        <tr>\n",
       "            <td>$75          </td> <td>$1250    </td> <td>0.5              </td> <td>7.5    </td>\n",
       "        </tr>\n",
       "        <tr>\n",
       "            <td>$125         </td> <td>$1000    </td> <td>0.5              </td> <td>10     </td>\n",
       "        </tr>\n",
       "        <tr>\n",
       "            <td>$150         </td> <td>$2750    </td> <td>1                </td> <td>10     </td>\n",
       "        </tr>\n",
       "        <tr>\n",
       "            <td>$175         </td> <td>$1250    </td> <td>2                </td> <td>17.5   </td>\n",
       "        </tr>\n",
       "        <tr>\n",
       "            <td>$50          </td> <td>$1000    </td> <td>1                </td> <td>12.5   </td>\n",
       "        </tr>\n",
       "        <tr>\n",
       "            <td>$175         </td> <td>$2000    </td> <td>1                </td> <td>12.5   </td>\n",
       "        </tr>\n",
       "        <tr>\n",
       "            <td>$75          </td> <td>$2500    </td> <td>0.25             </td> <td>15     </td>\n",
       "        </tr>\n",
       "        <tr>\n",
       "            <td>$100         </td> <td>$1250    </td> <td>0.5              </td> <td>10     </td>\n",
       "        </tr>\n",
       "        <tr>\n",
       "            <td>$50          </td> <td>$1000    </td> <td>0.5              </td> <td>10     </td>\n",
       "        </tr>\n",
       "        <tr>\n",
       "            <td>$50          </td> <td>$1250    </td> <td>0.25             </td> <td>10     </td>\n",
       "        </tr>\n",
       "        <tr>\n",
       "            <td>$150         </td> <td>$1250    </td> <td>1                </td> <td>10     </td>\n",
       "        </tr>\n",
       "        <tr>\n",
       "            <td>$150         </td> <td>$1500    </td> <td>1                </td> <td>10     </td>\n",
       "        </tr>\n",
       "        <tr>\n",
       "            <td>$200         </td> <td>$2750    </td> <td>1                </td> <td>20     </td>\n",
       "        </tr>\n",
       "        <tr>\n",
       "            <td>$150         </td> <td>$3000    </td> <td>1.75             </td> <td>12.5   </td>\n",
       "        </tr>\n",
       "        <tr>\n",
       "            <td>$200         </td> <td>$750     </td> <td>1.5              </td> <td>12.5   </td>\n",
       "        </tr>\n",
       "        <tr>\n",
       "            <td>$100         </td> <td>$1000    </td> <td>1.25             </td> <td>12.5   </td>\n",
       "        </tr>\n",
       "        <tr>\n",
       "            <td>$50          </td> <td>$750     </td> <td>1.25             </td> <td>2.5    </td>\n",
       "        </tr>\n",
       "        <tr>\n",
       "            <td>$150         </td> <td>$2500    </td> <td>0.75             </td> <td>7.5    </td>\n",
       "        </tr>\n",
       "        <tr>\n",
       "            <td>$125         </td> <td>$2000    </td> <td>0.25             </td> <td>15     </td>\n",
       "        </tr>\n",
       "        <tr>\n",
       "            <td>$125         </td> <td>$1250    </td> <td>0.75             </td> <td>10     </td>\n",
       "        </tr>\n",
       "        <tr>\n",
       "            <td>$200         </td> <td>$1500    </td> <td>1                </td> <td>7.5    </td>\n",
       "        </tr>\n",
       "        <tr>\n",
       "            <td>$175         </td> <td>$2000    </td> <td>0.5              </td> <td>10     </td>\n",
       "        </tr>\n",
       "        <tr>\n",
       "            <td>$150         </td> <td>$1000    </td> <td>0.5              </td> <td>17.5   </td>\n",
       "        </tr>\n",
       "        <tr>\n",
       "            <td>$150         </td> <td>$1000    </td> <td>1                </td> <td>15     </td>\n",
       "        </tr>\n",
       "        <tr>\n",
       "            <td>$150         </td> <td>$1250    </td> <td>1                </td> <td>15     </td>\n",
       "        </tr>\n",
       "        <tr>\n",
       "            <td>$150         </td> <td>$3000    </td> <td>1.75             </td> <td>12.5   </td>\n",
       "        </tr>\n",
       "        <tr>\n",
       "            <td>$200         </td> <td>$1250    </td> <td>0.75             </td> <td>15     </td>\n",
       "        </tr>\n",
       "        <tr>\n",
       "            <td>$125         </td> <td>$1500    </td> <td>1                </td> <td>12.5   </td>\n",
       "        </tr>\n",
       "        <tr>\n",
       "            <td>$175         </td> <td>$750     </td> <td>0.75             </td> <td>7.5    </td>\n",
       "        </tr>\n",
       "        <tr>\n",
       "            <td>$100         </td> <td>$1000    </td> <td>1                </td> <td>7.5    </td>\n",
       "        </tr>\n",
       "        <tr>\n",
       "            <td>$100         </td> <td>$1000    </td> <td>1                </td> <td>15     </td>\n",
       "        </tr>\n",
       "        <tr>\n",
       "            <td>$100         </td> <td>$1000    </td> <td>1                </td> <td>10     </td>\n",
       "        </tr>\n",
       "        <tr>\n",
       "            <td>$50          </td> <td>$1250    </td> <td>1                </td> <td>12.5   </td>\n",
       "        </tr>\n",
       "        <tr>\n",
       "            <td>$125         </td> <td>$1000    </td> <td>0.75             </td> <td>10     </td>\n",
       "        </tr>\n",
       "        <tr>\n",
       "            <td>$150         </td> <td>$1250    </td> <td>0.5              </td> <td>15     </td>\n",
       "        </tr>\n",
       "        <tr>\n",
       "            <td>$100         </td> <td>$1000    </td> <td>0.5              </td> <td>5      </td>\n",
       "        </tr>\n",
       "        <tr>\n",
       "            <td>$150         </td> <td>$1250    </td> <td>0.5              </td> <td>15     </td>\n",
       "        </tr>\n",
       "        <tr>\n",
       "            <td>$200         </td> <td>$750     </td> <td>2                </td> <td>15     </td>\n",
       "        </tr>\n",
       "        <tr>\n",
       "            <td>$100         </td> <td>$500     </td> <td>0.25             </td> <td>5      </td>\n",
       "        </tr>\n",
       "        <tr>\n",
       "            <td>$200         </td> <td>$3000    </td> <td>2                </td> <td>20     </td>\n",
       "        </tr>\n",
       "        <tr>\n",
       "            <td>$50          </td> <td>$250     </td> <td>0.25             </td> <td>2.5    </td>\n",
       "        </tr>\n",
       "        <tr>\n",
       "            <td>$75          </td> <td>$750     </td> <td>0.5              </td> <td>7.5    </td>\n",
       "        </tr>\n",
       "        <tr>\n",
       "            <td>$150         </td> <td>$1500    </td> <td>0.25             </td> <td>7.5    </td>\n",
       "        </tr>\n",
       "    </tbody>\n",
       "</table>"
      ],
      "text/plain": [
       "<IPython.core.display.HTML object>"
      ]
     },
     "metadata": {},
     "output_type": "display_data"
    }
   ],
   "source": [
    "demand = demand.exclude(14)\n",
    "demand.show()"
   ]
  },
  {
   "cell_type": "markdown",
   "metadata": {},
   "source": [
    "The next problem is that the '$' signs have made it so that some cells are read in as strings \n",
    "- please excuse us, but we are going to have to switch over to Pandas to clean this part up\n",
    "- datascience makes it easy to save a Table as a DataFrame"
   ]
  },
  {
   "cell_type": "code",
   "execution_count": 168,
   "metadata": {},
   "outputs": [
    {
     "data": {
      "text/html": [
       "<div>\n",
       "<style scoped>\n",
       "    .dataframe tbody tr th:only-of-type {\n",
       "        vertical-align: middle;\n",
       "    }\n",
       "\n",
       "    .dataframe tbody tr th {\n",
       "        vertical-align: top;\n",
       "    }\n",
       "\n",
       "    .dataframe thead th {\n",
       "        text-align: right;\n",
       "    }\n",
       "</style>\n",
       "<table border=\"1\" class=\"dataframe\">\n",
       "  <thead>\n",
       "    <tr style=\"text-align: right;\">\n",
       "      <th></th>\n",
       "      <th>greek tickets</th>\n",
       "      <th>iphone 13</th>\n",
       "      <th>green tea kit kat</th>\n",
       "      <th>burrito</th>\n",
       "    </tr>\n",
       "  </thead>\n",
       "  <tbody>\n",
       "    <tr>\n",
       "      <th>0</th>\n",
       "      <td>$125</td>\n",
       "      <td>$1750</td>\n",
       "      <td>1.00</td>\n",
       "      <td>20.0</td>\n",
       "    </tr>\n",
       "    <tr>\n",
       "      <th>1</th>\n",
       "      <td>$200</td>\n",
       "      <td>$750</td>\n",
       "      <td>2.00</td>\n",
       "      <td>10.0</td>\n",
       "    </tr>\n",
       "    <tr>\n",
       "      <th>2</th>\n",
       "      <td>$175</td>\n",
       "      <td>$1750</td>\n",
       "      <td>1.25</td>\n",
       "      <td>12.5</td>\n",
       "    </tr>\n",
       "    <tr>\n",
       "      <th>3</th>\n",
       "      <td>$150</td>\n",
       "      <td>$2000</td>\n",
       "      <td>1.00</td>\n",
       "      <td>10.0</td>\n",
       "    </tr>\n",
       "    <tr>\n",
       "      <th>4</th>\n",
       "      <td>$150</td>\n",
       "      <td>$750</td>\n",
       "      <td>1.00</td>\n",
       "      <td>5.0</td>\n",
       "    </tr>\n",
       "    <tr>\n",
       "      <th>...</th>\n",
       "      <td>...</td>\n",
       "      <td>...</td>\n",
       "      <td>...</td>\n",
       "      <td>...</td>\n",
       "    </tr>\n",
       "    <tr>\n",
       "      <th>75</th>\n",
       "      <td>$100</td>\n",
       "      <td>$500</td>\n",
       "      <td>0.25</td>\n",
       "      <td>5.0</td>\n",
       "    </tr>\n",
       "    <tr>\n",
       "      <th>76</th>\n",
       "      <td>$200</td>\n",
       "      <td>$3000</td>\n",
       "      <td>2.00</td>\n",
       "      <td>20.0</td>\n",
       "    </tr>\n",
       "    <tr>\n",
       "      <th>77</th>\n",
       "      <td>$50</td>\n",
       "      <td>$250</td>\n",
       "      <td>0.25</td>\n",
       "      <td>2.5</td>\n",
       "    </tr>\n",
       "    <tr>\n",
       "      <th>78</th>\n",
       "      <td>$75</td>\n",
       "      <td>$750</td>\n",
       "      <td>0.50</td>\n",
       "      <td>7.5</td>\n",
       "    </tr>\n",
       "    <tr>\n",
       "      <th>79</th>\n",
       "      <td>$150</td>\n",
       "      <td>$1500</td>\n",
       "      <td>0.25</td>\n",
       "      <td>7.5</td>\n",
       "    </tr>\n",
       "  </tbody>\n",
       "</table>\n",
       "<p>80 rows × 4 columns</p>\n",
       "</div>"
      ],
      "text/plain": [
       "   greek tickets iphone 13  green tea kit kat  burrito\n",
       "0           $125     $1750               1.00     20.0\n",
       "1           $200      $750               2.00     10.0\n",
       "2           $175     $1750               1.25     12.5\n",
       "3           $150     $2000               1.00     10.0\n",
       "4           $150      $750               1.00      5.0\n",
       "..           ...       ...                ...      ...\n",
       "75          $100      $500               0.25      5.0\n",
       "76          $200     $3000               2.00     20.0\n",
       "77           $50      $250               0.25      2.5\n",
       "78           $75      $750               0.50      7.5\n",
       "79          $150     $1500               0.25      7.5\n",
       "\n",
       "[80 rows x 4 columns]"
      ]
     },
     "execution_count": 168,
     "metadata": {},
     "output_type": "execute_result"
    }
   ],
   "source": [
    "demand_df = Table.to_df(demand)\n",
    "demand_df"
   ]
  },
  {
   "cell_type": "markdown",
   "metadata": {},
   "source": [
    "We can first remove the \"$\" sign by just replacing it with nothing"
   ]
  },
  {
   "cell_type": "code",
   "execution_count": 169,
   "metadata": {},
   "outputs": [
    {
     "data": {
      "text/html": [
       "<div>\n",
       "<style scoped>\n",
       "    .dataframe tbody tr th:only-of-type {\n",
       "        vertical-align: middle;\n",
       "    }\n",
       "\n",
       "    .dataframe tbody tr th {\n",
       "        vertical-align: top;\n",
       "    }\n",
       "\n",
       "    .dataframe thead th {\n",
       "        text-align: right;\n",
       "    }\n",
       "</style>\n",
       "<table border=\"1\" class=\"dataframe\">\n",
       "  <thead>\n",
       "    <tr style=\"text-align: right;\">\n",
       "      <th></th>\n",
       "      <th>greek tickets</th>\n",
       "      <th>iphone 13</th>\n",
       "      <th>green tea kit kat</th>\n",
       "      <th>burrito</th>\n",
       "    </tr>\n",
       "  </thead>\n",
       "  <tbody>\n",
       "    <tr>\n",
       "      <th>0</th>\n",
       "      <td>125</td>\n",
       "      <td>1750</td>\n",
       "      <td>1.00</td>\n",
       "      <td>20.0</td>\n",
       "    </tr>\n",
       "    <tr>\n",
       "      <th>1</th>\n",
       "      <td>200</td>\n",
       "      <td>750</td>\n",
       "      <td>2.00</td>\n",
       "      <td>10.0</td>\n",
       "    </tr>\n",
       "    <tr>\n",
       "      <th>2</th>\n",
       "      <td>175</td>\n",
       "      <td>1750</td>\n",
       "      <td>1.25</td>\n",
       "      <td>12.5</td>\n",
       "    </tr>\n",
       "    <tr>\n",
       "      <th>3</th>\n",
       "      <td>150</td>\n",
       "      <td>2000</td>\n",
       "      <td>1.00</td>\n",
       "      <td>10.0</td>\n",
       "    </tr>\n",
       "    <tr>\n",
       "      <th>4</th>\n",
       "      <td>150</td>\n",
       "      <td>750</td>\n",
       "      <td>1.00</td>\n",
       "      <td>5.0</td>\n",
       "    </tr>\n",
       "    <tr>\n",
       "      <th>...</th>\n",
       "      <td>...</td>\n",
       "      <td>...</td>\n",
       "      <td>...</td>\n",
       "      <td>...</td>\n",
       "    </tr>\n",
       "    <tr>\n",
       "      <th>75</th>\n",
       "      <td>100</td>\n",
       "      <td>500</td>\n",
       "      <td>0.25</td>\n",
       "      <td>5.0</td>\n",
       "    </tr>\n",
       "    <tr>\n",
       "      <th>76</th>\n",
       "      <td>200</td>\n",
       "      <td>3000</td>\n",
       "      <td>2.00</td>\n",
       "      <td>20.0</td>\n",
       "    </tr>\n",
       "    <tr>\n",
       "      <th>77</th>\n",
       "      <td>50</td>\n",
       "      <td>250</td>\n",
       "      <td>0.25</td>\n",
       "      <td>2.5</td>\n",
       "    </tr>\n",
       "    <tr>\n",
       "      <th>78</th>\n",
       "      <td>75</td>\n",
       "      <td>750</td>\n",
       "      <td>0.50</td>\n",
       "      <td>7.5</td>\n",
       "    </tr>\n",
       "    <tr>\n",
       "      <th>79</th>\n",
       "      <td>150</td>\n",
       "      <td>1500</td>\n",
       "      <td>0.25</td>\n",
       "      <td>7.5</td>\n",
       "    </tr>\n",
       "  </tbody>\n",
       "</table>\n",
       "<p>80 rows × 4 columns</p>\n",
       "</div>"
      ],
      "text/plain": [
       "   greek tickets iphone 13  green tea kit kat  burrito\n",
       "0            125      1750               1.00     20.0\n",
       "1            200       750               2.00     10.0\n",
       "2            175      1750               1.25     12.5\n",
       "3            150      2000               1.00     10.0\n",
       "4            150       750               1.00      5.0\n",
       "..           ...       ...                ...      ...\n",
       "75           100       500               0.25      5.0\n",
       "76           200      3000               2.00     20.0\n",
       "77            50       250               0.25      2.5\n",
       "78            75       750               0.50      7.5\n",
       "79           150      1500               0.25      7.5\n",
       "\n",
       "[80 rows x 4 columns]"
      ]
     },
     "execution_count": 169,
     "metadata": {},
     "output_type": "execute_result"
    }
   ],
   "source": [
    "demand_df['greek tickets'] = demand_df['greek tickets'].str.replace('$', '')\n",
    "demand_df['iphone 13'] = demand_df['iphone 13'].str.replace('$', '')\n",
    "demand_df"
   ]
  },
  {
   "cell_type": "markdown",
   "metadata": {},
   "source": [
    "And then Pandas will allow us to change the data type to Numeric from String\n",
    "- to be sure lets apply it to all of the columns"
   ]
  },
  {
   "cell_type": "code",
   "execution_count": 170,
   "metadata": {},
   "outputs": [
    {
     "data": {
      "text/html": [
       "<div>\n",
       "<style scoped>\n",
       "    .dataframe tbody tr th:only-of-type {\n",
       "        vertical-align: middle;\n",
       "    }\n",
       "\n",
       "    .dataframe tbody tr th {\n",
       "        vertical-align: top;\n",
       "    }\n",
       "\n",
       "    .dataframe thead th {\n",
       "        text-align: right;\n",
       "    }\n",
       "</style>\n",
       "<table border=\"1\" class=\"dataframe\">\n",
       "  <thead>\n",
       "    <tr style=\"text-align: right;\">\n",
       "      <th></th>\n",
       "      <th>greek tickets</th>\n",
       "      <th>iphone 13</th>\n",
       "      <th>green tea kit kat</th>\n",
       "      <th>burrito</th>\n",
       "    </tr>\n",
       "  </thead>\n",
       "  <tbody>\n",
       "    <tr>\n",
       "      <th>0</th>\n",
       "      <td>125</td>\n",
       "      <td>1750</td>\n",
       "      <td>1.00</td>\n",
       "      <td>20.0</td>\n",
       "    </tr>\n",
       "    <tr>\n",
       "      <th>1</th>\n",
       "      <td>200</td>\n",
       "      <td>750</td>\n",
       "      <td>2.00</td>\n",
       "      <td>10.0</td>\n",
       "    </tr>\n",
       "    <tr>\n",
       "      <th>2</th>\n",
       "      <td>175</td>\n",
       "      <td>1750</td>\n",
       "      <td>1.25</td>\n",
       "      <td>12.5</td>\n",
       "    </tr>\n",
       "    <tr>\n",
       "      <th>3</th>\n",
       "      <td>150</td>\n",
       "      <td>2000</td>\n",
       "      <td>1.00</td>\n",
       "      <td>10.0</td>\n",
       "    </tr>\n",
       "    <tr>\n",
       "      <th>4</th>\n",
       "      <td>150</td>\n",
       "      <td>750</td>\n",
       "      <td>1.00</td>\n",
       "      <td>5.0</td>\n",
       "    </tr>\n",
       "    <tr>\n",
       "      <th>...</th>\n",
       "      <td>...</td>\n",
       "      <td>...</td>\n",
       "      <td>...</td>\n",
       "      <td>...</td>\n",
       "    </tr>\n",
       "    <tr>\n",
       "      <th>75</th>\n",
       "      <td>100</td>\n",
       "      <td>500</td>\n",
       "      <td>0.25</td>\n",
       "      <td>5.0</td>\n",
       "    </tr>\n",
       "    <tr>\n",
       "      <th>76</th>\n",
       "      <td>200</td>\n",
       "      <td>3000</td>\n",
       "      <td>2.00</td>\n",
       "      <td>20.0</td>\n",
       "    </tr>\n",
       "    <tr>\n",
       "      <th>77</th>\n",
       "      <td>50</td>\n",
       "      <td>250</td>\n",
       "      <td>0.25</td>\n",
       "      <td>2.5</td>\n",
       "    </tr>\n",
       "    <tr>\n",
       "      <th>78</th>\n",
       "      <td>75</td>\n",
       "      <td>750</td>\n",
       "      <td>0.50</td>\n",
       "      <td>7.5</td>\n",
       "    </tr>\n",
       "    <tr>\n",
       "      <th>79</th>\n",
       "      <td>150</td>\n",
       "      <td>1500</td>\n",
       "      <td>0.25</td>\n",
       "      <td>7.5</td>\n",
       "    </tr>\n",
       "  </tbody>\n",
       "</table>\n",
       "<p>80 rows × 4 columns</p>\n",
       "</div>"
      ],
      "text/plain": [
       "    greek tickets  iphone 13  green tea kit kat  burrito\n",
       "0             125       1750               1.00     20.0\n",
       "1             200        750               2.00     10.0\n",
       "2             175       1750               1.25     12.5\n",
       "3             150       2000               1.00     10.0\n",
       "4             150        750               1.00      5.0\n",
       "..            ...        ...                ...      ...\n",
       "75            100        500               0.25      5.0\n",
       "76            200       3000               2.00     20.0\n",
       "77             50        250               0.25      2.5\n",
       "78             75        750               0.50      7.5\n",
       "79            150       1500               0.25      7.5\n",
       "\n",
       "[80 rows x 4 columns]"
      ]
     },
     "execution_count": 170,
     "metadata": {},
     "output_type": "execute_result"
    }
   ],
   "source": [
    "cols = demand_df.columns\n",
    "demand_df[cols] = demand_df[cols].apply(pd.to_numeric)\n",
    "demand_df"
   ]
  },
  {
   "cell_type": "markdown",
   "metadata": {},
   "source": [
    "And now we can go back to Datascience Table - sorry about that Pandas excursion"
   ]
  },
  {
   "cell_type": "code",
   "execution_count": 172,
   "metadata": {},
   "outputs": [
    {
     "data": {
      "text/html": [
       "<table border=\"1\" class=\"dataframe\">\n",
       "    <thead>\n",
       "        <tr>\n",
       "            <th>greek tickets</th> <th>iphone 13</th> <th>green tea kit kat</th> <th>burrito</th>\n",
       "        </tr>\n",
       "    </thead>\n",
       "    <tbody>\n",
       "        <tr>\n",
       "            <td>125          </td> <td>1750     </td> <td>1                </td> <td>20     </td>\n",
       "        </tr>\n",
       "        <tr>\n",
       "            <td>200          </td> <td>750      </td> <td>2                </td> <td>10     </td>\n",
       "        </tr>\n",
       "        <tr>\n",
       "            <td>175          </td> <td>1750     </td> <td>1.25             </td> <td>12.5   </td>\n",
       "        </tr>\n",
       "        <tr>\n",
       "            <td>150          </td> <td>2000     </td> <td>1                </td> <td>10     </td>\n",
       "        </tr>\n",
       "        <tr>\n",
       "            <td>150          </td> <td>750      </td> <td>1                </td> <td>5      </td>\n",
       "        </tr>\n",
       "        <tr>\n",
       "            <td>150          </td> <td>1250     </td> <td>1.5              </td> <td>15     </td>\n",
       "        </tr>\n",
       "        <tr>\n",
       "            <td>50           </td> <td>750      </td> <td>1                </td> <td>7.5    </td>\n",
       "        </tr>\n",
       "        <tr>\n",
       "            <td>125          </td> <td>1500     </td> <td>1.25             </td> <td>12.5   </td>\n",
       "        </tr>\n",
       "        <tr>\n",
       "            <td>100          </td> <td>1000     </td> <td>0.5              </td> <td>7.5    </td>\n",
       "        </tr>\n",
       "        <tr>\n",
       "            <td>200          </td> <td>2000     </td> <td>1                </td> <td>15     </td>\n",
       "        </tr>\n",
       "    </tbody>\n",
       "</table>\n",
       "<p>... (70 rows omitted)</p>"
      ],
      "text/plain": [
       "greek tickets | iphone 13 | green tea kit kat | burrito\n",
       "125           | 1750      | 1                 | 20\n",
       "200           | 750       | 2                 | 10\n",
       "175           | 1750      | 1.25              | 12.5\n",
       "150           | 2000      | 1                 | 10\n",
       "150           | 750       | 1                 | 5\n",
       "150           | 1250      | 1.5               | 15\n",
       "50            | 750       | 1                 | 7.5\n",
       "125           | 1500      | 1.25              | 12.5\n",
       "100           | 1000      | 0.5               | 7.5\n",
       "200           | 2000      | 1                 | 15\n",
       "... (70 rows omitted)"
      ]
     },
     "execution_count": 172,
     "metadata": {},
     "output_type": "execute_result"
    }
   ],
   "source": [
    "# make a datascience Table from Pandas DF\n",
    "DemandTable=Table.from_df(demand_df)\n",
    "DemandTable"
   ]
  },
  {
   "cell_type": "markdown",
   "metadata": {},
   "source": [
    "Now we can just finish off by cleaning up the variable names\n",
    "\n",
    "I like variable names to not have spaces in them "
   ]
  },
  {
   "cell_type": "code",
   "execution_count": 173,
   "metadata": {},
   "outputs": [
    {
     "data": {
      "text/html": [
       "<table border=\"1\" class=\"dataframe\">\n",
       "    <thead>\n",
       "        <tr>\n",
       "            <th>GreekTix</th> <th>Iphone13</th> <th>GTKitkat</th> <th>Burrito</th>\n",
       "        </tr>\n",
       "    </thead>\n",
       "    <tbody>\n",
       "        <tr>\n",
       "            <td>125     </td> <td>1750    </td> <td>1       </td> <td>20     </td>\n",
       "        </tr>\n",
       "        <tr>\n",
       "            <td>200     </td> <td>750     </td> <td>2       </td> <td>10     </td>\n",
       "        </tr>\n",
       "        <tr>\n",
       "            <td>175     </td> <td>1750    </td> <td>1.25    </td> <td>12.5   </td>\n",
       "        </tr>\n",
       "        <tr>\n",
       "            <td>150     </td> <td>2000    </td> <td>1       </td> <td>10     </td>\n",
       "        </tr>\n",
       "        <tr>\n",
       "            <td>150     </td> <td>750     </td> <td>1       </td> <td>5      </td>\n",
       "        </tr>\n",
       "        <tr>\n",
       "            <td>150     </td> <td>1250    </td> <td>1.5     </td> <td>15     </td>\n",
       "        </tr>\n",
       "        <tr>\n",
       "            <td>50      </td> <td>750     </td> <td>1       </td> <td>7.5    </td>\n",
       "        </tr>\n",
       "        <tr>\n",
       "            <td>125     </td> <td>1500    </td> <td>1.25    </td> <td>12.5   </td>\n",
       "        </tr>\n",
       "        <tr>\n",
       "            <td>100     </td> <td>1000    </td> <td>0.5     </td> <td>7.5    </td>\n",
       "        </tr>\n",
       "        <tr>\n",
       "            <td>200     </td> <td>2000    </td> <td>1       </td> <td>15     </td>\n",
       "        </tr>\n",
       "    </tbody>\n",
       "</table>\n",
       "<p>... (70 rows omitted)</p>"
      ],
      "text/plain": [
       "GreekTix | Iphone13 | GTKitkat | Burrito\n",
       "125      | 1750     | 1        | 20\n",
       "200      | 750      | 2        | 10\n",
       "175      | 1750     | 1.25     | 12.5\n",
       "150      | 2000     | 1        | 10\n",
       "150      | 750      | 1        | 5\n",
       "150      | 1250     | 1.5      | 15\n",
       "50       | 750      | 1        | 7.5\n",
       "125      | 1500     | 1.25     | 12.5\n",
       "100      | 1000     | 0.5      | 7.5\n",
       "200      | 2000     | 1        | 15\n",
       "... (70 rows omitted)"
      ]
     },
     "execution_count": 173,
     "metadata": {},
     "output_type": "execute_result"
    }
   ],
   "source": [
    "DemandTable=DemandTable.relabel(\"greek tickets\",\"GreekTix\")\n",
    "DemandTable=DemandTable.relabel(\"iphone 13\",\"Iphone13\")\n",
    "DemandTable=DemandTable.relabel(\"green tea kit kat\",\"GTKitkat\")\n",
    "DemandTable=DemandTable.relabel(\"burrito\",\"Burrito\")\n",
    "DemandTable"
   ]
  },
  {
   "cell_type": "code",
   "execution_count": 174,
   "metadata": {},
   "outputs": [
    {
     "data": {
      "image/png": "[encoded data removed]",
      "text/plain": [
       "<Figure size 432x288 with 1 Axes>"
      ]
     },
     "metadata": {
      "needs_background": "light"
     },
     "output_type": "display_data"
    },
    {
     "data": {
      "image/png": "[encoded data removed]",
      "text/plain": [
       "<Figure size 432x288 with 1 Axes>"
      ]
     },
     "metadata": {
      "needs_background": "light"
     },
     "output_type": "display_data"
    },
    {
     "data": {
      "image/png": "[encoded data removed]",
      "text/plain": [
       "<Figure size 432x288 with 1 Axes>"
      ]
     },
     "metadata": {
      "needs_background": "light"
     },
     "output_type": "display_data"
    },
    {
     "data": {
      "image/png": "[encoded data removed]",
      "text/plain": [
       "<Figure size 432x288 with 1 Axes>"
      ]
     },
     "metadata": {
      "needs_background": "light"
     },
     "output_type": "display_data"
    }
   ],
   "source": [
    "DemandTable.hist('GTKitkat')\n",
    "DemandTable.hist('Burrito')\n",
    "DemandTable.hist('GreekTix')\n",
    "DemandTable.hist('Iphone13')"
   ]
  },
  {
   "cell_type": "markdown",
   "metadata": {},
   "source": [
    "Lets start by looking just at Kitkats\n",
    "\n",
    "\n",
    "And let't try to figure how how many people would buy GTKitkats at a given price? Let's assume that a person would be willing to buy the good at a price less than their bid price.  "
   ]
  },
  {
   "cell_type": "code",
   "execution_count": 175,
   "metadata": {},
   "outputs": [
    {
     "data": {
      "text/html": [
       "<table border=\"1\" class=\"dataframe\">\n",
       "    <thead>\n",
       "        <tr>\n",
       "            <th>GTKitkat</th>\n",
       "        </tr>\n",
       "    </thead>\n",
       "    <tbody>\n",
       "        <tr>\n",
       "            <td>1       </td>\n",
       "        </tr>\n",
       "        <tr>\n",
       "            <td>2       </td>\n",
       "        </tr>\n",
       "        <tr>\n",
       "            <td>1.25    </td>\n",
       "        </tr>\n",
       "        <tr>\n",
       "            <td>1       </td>\n",
       "        </tr>\n",
       "        <tr>\n",
       "            <td>1       </td>\n",
       "        </tr>\n",
       "        <tr>\n",
       "            <td>1.5     </td>\n",
       "        </tr>\n",
       "        <tr>\n",
       "            <td>1       </td>\n",
       "        </tr>\n",
       "        <tr>\n",
       "            <td>1.25    </td>\n",
       "        </tr>\n",
       "        <tr>\n",
       "            <td>0.5     </td>\n",
       "        </tr>\n",
       "        <tr>\n",
       "            <td>1       </td>\n",
       "        </tr>\n",
       "    </tbody>\n",
       "</table>\n",
       "<p>... (70 rows omitted)</p>"
      ],
      "text/plain": [
       "GTKitkat\n",
       "1\n",
       "2\n",
       "1.25\n",
       "1\n",
       "1\n",
       "1.5\n",
       "1\n",
       "1.25\n",
       "0.5\n",
       "1\n",
       "... (70 rows omitted)"
      ]
     },
     "execution_count": 175,
     "metadata": {},
     "output_type": "execute_result"
    }
   ],
   "source": [
    "KitkatsTable=DemandTable.select('GTKitkat')\n",
    "KitkatsTable"
   ]
  },
  {
   "cell_type": "code",
   "execution_count": 176,
   "metadata": {},
   "outputs": [
    {
     "data": {
      "text/html": [
       "<table border=\"1\" class=\"dataframe\">\n",
       "    <thead>\n",
       "        <tr>\n",
       "            <th>priceGTK</th>\n",
       "        </tr>\n",
       "    </thead>\n",
       "    <tbody>\n",
       "        <tr>\n",
       "            <td>0.25    </td>\n",
       "        </tr>\n",
       "        <tr>\n",
       "            <td>0.5     </td>\n",
       "        </tr>\n",
       "        <tr>\n",
       "            <td>0.75    </td>\n",
       "        </tr>\n",
       "        <tr>\n",
       "            <td>1       </td>\n",
       "        </tr>\n",
       "        <tr>\n",
       "            <td>1.25    </td>\n",
       "        </tr>\n",
       "        <tr>\n",
       "            <td>1.5     </td>\n",
       "        </tr>\n",
       "        <tr>\n",
       "            <td>1.75    </td>\n",
       "        </tr>\n",
       "        <tr>\n",
       "            <td>2       </td>\n",
       "        </tr>\n",
       "    </tbody>\n",
       "</table>"
      ],
      "text/plain": [
       "priceGTK\n",
       "0.25\n",
       "0.5\n",
       "0.75\n",
       "1\n",
       "1.25\n",
       "1.5\n",
       "1.75\n",
       "2"
      ]
     },
     "execution_count": 176,
     "metadata": {},
     "output_type": "execute_result"
    }
   ],
   "source": [
    "# Lets make a vector of prices\n",
    "DemandGTK= Table().with_columns([\n",
    "    'priceGTK',[0.25, 0.5, 0.75, 1.00, 1.25, 1.5,1.75,2],    \n",
    "])\n",
    "DemandGTK"
   ]
  },
  {
   "cell_type": "code",
   "execution_count": 177,
   "metadata": {},
   "outputs": [
    {
     "data": {
      "text/html": [
       "<table border=\"1\" class=\"dataframe\">\n",
       "    <thead>\n",
       "        <tr>\n",
       "            <th>GTKitkat</th> <th>count</th>\n",
       "        </tr>\n",
       "    </thead>\n",
       "    <tbody>\n",
       "        <tr>\n",
       "            <td>0.25    </td> <td>6    </td>\n",
       "        </tr>\n",
       "        <tr>\n",
       "            <td>0.5     </td> <td>18   </td>\n",
       "        </tr>\n",
       "        <tr>\n",
       "            <td>0.75    </td> <td>9    </td>\n",
       "        </tr>\n",
       "        <tr>\n",
       "            <td>1       </td> <td>26   </td>\n",
       "        </tr>\n",
       "        <tr>\n",
       "            <td>1.25    </td> <td>7    </td>\n",
       "        </tr>\n",
       "        <tr>\n",
       "            <td>1.5     </td> <td>5    </td>\n",
       "        </tr>\n",
       "        <tr>\n",
       "            <td>1.75    </td> <td>4    </td>\n",
       "        </tr>\n",
       "        <tr>\n",
       "            <td>2       </td> <td>5    </td>\n",
       "        </tr>\n",
       "    </tbody>\n",
       "</table>"
      ],
      "text/plain": [
       "GTKitkat | count\n",
       "0.25     | 6\n",
       "0.5      | 18\n",
       "0.75     | 9\n",
       "1        | 26\n",
       "1.25     | 7\n",
       "1.5      | 5\n",
       "1.75     | 4\n",
       "2        | 5"
      ]
     },
     "execution_count": 177,
     "metadata": {},
     "output_type": "execute_result"
    }
   ],
   "source": [
    "# Count how many people are in each answer pool\n",
    "KitkatsTable.group(\"GTKitkat\")"
   ]
  },
  {
   "cell_type": "markdown",
   "metadata": {},
   "source": [
    "Now the number of each isnt the right quantity - we want to know the number of people who would pay at any given price or any lower price\n",
    " - people will pay \"up to their bid price\"\n",
    " - we consider the bid the maximum they are willing to pay, but will pay anything less\n",
    " - the bid was for a single unit, so for now we will disregard individuals buying multiple units\n",
    " \n",
    " We are going to do this by \n",
    "  1) flipping the order of the count column\n",
    "  2) doing a cumulative function of all prices below\n",
    "  3) flipping it back"
   ]
  },
  {
   "cell_type": "code",
   "execution_count": 178,
   "metadata": {},
   "outputs": [],
   "source": [
    "#Cumulative Sum of how many people are willing to pay at a agiven price\n",
    "Qdemand = np.flip(np.cumsum(np.flip(KitkatsTable.group(\"GTKitkat\").column(\"count\"))))"
   ]
  },
  {
   "cell_type": "code",
   "execution_count": 82,
   "metadata": {},
   "outputs": [],
   "source": [
    "# # Lets count how many people would buy at a given price\n",
    "## This is not the right way to code!\n",
    "# Qdemand=np.count_nonzero(KitkatsTable.column('GTKitkat') <= 2)\n",
    "# Qdemand=np.append(Qdemand,np.count_nonzero(KitkatsTable.column('GTKitkat') <= 1.75))\n",
    "# Qdemand=np.append(Qdemand,np.count_nonzero(KitkatsTable.column('GTKitkat') <= 1.5))\n",
    "# Qdemand=np.append(Qdemand,np.count_nonzero(KitkatsTable.column('GTKitkat') <= 1.25))\n",
    "# Qdemand=np.append(Qdemand,np.count_nonzero(KitkatsTable.column('GTKitkat') <= 1))\n",
    "# Qdemand=np.append(Qdemand,np.count_nonzero(KitkatsTable.column('GTKitkat') <= 0.75))\n",
    "# Qdemand=np.append(Qdemand,np.count_nonzero(KitkatsTable.column('GTKitkat') <= 0.5))\n",
    "# Qdemand=np.append(Qdemand,np.count_nonzero(KitkatsTable.column('GTKitkat') <= 0.25))\n",
    "# Qdemand"
   ]
  },
  {
   "cell_type": "code",
   "execution_count": 179,
   "metadata": {},
   "outputs": [
    {
     "data": {
      "text/html": [
       "<table border=\"1\" class=\"dataframe\">\n",
       "    <thead>\n",
       "        <tr>\n",
       "            <th>priceGTK</th> <th>Qdemand</th>\n",
       "        </tr>\n",
       "    </thead>\n",
       "    <tbody>\n",
       "        <tr>\n",
       "            <td>0.25    </td> <td>80     </td>\n",
       "        </tr>\n",
       "        <tr>\n",
       "            <td>0.5     </td> <td>74     </td>\n",
       "        </tr>\n",
       "        <tr>\n",
       "            <td>0.75    </td> <td>56     </td>\n",
       "        </tr>\n",
       "        <tr>\n",
       "            <td>1       </td> <td>47     </td>\n",
       "        </tr>\n",
       "        <tr>\n",
       "            <td>1.25    </td> <td>21     </td>\n",
       "        </tr>\n",
       "        <tr>\n",
       "            <td>1.5     </td> <td>14     </td>\n",
       "        </tr>\n",
       "        <tr>\n",
       "            <td>1.75    </td> <td>9      </td>\n",
       "        </tr>\n",
       "        <tr>\n",
       "            <td>2       </td> <td>5      </td>\n",
       "        </tr>\n",
       "    </tbody>\n",
       "</table>"
      ],
      "text/plain": [
       "priceGTK | Qdemand\n",
       "0.25     | 80\n",
       "0.5      | 74\n",
       "0.75     | 56\n",
       "1        | 47\n",
       "1.25     | 21\n",
       "1.5      | 14\n",
       "1.75     | 9\n",
       "2        | 5"
      ]
     },
     "execution_count": 179,
     "metadata": {},
     "output_type": "execute_result"
    }
   ],
   "source": [
    "# Combine the two into a single table\n",
    "DemandGTK=DemandGTK.with_columns('Qdemand',Qdemand)\n",
    "DemandGTK"
   ]
  },
  {
   "cell_type": "markdown",
   "metadata": {},
   "source": [
    "## Lets looks at this Table and think about Consumer Surplus\n",
    "Lets start from by flipping the order so that it is descending\n",
    "\n",
    "And then let's suppose the price is $1 and lets measure how many people that were willing to pay more are getting a \"surplus\" by getting to by at this price that is lower than their \"Willingness to Pay\" / \" Bid Price\"\n"
   ]
  },
  {
   "cell_type": "code",
   "execution_count": 188,
   "metadata": {},
   "outputs": [
    {
     "data": {
      "text/html": [
       "<table border=\"1\" class=\"dataframe\">\n",
       "    <thead>\n",
       "        <tr>\n",
       "            <th>priceGTK</th> <th>Qdemand</th>\n",
       "        </tr>\n",
       "    </thead>\n",
       "    <tbody>\n",
       "        <tr>\n",
       "            <td>2       </td> <td>5      </td>\n",
       "        </tr>\n",
       "        <tr>\n",
       "            <td>1.75    </td> <td>9      </td>\n",
       "        </tr>\n",
       "        <tr>\n",
       "            <td>1.5     </td> <td>14     </td>\n",
       "        </tr>\n",
       "        <tr>\n",
       "            <td>1.25    </td> <td>21     </td>\n",
       "        </tr>\n",
       "        <tr>\n",
       "            <td>1       </td> <td>47     </td>\n",
       "        </tr>\n",
       "        <tr>\n",
       "            <td>0.75    </td> <td>56     </td>\n",
       "        </tr>\n",
       "        <tr>\n",
       "            <td>0.5     </td> <td>74     </td>\n",
       "        </tr>\n",
       "        <tr>\n",
       "            <td>0.25    </td> <td>80     </td>\n",
       "        </tr>\n",
       "    </tbody>\n",
       "</table>"
      ],
      "text/plain": [
       "priceGTK | Qdemand\n",
       "2        | 5\n",
       "1.75     | 9\n",
       "1.5      | 14\n",
       "1.25     | 21\n",
       "1        | 47\n",
       "0.75     | 56\n",
       "0.5      | 74\n",
       "0.25     | 80"
      ]
     },
     "execution_count": 188,
     "metadata": {},
     "output_type": "execute_result"
    }
   ],
   "source": [
    "DemandGTK.sort(\"priceGTK\", descending = True)"
   ]
  },
  {
   "cell_type": "markdown",
   "metadata": {},
   "source": [
    "It looks like \n",
    "- 21 people would have been willing to pay up to $ 1.25\n",
    "\n",
    "- 14 people would have been willing to pay up to $ 1.50\n",
    "\n",
    "- 9 people would have been willing to pay up to $ 1.75\n",
    "\n",
    "- 5 people would have been willing to pay up to $ 2\n",
    "\n",
    "Lets add up these values\n"
   ]
  },
  {
   "cell_type": "code",
   "execution_count": 195,
   "metadata": {},
   "outputs": [
    {
     "name": "stdout",
     "output_type": "stream",
     "text": [
      " THe consumer surplus from counting consumers is  24.75\n"
     ]
    }
   ],
   "source": [
    "CS_counting = 22*0.25+15*0.5+9*0.75+5*1\n",
    "print(' THe consumer surplus from counting consumers is ', CS_counting )"
   ]
  },
  {
   "cell_type": "code",
   "execution_count": 196,
   "metadata": {},
   "outputs": [
    {
     "data": {
      "text/plain": [
       "Text(0.5, 1.0, 'Demand for Green Tea Kitkats')"
      ]
     },
     "execution_count": 196,
     "metadata": {},
     "output_type": "execute_result"
    },
    {
     "data": {
      "image/png": "[encoded data removed]",
      "text/plain": [
       "<Figure size 432x432 with 1 Axes>"
      ]
     },
     "metadata": {
      "needs_background": "light"
     },
     "output_type": "display_data"
    }
   ],
   "source": [
    "DemandGTK.plot(\"Qdemand\", \"priceGTK\")\n",
    "plt.xlabel('Quantity')\n",
    "plt.ylabel('Price')\n",
    "plt.title('Demand for Green Tea Kitkats')"
   ]
  },
  {
   "cell_type": "code",
   "execution_count": 197,
   "metadata": {},
   "outputs": [
    {
     "data": {
      "image/png": "[encoded data removed]",
      "text/plain": [
       "<Figure size 360x360 with 1 Axes>"
      ]
     },
     "metadata": {
      "needs_background": "light"
     },
     "output_type": "display_data"
    }
   ],
   "source": [
    "DemandGTK.scatter(\"Qdemand\", \"priceGTK\")\n",
    "plt.xlabel('Quantity')\n",
    "plt.ylabel('Price')\n",
    "plt.title('Demand for Green Tea Kitkats');"
   ]
  },
  {
   "cell_type": "markdown",
   "metadata": {},
   "source": [
    "Now that we have a demand curve - Let's create for a model that makes a linear approximation like we did in the homeworks"
   ]
  },
  {
   "cell_type": "code",
   "execution_count": 198,
   "metadata": {},
   "outputs": [],
   "source": [
    "#What are the slope and intercept of the fit line\n",
    "std_units = lambda a: (a - np.mean(a)) / np.std(a)\n",
    "corr = lambda x, y: np.mean(std_units(x) * std_units(y))\n",
    "slope = lambda x, y: corr(x, y) * np.std(y) / np.std(x)\n",
    "intercept = lambda x, y: np.mean(y) - slope(x, y) * np.mean(x)"
   ]
  },
  {
   "cell_type": "code",
   "execution_count": 199,
   "metadata": {},
   "outputs": [
    {
     "data": {
      "text/plain": [
       "-0.020009585430146175"
      ]
     },
     "execution_count": 199,
     "metadata": {},
     "output_type": "execute_result"
    }
   ],
   "source": [
    "gt_slope = slope(DemandGTK[\"Qdemand\"], DemandGTK[\"priceGTK\"])\n",
    "gt_slope"
   ]
  },
  {
   "cell_type": "code",
   "execution_count": 200,
   "metadata": {},
   "outputs": [
    {
     "data": {
      "text/plain": [
       "1.8903666427030912"
      ]
     },
     "execution_count": 200,
     "metadata": {},
     "output_type": "execute_result"
    }
   ],
   "source": [
    "gt_intercept = intercept(DemandGTK[\"Qdemand\"], DemandGTK[\"priceGTK\"])\n",
    "gt_intercept"
   ]
  },
  {
   "cell_type": "code",
   "execution_count": 201,
   "metadata": {},
   "outputs": [
    {
     "data": {
      "text/plain": [
       "[<matplotlib.lines.Line2D at 0x7ff098e1b220>]"
      ]
     },
     "execution_count": 201,
     "metadata": {},
     "output_type": "execute_result"
    },
    {
     "data": {
      "image/png": "[encoded data removed]",
      "text/plain": [
       "<Figure size 432x432 with 1 Axes>"
      ]
     },
     "metadata": {
      "needs_background": "light"
     },
     "output_type": "display_data"
    }
   ],
   "source": [
    "DemandGTK.plot(\"Qdemand\", \"priceGTK\")\n",
    "plt.xlabel('Quantity')\n",
    "plt.ylabel('Price')\n",
    "plt.title('Demand for Green Tea Kitkats');\n",
    "plt.plot(np.arange(0,81,0.01), gt_slope * np.arange(0,81,0.01) + gt_intercept)"
   ]
  },
  {
   "cell_type": "code",
   "execution_count": 202,
   "metadata": {},
   "outputs": [
    {
     "data": {
      "text/latex": [
       "$\\displaystyle 44.4970059880239$"
      ],
      "text/plain": [
       "44.4970059880239"
      ]
     },
     "execution_count": 202,
     "metadata": {},
     "output_type": "execute_result"
    }
   ],
   "source": [
    "#How many people does the Model think would buy at $1\n",
    "solve = lambda x,y: sympy.solve(x-y)[0] if len(sympy.solve(x-y))==1 else \"Not Single Solution\"\n",
    "Q = sympy.Symbol(\"Q\")\n",
    "demand = gt_slope * Q + gt_intercept\n",
    "supply = 1\n",
    "Q_Star=solve(demand,supply)\n",
    "#Q_star = solve(demand, supply) # our version of solve is simplified for single solution systems\n",
    "Q_Star"
   ]
  },
  {
   "cell_type": "code",
   "execution_count": 203,
   "metadata": {},
   "outputs": [
    {
     "name": "stdout",
     "output_type": "stream",
     "text": [
      "Consumer surplus is equal to green triangle: 20.025\n"
     ]
    },
    {
     "data": {
      "image/png": "[encoded data removed]",
      "text/plain": [
       "<Figure size 432x432 with 1 Axes>"
      ]
     },
     "metadata": {
      "needs_background": "light"
     },
     "output_type": "display_data"
    }
   ],
   "source": [
    "DemandGTK.plot(\"Qdemand\", \"priceGTK\")\n",
    "plt.xlabel('Quantity')\n",
    "plt.ylabel('Price')\n",
    "plt.title('Demand for Green Tea Kitkats')\n",
    "plt.plot(np.arange(0,82,0.01), gt_slope * np.arange(0,82,0.01) + gt_intercept)\n",
    "plt.hlines(1,0,82, color ='r')\n",
    "#plt.hlines(y = 1, xmin = 0, xmax = 82, color ='r')\n",
    "\n",
    "#model_q= gt_slope *1 + gt_intercept)\n",
    "triangle1 = patches.Polygon([[0,1],[Q_Star,1],[0,1.89]],True,color=\"green\")\n",
    "currentAxis = plt.gca()\n",
    "currentAxis.add_patch(triangle1)\n",
    "\n",
    "print(\"Consumer surplus is equal to green triangle: \"+str(0.5*(1.89-1)*45))\n"
   ]
  },
  {
   "cell_type": "code",
   "execution_count": 188,
   "metadata": {},
   "outputs": [
    {
     "data": {
      "text/html": [
       "<table border=\"1\" class=\"dataframe\">\n",
       "    <thead>\n",
       "        <tr>\n",
       "            <th>priceGTK</th> <th>Qdemand</th>\n",
       "        </tr>\n",
       "    </thead>\n",
       "    <tbody>\n",
       "        <tr>\n",
       "            <td>2       </td> <td>5      </td>\n",
       "        </tr>\n",
       "        <tr>\n",
       "            <td>1.75    </td> <td>9      </td>\n",
       "        </tr>\n",
       "        <tr>\n",
       "            <td>1.5     </td> <td>14     </td>\n",
       "        </tr>\n",
       "        <tr>\n",
       "            <td>1.25    </td> <td>21     </td>\n",
       "        </tr>\n",
       "        <tr>\n",
       "            <td>1       </td> <td>47     </td>\n",
       "        </tr>\n",
       "        <tr>\n",
       "            <td>0.75    </td> <td>56     </td>\n",
       "        </tr>\n",
       "        <tr>\n",
       "            <td>0.5     </td> <td>74     </td>\n",
       "        </tr>\n",
       "        <tr>\n",
       "            <td>0.25    </td> <td>80     </td>\n",
       "        </tr>\n",
       "    </tbody>\n",
       "</table>"
      ],
      "text/plain": [
       "priceGTK | Qdemand\n",
       "2        | 5\n",
       "1.75     | 9\n",
       "1.5      | 14\n",
       "1.25     | 21\n",
       "1        | 47\n",
       "0.75     | 56\n",
       "0.5      | 74\n",
       "0.25     | 80"
      ]
     },
     "execution_count": 188,
     "metadata": {},
     "output_type": "execute_result"
    }
   ],
   "source": [
    "DemandGTK.sort(\"priceGTK\", descending = True)"
   ]
  },
  {
   "cell_type": "markdown",
   "metadata": {},
   "source": [
    "##  Let's try again for Burritos "
   ]
  },
  {
   "cell_type": "code",
   "execution_count": 51,
   "metadata": {},
   "outputs": [
    {
     "data": {
      "text/html": [
       "<table border=\"1\" class=\"dataframe\">\n",
       "    <thead>\n",
       "        <tr>\n",
       "            <th>Burrito</th>\n",
       "        </tr>\n",
       "    </thead>\n",
       "    <tbody>\n",
       "        <tr>\n",
       "            <td>12.5   </td>\n",
       "        </tr>\n",
       "        <tr>\n",
       "            <td>5      </td>\n",
       "        </tr>\n",
       "        <tr>\n",
       "            <td>12.5   </td>\n",
       "        </tr>\n",
       "        <tr>\n",
       "            <td>5      </td>\n",
       "        </tr>\n",
       "        <tr>\n",
       "            <td>17.5   </td>\n",
       "        </tr>\n",
       "        <tr>\n",
       "            <td>15     </td>\n",
       "        </tr>\n",
       "        <tr>\n",
       "            <td>5      </td>\n",
       "        </tr>\n",
       "        <tr>\n",
       "            <td>10     </td>\n",
       "        </tr>\n",
       "        <tr>\n",
       "            <td>12.5   </td>\n",
       "        </tr>\n",
       "        <tr>\n",
       "            <td>12.5   </td>\n",
       "        </tr>\n",
       "    </tbody>\n",
       "</table>\n",
       "<p>... (40 rows omitted)</p>"
      ],
      "text/plain": [
       "Burrito\n",
       "12.5\n",
       "5\n",
       "12.5\n",
       "5\n",
       "17.5\n",
       "15\n",
       "5\n",
       "10\n",
       "12.5\n",
       "12.5\n",
       "... (40 rows omitted)"
      ]
     },
     "execution_count": 51,
     "metadata": {},
     "output_type": "execute_result"
    }
   ],
   "source": [
    "BurritosTable=DemandTable.select('Burrito')\n",
    "BurritosTable\n"
   ]
  },
  {
   "cell_type": "code",
   "execution_count": 52,
   "metadata": {},
   "outputs": [
    {
     "data": {
      "text/html": [
       "<table border=\"1\" class=\"dataframe\">\n",
       "    <thead>\n",
       "        <tr>\n",
       "            <th>priceBurr</th>\n",
       "        </tr>\n",
       "    </thead>\n",
       "    <tbody>\n",
       "        <tr>\n",
       "            <td>2.5      </td>\n",
       "        </tr>\n",
       "        <tr>\n",
       "            <td>5        </td>\n",
       "        </tr>\n",
       "        <tr>\n",
       "            <td>7.5      </td>\n",
       "        </tr>\n",
       "        <tr>\n",
       "            <td>10       </td>\n",
       "        </tr>\n",
       "        <tr>\n",
       "            <td>12.5     </td>\n",
       "        </tr>\n",
       "        <tr>\n",
       "            <td>15       </td>\n",
       "        </tr>\n",
       "        <tr>\n",
       "            <td>17.5     </td>\n",
       "        </tr>\n",
       "        <tr>\n",
       "            <td>20       </td>\n",
       "        </tr>\n",
       "    </tbody>\n",
       "</table>"
      ],
      "text/plain": [
       "priceBurr\n",
       "2.5\n",
       "5\n",
       "7.5\n",
       "10\n",
       "12.5\n",
       "15\n",
       "17.5\n",
       "20"
      ]
     },
     "execution_count": 52,
     "metadata": {},
     "output_type": "execute_result"
    }
   ],
   "source": [
    "DemandBurr= Table().with_columns([\n",
    "    'priceBurr',[2.5, 5, 7.5, 10.00, 12.5, 15,17.5,20],    \n",
    "])\n",
    "DemandBurr"
   ]
  },
  {
   "cell_type": "code",
   "execution_count": 56,
   "metadata": {},
   "outputs": [],
   "source": [
    "\n",
    "Qdemand = np.flip(np.cumsum(np.flip(BurritosTable.group(\"Burrito\").column(\"count\"))))\n",
    "#if \"20\" not in BurritosTable.column(\"Burrito\"):\n",
    " #   Qdemand = np.append(Qdemand, 0)"
   ]
  },
  {
   "cell_type": "code",
   "execution_count": 57,
   "metadata": {},
   "outputs": [
    {
     "data": {
      "text/html": [
       "<table border=\"1\" class=\"dataframe\">\n",
       "    <thead>\n",
       "        <tr>\n",
       "            <th>priceBurr</th> <th>Qdemand</th>\n",
       "        </tr>\n",
       "    </thead>\n",
       "    <tbody>\n",
       "        <tr>\n",
       "            <td>2.5      </td> <td>50     </td>\n",
       "        </tr>\n",
       "        <tr>\n",
       "            <td>5        </td> <td>48     </td>\n",
       "        </tr>\n",
       "        <tr>\n",
       "            <td>7.5      </td> <td>38     </td>\n",
       "        </tr>\n",
       "        <tr>\n",
       "            <td>10       </td> <td>23     </td>\n",
       "        </tr>\n",
       "        <tr>\n",
       "            <td>12.5     </td> <td>13     </td>\n",
       "        </tr>\n",
       "        <tr>\n",
       "            <td>15       </td> <td>6      </td>\n",
       "        </tr>\n",
       "        <tr>\n",
       "            <td>17.5     </td> <td>3      </td>\n",
       "        </tr>\n",
       "        <tr>\n",
       "            <td>20       </td> <td>2      </td>\n",
       "        </tr>\n",
       "    </tbody>\n",
       "</table>"
      ],
      "text/plain": [
       "priceBurr | Qdemand\n",
       "2.5       | 50\n",
       "5         | 48\n",
       "7.5       | 38\n",
       "10        | 23\n",
       "12.5      | 13\n",
       "15        | 6\n",
       "17.5      | 3\n",
       "20        | 2"
      ]
     },
     "execution_count": 57,
     "metadata": {},
     "output_type": "execute_result"
    }
   ],
   "source": [
    "DemandBurr=DemandBurr.with_columns('Qdemand',Qdemand)\n",
    "DemandBurr"
   ]
  },
  {
   "cell_type": "code",
   "execution_count": 58,
   "metadata": {},
   "outputs": [
    {
     "data": {
      "image/png": "[encoded data removed]",
      "text/plain": [
       "<Figure size 432x288 with 1 Axes>"
      ]
     },
     "metadata": {
      "needs_background": "light"
     },
     "output_type": "display_data"
    }
   ],
   "source": [
    "DemandBurr.plot(\"Qdemand\", \"priceBurr\")\n",
    "plt.xlabel('Quantity')\n",
    "plt.ylabel('Price')\n",
    "plt.title('Demand for Burritos');"
   ]
  },
  {
   "cell_type": "markdown",
   "metadata": {},
   "source": [
    "## Section 2  - fun with widgets"
   ]
  },
  {
   "cell_type": "code",
   "execution_count": 204,
   "metadata": {},
   "outputs": [
    {
     "data": {
      "application/vnd.jupyter.widget-view+json": {
       "model_id": "d83bb31088fa4fe5971e624f87d50ef1",
       "version_major": 2,
       "version_minor": 0
      },
      "text/plain": [
       "interactive(children=(IntSlider(value=10, description='demandParam', max=15, min=5), IntSlider(value=10, descr…"
      ]
     },
     "metadata": {},
     "output_type": "display_data"
    }
   ],
   "source": [
    "import sympy\n",
    "import matplotlib.pyplot as plt\n",
    "import matplotlib.patches as patches\n",
    "p = sympy.Symbol(\"p\")\n",
    "def Equilibrium(demandParam, supplyParam, priceStart):\n",
    "    demandEquation = demandParam - p\n",
    "    # change the slope\n",
    "    supplyEquation = p * (supplyParam/10)\n",
    "    priceEnd = sympy.solve(demandEquation)[0]\n",
    "    prices = []\n",
    "    demandQ = []\n",
    "    supplyQ = []\n",
    "    for price in range(priceStart,priceEnd+1):\n",
    "        prices += [price]\n",
    "        demandQ += [demandEquation.subs(p,price)]\n",
    "        supplyQ += [supplyEquation.subs(p,price)]\n",
    "    \n",
    "    equilibriumP = sympy.solve(demandEquation-supplyEquation)[0]\n",
    "    equilibriumQ = demandEquation.subs(p,equilibriumP)\n",
    "    \n",
    "    \n",
    "    \n",
    "    triangle1 = patches.Polygon([[equilibriumQ,equilibriumP],[0,equilibriumP],[0,priceEnd]],True,color=\"green\")\n",
    "    triangle2 = patches.Polygon([[equilibriumQ,equilibriumP],[0,equilibriumP],[0,0]],True,color=\"red\")\n",
    "    currentAxis = plt.gca()\n",
    "    currentAxis.add_patch(triangle1)\n",
    "    currentAxis.add_patch(triangle2)\n",
    "    \n",
    "    plt.plot(demandQ,prices)\n",
    "    plt.plot(supplyQ,prices)\n",
    "    plt.legend([\"Demand\",\"Supply\"])\n",
    "    plt.plot(equilibriumQ,equilibriumP, 'ro')\n",
    "    plt.xlabel(\"Supply and Demand Quantity\")\n",
    "    plt.ylabel(\"Price\")\n",
    "    plt.ylim(0, 15)\n",
    "    plt.xlim(0, 10)\n",
    "    plt.show()\n",
    "    print(\"The equilibrium price is \"+str(round(equilibriumP,2))+\" and equilibrium quantity is \"+str(round(equilibriumQ,2))+\".\")\n",
    "    print(\"The consumer surplus at this equilibrium \"+str((priceEnd-equilibriumP)*(equilibriumQ)*.5))\n",
    "    print(\"The producer surplus at this equilibrium \"+str((equilibriumP)*(equilibriumQ)*.5))\n",
    "# you can change the range here\n",
    "slider1 = widgets.IntSlider(min=5, max=15,step=1,value=10)\n",
    "slider2 = widgets.IntSlider(min=1, max=20,step=1,value=10)\n",
    "slider3 = widgets.IntSlider(min=-5, max=5,step=1,value=0)\n",
    "display(widgets.interactive(Equilibrium, demandParam=slider1, supplyParam=slider2, priceStart=slider3))"
   ]
  },
  {
   "cell_type": "code",
   "execution_count": null,
   "metadata": {},
   "outputs": [],
   "source": []
  },
  {
   "cell_type": "code",
   "execution_count": 205,
   "metadata": {},
   "outputs": [],
   "source": [
    "def eqSolve(eq1,eq2,tax):\n",
    "    demandP = sympy.solve(eq1-q,p)[0]\n",
    "    supplyP = sympy.solve(eq2-q,p)[0]\n",
    "    demandP = demandP-cTax\n",
    "    supplyP = supplyP+pTax\n",
    "\n",
    "    demandQ = sympy.solve(demandP-p,q)[0]\n",
    "    supplyQ = sympy.solve(supplyP-p,q)[0]\n",
    "    \n",
    "    return sympy.solve((demandP-supplyP, demandQ-supplyQ,tax-cTax-pTax), q,p,cTax,pTax)[q]"
   ]
  },
  {
   "cell_type": "code",
   "execution_count": 206,
   "metadata": {},
   "outputs": [
    {
     "data": {
      "application/vnd.jupyter.widget-view+json": {
       "model_id": "0606e2d3190c4e11a4364478f545e5cc",
       "version_major": 2,
       "version_minor": 0
      },
      "text/plain": [
       "interactive(children=(IntSlider(value=10, description='demandParam', max=15, min=5), IntSlider(value=10, descr…"
      ]
     },
     "metadata": {},
     "output_type": "display_data"
    }
   ],
   "source": [
    "import sympy\n",
    "import matplotlib.pyplot as plt\n",
    "import matplotlib.patches as patches\n",
    "p = sympy.Symbol(\"p\")\n",
    "q = sympy.Symbol(\"q\")\n",
    "cTax = sympy.Symbol(\"cTax\")\n",
    "pTax = sympy.Symbol(\"pTax\")\n",
    "\n",
    "def EquilibriumTax(demandParam,supplyParam,priceStart,priceEnd,tax):\n",
    "    demandEquation = demandParam - p\n",
    "    supplyEquation = p * (supplyParam/10)\n",
    "    prices = []\n",
    "    demand = []\n",
    "    supply = []\n",
    "    for price in range(priceStart,priceEnd+1):\n",
    "        prices += [price]\n",
    "        demand += [demandEquation.subs(p,price)]\n",
    "        supply += [supplyEquation.subs(p,price)]\n",
    "        \n",
    "    \n",
    "    \n",
    "    nonTaxPrice = sympy.solve(demandEquation-supplyEquation)[0]\n",
    "    nonTaxQ = demandEquation.subs(p,nonTaxPrice)\n",
    "\n",
    "    \n",
    "    equilibriumQ = eqSolve(demandEquation,supplyEquation,tax)\n",
    "    equilibriumP1 = sympy.solve(demandEquation-equilibriumQ)[0]\n",
    "    equilibriumP2 = sympy.solve(supplyEquation-equilibriumQ)[0]\n",
    "    \n",
    "    triangle1 = patches.Polygon([[nonTaxQ,nonTaxPrice],[equilibriumQ,nonTaxPrice],[equilibriumQ,equilibriumP1]],True,color=\"green\")\n",
    "    triangle2 = patches.Polygon([[nonTaxQ,nonTaxPrice],[equilibriumQ,nonTaxPrice],[equilibriumQ,equilibriumP2]],True)\n",
    "    currentAxis = plt.gca()\n",
    "    currentAxis.add_patch(triangle1)\n",
    "    currentAxis.add_patch(triangle2)\n",
    "    \n",
    "    \n",
    "    rect1 = patches.Rectangle((0,nonTaxPrice),equilibriumQ,equilibriumP1-nonTaxPrice,linewidth=1,facecolor=\"red\")\n",
    "    rect2 = patches.Rectangle((0,nonTaxPrice),equilibriumQ,equilibriumP2-nonTaxPrice,linewidth=1,facecolor=\"yellow\")\n",
    "    currentAxis.add_patch(rect1)\n",
    "    currentAxis.add_patch(rect2)\n",
    "    \n",
    "    plt.plot(demand,prices)\n",
    "    plt.plot(supply,prices)\n",
    "    \n",
    "    \n",
    "    plt.legend([rect1,rect2,triangle1,triangle2], [\"Consumer Tax\",\"Producer Tax\",\"Consumer Deadweight Loss\",\"Producer Deadweight Loss\"])\n",
    "    plt.plot(equilibriumQ,equilibriumP1, 'ro')\n",
    "    plt.plot(equilibriumQ,equilibriumP2, 'ro')\n",
    "    plt.xlabel(\"Supply and Demand Quantity\")\n",
    "    plt.ylabel(\"Price\")\n",
    "    plt.ylim(0, 15)\n",
    "    plt.xlim(0, 10)\n",
    "    plt.show()\n",
    "    print(\"Without Tax - the equilibrium price is \"+str(round(nonTaxPrice,2))+\" and equilibrium quantity is \"+str(round(nonTaxQ,2)))\n",
    "    print(\"With Tax - Price paid by consumers is \"+str(equilibriumP1)+\" Price received by suppliers is \"+str(round(equilibriumP2,2))+\" and equilibrium quantity is \"+str(equilibriumQ)+\".\")\n",
    "    print(\"Taxes raised from consumers equals \"+str(round(equilibriumQ*(equilibriumP1-nonTaxPrice),2)))\n",
    "    print(\"Taxes raised from producers equals \"+str(round(equilibriumQ*(nonTaxPrice-equilibriumP2),2)))\n",
    "    print(\"Total taxes raised equals \"+str(equilibriumQ*tax))\n",
    "\n",
    "slider1 = widgets.IntSlider(min=5, max=15,step=1,value=10)\n",
    "slider2 = widgets.IntSlider(min=1, max=20,step=1,value=10)\n",
    "slider3 = widgets.IntSlider(min=-5, max=5,step=1,value=0)\n",
    "slider4 = widgets.IntSlider(min=5, max=20,step=1,value=10)\n",
    "slider5 = widgets.IntSlider(min=0, max=8,step=1,value=4)\n",
    "display(widgets.interactive(EquilibriumTax, demandParam=slider1, supplyParam=slider2, priceStart=slider3, priceEnd=slider4, tax=slider5))"
   ]
  },
  {
   "cell_type": "code",
   "execution_count": null,
   "metadata": {},
   "outputs": [],
   "source": []
  },
  {
   "cell_type": "code",
   "execution_count": null,
   "metadata": {},
   "outputs": [],
   "source": []
  }
 ],
 "metadata": {
  "kernelspec": {
   "display_name": "Python 3",
   "language": "python",
   "name": "python3"
  },
  "language_info": {
   "codemirror_mode": {
    "name": "ipython",
    "version": 3
   },
   "file_extension": ".py",
   "mimetype": "text/x-python",
   "name": "python",
   "nbconvert_exporter": "python",
   "pygments_lexer": "ipython3",
   "version": "3.8.5"
  }
 },
 "nbformat": 4,
 "nbformat_minor": 4
}
