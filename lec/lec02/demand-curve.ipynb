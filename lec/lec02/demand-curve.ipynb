{
 "cells": [
  {
   "cell_type": "markdown",
   "metadata": {},
   "source": [
    "# Creating a Demand Curve"
   ]
  },
  {
   "cell_type": "code",
   "execution_count": 1,
   "metadata": {},
   "outputs": [],
   "source": [
    "import nbforms\n",
    "import numpy as np\n",
    "from datascience import *\n",
    "from ipywidgets import interact, interactive, fixed, interact_manual\n",
    "import ipywidgets as widgets\n",
    "%matplotlib inline\n",
    "import pandas as pd\n",
    "import matplotlib.pyplot as plt"
   ]
  },
  {
   "cell_type": "markdown",
   "metadata": {},
   "source": [
    "We will create a few demand curves based on the class. Start by running the cell below and logging in."
   ]
  },
  {
   "cell_type": "code",
   "execution_count": 2,
   "metadata": {},
   "outputs": [
    {
     "data": {
      "text/html": [
       "\n",
       "                <p>Please <a href=\"https://data-88-nbforms.herokuapp.com/login\" target=\"_blank\">log in</a> to the \n",
       "                nbforms server and enter your API key below.</p>\n",
       "                "
      ],
      "text/plain": [
       "<IPython.core.display.HTML object>"
      ]
     },
     "metadata": {},
     "output_type": "display_data"
    },
    {
     "name": "stdout",
     "output_type": "stream",
     "text": [
      "86e11a87ced3622501498933605dcc883bfe9b5987670440a8bcd529c0c22d13\n"
     ]
    }
   ],
   "source": [
    "form = nbforms.Form()"
   ]
  },
  {
   "cell_type": "markdown",
   "metadata": {},
   "source": [
    "Please run the cell below, fill out the questions, and then click Submit. The Submit button should turn green a few seconds after you click it once it registers your responses."
   ]
  },
  {
   "cell_type": "code",
   "execution_count": 3,
   "metadata": {},
   "outputs": [
    {
     "data": {
      "application/vnd.jupyter.widget-view+json": {
       "model_id": "8af602db87b4465ab12585409edbeae2",
       "version_major": 2,
       "version_minor": 0
      },
      "text/plain": [
       "VBox(children=(VBox(children=(VBox(children=(Label(value='What is the maximum amount you would pay for a green…"
      ]
     },
     "metadata": {},
     "output_type": "display_data"
    }
   ],
   "source": [
    "form.ask()"
   ]
  },
  {
   "cell_type": "markdown",
   "metadata": {},
   "source": [
    "Now let's analyze the classes data by pulling in everyone's responses."
   ]
  },
  {
   "cell_type": "code",
   "execution_count": 5,
   "metadata": {
    "scrolled": true
   },
   "outputs": [
    {
     "data": {
      "text/html": [
       "<table border=\"1\" class=\"dataframe\">\n",
       "    <thead>\n",
       "        <tr>\n",
       "            <th>green tea kit kat</th> <th>burrito</th> <th>greek tickets</th> <th>iphone 13</th>\n",
       "        </tr>\n",
       "    </thead>\n",
       "    <tbody>\n",
       "        <tr>\n",
       "            <td>$1.50            </td> <td>$15.00 </td> <td>$150         </td> <td>$1750    </td>\n",
       "        </tr>\n",
       "        <tr>\n",
       "            <td>$2.00            </td> <td>$20.00 </td> <td>$200         </td> <td>$3000    </td>\n",
       "        </tr>\n",
       "        <tr>\n",
       "            <td>$0.25            </td> <td>$2.50  </td> <td>$50          </td> <td>$250     </td>\n",
       "        </tr>\n",
       "        <tr>\n",
       "            <td>$0.50            </td> <td>$7.50  </td> <td>$75          </td> <td>$750     </td>\n",
       "        </tr>\n",
       "        <tr>\n",
       "            <td>$1.50            </td> <td>$12.50 </td> <td>$125         </td> <td>$2000    </td>\n",
       "        </tr>\n",
       "    </tbody>\n",
       "</table>"
      ],
      "text/plain": [
       "green tea kit kat | burrito | greek tickets | iphone 13\n",
       "$1.50             | $15.00  | $150          | $1750\n",
       "$2.00             | $20.00  | $200          | $3000\n",
       "$0.25             | $2.50   | $50           | $250\n",
       "$0.50             | $7.50   | $75           | $750\n",
       "$1.50             | $12.50  | $125          | $2000"
      ]
     },
     "execution_count": 5,
     "metadata": {},
     "output_type": "execute_result"
    }
   ],
   "source": [
    "demand_table = (\n",
    "    form.to_table()\n",
    "    .relabeled(\"q1\", \"green tea kit kat\")\n",
    "    .relabeled(\"q2\", \"burrito\")\n",
    "    .relabeled(\"q3\", \"greek tickets\")\n",
    "    .relabeled(\"q4\", \"iphone 13\")\n",
    ")\n",
    "demand_table"
   ]
  },
  {
   "cell_type": "markdown",
   "metadata": {},
   "source": [
    "We need to turn all of this data into numeric types and preview them using histograms, one for each good. We will apply the `float` function to each column of the table; do not worry if you do not know what the code is doing."
   ]
  },
  {
   "cell_type": "code",
   "execution_count": 6,
   "metadata": {},
   "outputs": [
    {
     "data": {
      "text/html": [
       "<table border=\"1\" class=\"dataframe\">\n",
       "    <thead>\n",
       "        <tr>\n",
       "            <th>green tea kit kat</th> <th>burrito</th> <th>greek tickets</th> <th>iphone 13</th>\n",
       "        </tr>\n",
       "    </thead>\n",
       "    <tbody>\n",
       "        <tr>\n",
       "            <td>1.5              </td> <td>15     </td> <td>150          </td> <td>1750     </td>\n",
       "        </tr>\n",
       "        <tr>\n",
       "            <td>2                </td> <td>20     </td> <td>200          </td> <td>3000     </td>\n",
       "        </tr>\n",
       "        <tr>\n",
       "            <td>0.25             </td> <td>2.5    </td> <td>50           </td> <td>250      </td>\n",
       "        </tr>\n",
       "        <tr>\n",
       "            <td>0.5              </td> <td>7.5    </td> <td>75           </td> <td>750      </td>\n",
       "        </tr>\n",
       "        <tr>\n",
       "            <td>1.5              </td> <td>12.5   </td> <td>125          </td> <td>2000     </td>\n",
       "        </tr>\n",
       "    </tbody>\n",
       "</table>"
      ],
      "text/plain": [
       "green tea kit kat | burrito | greek tickets | iphone 13\n",
       "1.5               | 15      | 150           | 1750\n",
       "2                 | 20      | 200           | 3000\n",
       "0.25              | 2.5     | 50            | 250\n",
       "0.5               | 7.5     | 75            | 750\n",
       "1.5               | 12.5    | 125           | 2000"
      ]
     },
     "execution_count": 6,
     "metadata": {},
     "output_type": "execute_result"
    }
   ],
   "source": [
    "for label in demand_table.labels:\n",
    "    col = demand_table.apply(lambda s: float(s[1:]), label)\n",
    "    demand_table = demand_table.drop(label).with_column(label, col)\n",
    "    \n",
    "demand_table"
   ]
  },
  {
   "cell_type": "code",
   "execution_count": 7,
   "metadata": {},
   "outputs": [
    {
     "data": {
      "image/png": "[encoded data removed]",
      "text/plain": [
       "<Figure size 432x288 with 1 Axes>"
      ]
     },
     "metadata": {
      "needs_background": "light"
     },
     "output_type": "display_data"
    },
    {
     "data": {
      "image/png": "[encoded data removed]",
      "text/plain": [
       "<Figure size 432x288 with 1 Axes>"
      ]
     },
     "metadata": {
      "needs_background": "light"
     },
     "output_type": "display_data"
    },
    {
     "data": {
      "image/png": "[encoded data removed]",
      "text/plain": [
       "<Figure size 432x288 with 1 Axes>"
      ]
     },
     "metadata": {
      "needs_background": "light"
     },
     "output_type": "display_data"
    },
    {
     "data": {
      "image/png": "[encoded data removed]",
      "text/plain": [
       "<Figure size 432x288 with 1 Axes>"
      ]
     },
     "metadata": {
      "needs_background": "light"
     },
     "output_type": "display_data"
    }
   ],
   "source": [
    "demand_table.hist('green tea kit kat')\n",
    "demand_table.hist('burrito')\n",
    "demand_table.hist('greek tickets')\n",
    "demand_table.hist('iphone 13')"
   ]
  },
  {
   "cell_type": "markdown",
   "metadata": {},
   "source": [
    "Let's start by looking at the demand for green tea kit kats. How many people would buy green tea kit kats at a given price? Let's assume that a person would be willing to buy the good at a price less than their bid price.  "
   ]
  },
  {
   "cell_type": "code",
   "execution_count": 8,
   "metadata": {},
   "outputs": [
    {
     "data": {
      "text/html": [
       "<table border=\"1\" class=\"dataframe\">\n",
       "    <thead>\n",
       "        <tr>\n",
       "            <th>green tea kit kat</th>\n",
       "        </tr>\n",
       "    </thead>\n",
       "    <tbody>\n",
       "        <tr>\n",
       "            <td>1.5              </td>\n",
       "        </tr>\n",
       "        <tr>\n",
       "            <td>2                </td>\n",
       "        </tr>\n",
       "        <tr>\n",
       "            <td>0.25             </td>\n",
       "        </tr>\n",
       "        <tr>\n",
       "            <td>0.5              </td>\n",
       "        </tr>\n",
       "        <tr>\n",
       "            <td>1.5              </td>\n",
       "        </tr>\n",
       "    </tbody>\n",
       "</table>"
      ],
      "text/plain": [
       "green tea kit kat\n",
       "1.5\n",
       "2\n",
       "0.25\n",
       "0.5\n",
       "1.5"
      ]
     },
     "execution_count": 8,
     "metadata": {},
     "output_type": "execute_result"
    }
   ],
   "source": [
    "# This is a column of bid values for Greeen Tea Kitkats that you've all inputted. \n",
    "kit_kats = demand_table.select('green tea kit kat')\n",
    "kit_kats"
   ]
  },
  {
   "cell_type": "code",
   "execution_count": 9,
   "metadata": {},
   "outputs": [
    {
     "data": {
      "text/html": [
       "<table border=\"1\" class=\"dataframe\">\n",
       "    <thead>\n",
       "        <tr>\n",
       "            <th>price</th> <th>quantity</th>\n",
       "        </tr>\n",
       "    </thead>\n",
       "    <tbody>\n",
       "        <tr>\n",
       "            <td>0.25 </td> <td>5       </td>\n",
       "        </tr>\n",
       "        <tr>\n",
       "            <td>0.5  </td> <td>4       </td>\n",
       "        </tr>\n",
       "        <tr>\n",
       "            <td>0.75 </td> <td>3       </td>\n",
       "        </tr>\n",
       "        <tr>\n",
       "            <td>1    </td> <td>3       </td>\n",
       "        </tr>\n",
       "        <tr>\n",
       "            <td>1.25 </td> <td>3       </td>\n",
       "        </tr>\n",
       "        <tr>\n",
       "            <td>1.5  </td> <td>3       </td>\n",
       "        </tr>\n",
       "        <tr>\n",
       "            <td>1.75 </td> <td>1       </td>\n",
       "        </tr>\n",
       "        <tr>\n",
       "            <td>2    </td> <td>1       </td>\n",
       "        </tr>\n",
       "    </tbody>\n",
       "</table>"
      ],
      "text/plain": [
       "price | quantity\n",
       "0.25  | 5\n",
       "0.5   | 4\n",
       "0.75  | 3\n",
       "1     | 3\n",
       "1.25  | 3\n",
       "1.5   | 3\n",
       "1.75  | 1\n",
       "2     | 1"
      ]
     },
     "execution_count": 9,
     "metadata": {},
     "output_type": "execute_result"
    }
   ],
   "source": [
    "# This cell does some python magic. You do not need to worry about what's going on. \n",
    "prices = pd.DataFrame({'price':[0.25, 0.5, 0.75, 1.00, 1.25, 1.5,1.75,2]})\n",
    "KitkatsByPrice = kit_kats.group(\"green tea kit kat\")\n",
    "kkp = KitkatsByPrice.to_df()\n",
    "gtk = (\n",
    "    prices\n",
    "    .merge(kkp, left_on='price', how='left', right_on='green tea kit kat')\n",
    "    .fillna(0).drop('green tea kit kat', axis=1)\n",
    ")\n",
    "kit_kats_table = Table.from_df(gtk)\n",
    "Q_demand = np.flip(np.cumsum(np.flip(kit_kats_table.group(\"price\", sum).column(1))))\n",
    "gtk_demand = Table().with_columns(\n",
    "    'price', prices.price, \n",
    "    'quantity', Q_demand\n",
    ")\n",
    "gtk_demand"
   ]
  },
  {
   "cell_type": "code",
   "execution_count": 10,
   "metadata": {},
   "outputs": [
    {
     "data": {
      "image/png": "[encoded data removed]",
      "text/plain": [
       "<Figure size 360x360 with 1 Axes>"
      ]
     },
     "metadata": {
      "needs_background": "light"
     },
     "output_type": "display_data"
    }
   ],
   "source": [
    "# Let's graph our results\n",
    "gtk_demand.scatter(\"quantity\", \"price\")\n",
    "plt.xlabel('Quantity')\n",
    "plt.ylabel('Price')\n",
    "plt.title('Demand for Green Tea Kitkats');"
   ]
  },
  {
   "cell_type": "markdown",
   "metadata": {},
   "source": [
    "Now let's find the slope and intercept of the line of best fit. The cell below defines some functions that you'll learn about in the later portions of Data 8."
   ]
  },
  {
   "cell_type": "code",
   "execution_count": 11,
   "metadata": {},
   "outputs": [],
   "source": [
    "std_units = lambda a: (a - np.mean(a)) / np.std(a)\n",
    "corr = lambda x, y: np.mean(std_units(x) * std_units(y))\n",
    "slope = lambda x, y: corr(x, y) * np.std(y) / np.std(x)\n",
    "intercept = lambda x, y: np.mean(y) - slope(x, y) * np.mean(x)"
   ]
  },
  {
   "cell_type": "code",
   "execution_count": 12,
   "metadata": {
    "scrolled": true
   },
   "outputs": [
    {
     "data": {
      "text/plain": [
       "-0.41747572815533995"
      ]
     },
     "execution_count": 12,
     "metadata": {},
     "output_type": "execute_result"
    }
   ],
   "source": [
    "slope(gtk_demand[\"quantity\"], gtk_demand[\"price\"])"
   ]
  },
  {
   "cell_type": "code",
   "execution_count": 13,
   "metadata": {},
   "outputs": [
    {
     "data": {
      "text/plain": [
       "2.3252427184466025"
      ]
     },
     "execution_count": 13,
     "metadata": {},
     "output_type": "execute_result"
    }
   ],
   "source": [
    "intercept(gtk_demand[\"quantity\"], gtk_demand[\"price\"])"
   ]
  },
  {
   "cell_type": "markdown",
   "metadata": {},
   "source": [
    "We can use the same code as above to create demand curves for our other products as well!"
   ]
  },
  {
   "cell_type": "code",
   "execution_count": 14,
   "metadata": {},
   "outputs": [
    {
     "name": "stdout",
     "output_type": "stream",
     "text": [
      "Slope: -4.11764705882353\n",
      "Intercept: 23.08823529411765\n"
     ]
    }
   ],
   "source": [
    "#Gourmet Burrito\n",
    "prices_burrito = pd.DataFrame({'price':[2.50, 5, 7.50, 10, 12.5, 15,17.5,20]})\n",
    "\n",
    "burritos = demand_table.select('burrito')\n",
    "burritosByPrice = burritos.group(\"burrito\")\n",
    "bbp = burritosByPrice.to_df()\n",
    "gb = (\n",
    "    prices_burrito\n",
    "    .merge(bbp, left_on='price', how='left', right_on='burrito')\n",
    "    .fillna(0).drop('burrito', axis=1)\n",
    ")\n",
    "\n",
    "burritos_table = Table.from_df(gb)\n",
    "Q_demand_burrito = np.flip(np.cumsum(np.flip(burritos_table.group(\"price\", sum).column(1))))\n",
    "\n",
    "gb_demand = Table().with_columns(\n",
    "    'price', prices_burrito.price, \n",
    "    'quantity', Q_demand_burrito\n",
    ")\n",
    "\n",
    "burrito_slope = slope(gb_demand[\"quantity\"], gb_demand[\"price\"])\n",
    "burrito_intercept = intercept(gb_demand[\"quantity\"], gb_demand[\"price\"])\n",
    "print(\"Slope: \" + str(burrito_slope))\n",
    "print(\"Intercept: \" +  str(burrito_intercept))"
   ]
  },
  {
   "cell_type": "code",
   "execution_count": 15,
   "metadata": {},
   "outputs": [
    {
     "name": "stdout",
     "output_type": "stream",
     "text": [
      "Slope: -37.5\n",
      "Intercept: 225.0\n"
     ]
    }
   ],
   "source": [
    "#Greek Theatre Tickets\n",
    "prices_tickets = pd.DataFrame({'price':[25, 50, 75, 100, 125, 150,175,200]})\n",
    "\n",
    "tickets = demand_table.select('greek tickets')\n",
    "ticketsByPrice = tickets.group(\"greek tickets\")\n",
    "tbp = ticketsByPrice.to_df()\n",
    "gt = (\n",
    "    prices_tickets\n",
    "    .merge(tbp, left_on='price', how='left', right_on='greek tickets')\n",
    "    .fillna(0).drop('greek tickets', axis=1)\n",
    ")\n",
    "\n",
    "tickets_table = Table.from_df(gt)\n",
    "Q_demand_tickets = np.flip(np.cumsum(np.flip(tickets_table.group(\"price\", sum).column(1))))\n",
    "\n",
    "gt_demand = Table().with_columns(\n",
    "    'price', prices_tickets.price, \n",
    "    'quantity', Q_demand_tickets\n",
    ")\n",
    "\n",
    "tickets_slope = slope(gt_demand[\"quantity\"], gt_demand[\"price\"])\n",
    "tickets_intercept = intercept(gt_demand[\"quantity\"], gt_demand[\"price\"])\n",
    "print(\"Slope: \" + str(tickets_slope))\n",
    "print(\"Intercept: \" +  str(tickets_intercept))\n"
   ]
  },
  {
   "cell_type": "code",
   "execution_count": 16,
   "metadata": {},
   "outputs": [
    {
     "name": "stdout",
     "output_type": "stream",
     "text": [
      "Slope: -627.4900398406375\n",
      "Intercept: 3246.0159362549803\n"
     ]
    }
   ],
   "source": [
    "#Iphone 13\n",
    "prices_iphone = pd.DataFrame({'price':[250, 500, 750, 1000, 1250, 1500,1750,2000, 2250, 2500, 2750, 3000]})\n",
    "\n",
    "iphones = demand_table.select('iphone 13')\n",
    "iphonesByPrice = iphones.group(\"iphone 13\")\n",
    "ibp = iphonesByPrice.to_df()\n",
    "iphone13 = (\n",
    "    prices_iphone\n",
    "    .merge(ibp, left_on='price', how='left', right_on=\"iphone 13\")\n",
    "    .fillna(0).drop(\"iphone 13\", axis=1)\n",
    ")\n",
    "\n",
    "iphones_table = Table.from_df(iphone13)\n",
    "Q_demand_iphones = np.flip(np.cumsum(np.flip(iphones_table.group(\"price\", sum).column(1))))\n",
    "\n",
    "iphone13_demand = Table().with_columns(\n",
    "    'price', prices_iphone.price, \n",
    "    'quantity', Q_demand_iphones\n",
    ")\n",
    "\n",
    "iphones_slope = slope(iphone13_demand[\"quantity\"], iphone13_demand[\"price\"])\n",
    "iphones_intercept = intercept(iphone13_demand[\"quantity\"], iphone13_demand[\"price\"])\n",
    "print(\"Slope: \" + str(iphones_slope))\n",
    "print(\"Intercept: \" +  str(iphones_intercept))"
   ]
  },
  {
   "cell_type": "markdown",
   "metadata": {},
   "source": [
    "Here we can see the demand curves for our different products! "
   ]
  },
  {
   "cell_type": "code",
   "execution_count": 17,
   "metadata": {},
   "outputs": [
    {
     "data": {
      "image/png": "[encoded data removed]",
      "text/plain": [
       "<Figure size 360x360 with 1 Axes>"
      ]
     },
     "metadata": {
      "needs_background": "light"
     },
     "output_type": "display_data"
    },
    {
     "data": {
      "image/png": "[encoded data removed]",
      "text/plain": [
       "<Figure size 360x360 with 1 Axes>"
      ]
     },
     "metadata": {
      "needs_background": "light"
     },
     "output_type": "display_data"
    },
    {
     "data": {
      "image/png": "[encoded data removed]",
      "text/plain": [
       "<Figure size 360x360 with 1 Axes>"
      ]
     },
     "metadata": {
      "needs_background": "light"
     },
     "output_type": "display_data"
    },
    {
     "data": {
      "image/png": "[encoded data removed]",
      "text/plain": [
       "<Figure size 360x360 with 1 Axes>"
      ]
     },
     "metadata": {
      "needs_background": "light"
     },
     "output_type": "display_data"
    }
   ],
   "source": [
    "gtk_demand.scatter(\"quantity\", \"price\")\n",
    "plt.xlabel('Quantity')\n",
    "plt.ylabel('Price')\n",
    "plt.title('Demand for Green Tea Kitkats');\n",
    "\n",
    "gb_demand.scatter(\"quantity\", \"price\")\n",
    "plt.xlabel('Quantity')\n",
    "plt.ylabel('Price')\n",
    "plt.title('Demand for Gourmet Burritos');\n",
    "\n",
    "gt_demand.scatter(\"quantity\", \"price\")\n",
    "plt.xlabel('Quantity')\n",
    "plt.ylabel('Price')\n",
    "plt.title('Demand for Greek Theatre Tickets');\n",
    "\n",
    "iphone13_demand.scatter(\"quantity\", \"price\")\n",
    "plt.xlabel('Quantity')\n",
    "plt.ylabel('Price')\n",
    "plt.title('Demand for Iphone13');"
   ]
  },
  {
   "cell_type": "markdown",
   "metadata": {},
   "source": [
    " "
   ]
  }
 ],
 "metadata": {
  "@webio": {
   "lastCommId": null,
   "lastKernelId": null
  },
  "kernelspec": {
   "display_name": "Python 3 (ipykernel)",
   "language": "python",
   "name": "python3"
  },
  "language_info": {
   "codemirror_mode": {
    "name": "ipython",
    "version": 3
   },
   "file_extension": ".py",
   "mimetype": "text/x-python",
   "name": "python",
   "nbconvert_exporter": "python",
   "pygments_lexer": "ipython3",
   "version": "3.9.7"
  }
 },
 "nbformat": 4,
 "nbformat_minor": 4
}
