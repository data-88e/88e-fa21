{
 "cells": [
  {
   "cell_type": "code",
   "execution_count": null,
   "id": "0a5a13b1",
   "metadata": {
    "deletable": false,
    "editable": false
   },
   "outputs": [],
   "source": [
    "# Initialize Otter\n",
    "import otter\n",
    "grader = otter.Notebook(\"proj04.ipynb\")"
   ]
  },
  {
   "cell_type": "markdown",
   "id": "e6916120",
   "metadata": {},
   "source": [
    "<table style=\"width: 100%;\" id=\"nb-header\">\n",
    "    <tr style=\"background-color: transparent;\"><td>\n",
    "        <img src=\"https://data-88e.github.io/assets/images/blue_text.png\" width=\"250px\" style=\"margin-left: 0;\" />\n",
    "    </td><td>\n",
    "        <p style=\"text-align: right; font-size: 10pt;\"><strong>Economic Models</strong>, Fall 2021<br>\n",
    "            Dr. Eric Van Dusen <br>\n",
    "        Notebook by Vaidehi Bulusu <br>\n",
    "</table>"
   ]
  },
  {
   "cell_type": "markdown",
   "id": "55325ccf",
   "metadata": {},
   "source": [
    "# Project 4: Econometrics\n",
    "\n",
    "In this project, we will be using econometric analysis to investigate the relationship between a person's height and labor market outcomes. The project is divided into 3 sections:\n",
    "\n",
    "1. Simple Linear Regression\n",
    "\n",
    "2. Multiple Linear Regression\n",
    "\n",
    "3. Reading Econometrics Tables\n",
    "\n",
    "You can refer to the [*Econometrics*](https://data-88e.github.io/textbook/content/11-econometrics/index.html) chapter in the textbook and week 12 resources for help on this project."
   ]
  },
  {
   "cell_type": "code",
   "execution_count": 1,
   "id": "5d1aec8f",
   "metadata": {},
   "outputs": [],
   "source": [
    "from datascience import *\n",
    "import numpy as np\n",
    "import pandas as pd\n",
    "import matplotlib.pyplot as plt\n",
    "import statsmodels.api as sm\n",
    "import warnings\n",
    "warnings.simplefilter(action='ignore')\n",
    "plt.style.use('seaborn-muted')\n",
    "%matplotlib inline\n",
    "plt.rcParams[\"figure.figsize\"] = [10,7]"
   ]
  },
  {
   "cell_type": "markdown",
   "id": "0faf7c77",
   "metadata": {},
   "source": [
    "## Part 1: Simple Linear Regression\n",
    "\n",
    "Several studies have identified a positive correlation between a person's height and labor market outcomes. On average, taller people have jobs that are of higher status and pay more. In their paper, *[Stature and Status:\n",
    "Height, Ability, and Labor Market Outcomes](https://www.nber.org/system/files/working_papers/w12466/w12466.pdf)* (2008), Anne Case and Christina Paxson analyze the data from the US National Health Interview Survey in 1994 to explain this association. This is the data we will be using for our analysis.\n",
    "\n",
    "In the first part of the project, we will be using simple (bivariate) linear regression to look at the association between a person's height and their earnings and consider the problems with limiting our analysis to just 2 variables.\n",
    "\n",
    "We start by importing the `earnings.csv` dataset which contains information about the characteristics and labor market outcomes for 17,870 workers."
   ]
  },
  {
   "cell_type": "code",
   "execution_count": 2,
   "id": "c60ae82a",
   "metadata": {},
   "outputs": [],
   "source": [
    "earnings = Table().read_table(\"earnings.csv\")\n",
    "earnings.show(5)"
   ]
  },
  {
   "cell_type": "markdown",
   "id": "506a2136",
   "metadata": {},
   "source": [
    "<div class=\"alert alert-warning\">\n",
    "    \n",
    "Before proceeding, please read the <a href=\"https://wps.pearsoned.com/wps/media/objects/11422/11696965/data3eu/Earnings_and_Height_Description.pdf\" target=\"_blank\">data description</a> for this study which gives you information about each variable. **This is very important.**\n",
    "    \n",
    "</div>"
   ]
  },
  {
   "cell_type": "markdown",
   "id": "2cf8f591",
   "metadata": {
    "deletable": false,
    "editable": false
   },
   "source": [
    "<!-- BEGIN QUESTION -->\n",
    "\n",
    "**Question 1.1:** What would you expect the sign of the relationship between height and earnings to be? Explain your answer.\n",
    "\n",
    "<!--\n",
    "BEGIN QUESTION\n",
    "name: q1_1\n",
    "manual: true\n",
    "-->"
   ]
  },
  {
   "cell_type": "markdown",
   "id": "99db7dc3",
   "metadata": {},
   "source": [
    "_Type your answer here, replacing this text._"
   ]
  },
  {
   "cell_type": "markdown",
   "id": "de03f2d3",
   "metadata": {
    "deletable": false,
    "editable": false
   },
   "source": [
    "<!-- END QUESTION -->\n",
    "\n",
    "**Question 1.2:** Here's a simple linear regression equation to model the association between height and earnings:\n",
    "\n",
    "$$\\text{Earnings} = \\beta_1 \\times \\text{Height} + \\alpha$$\n",
    "\n",
    "Perform a regression of `earnings` on `height`. Don't forget to add a constant term.\n",
    "\n",
    "<!--\n",
    "BEGIN QUESTION\n",
    "name: q1_2\n",
    "points: 2\n",
    "-->"
   ]
  },
  {
   "cell_type": "code",
   "execution_count": 3,
   "id": "e1602da6",
   "metadata": {},
   "outputs": [],
   "source": [
    "y_1_2 = ...\n",
    "x_1_2 = ...\n",
    "model_1_2 = ...\n",
    "results_1_2 = ...\n",
    "results_1_2.summary()"
   ]
  },
  {
   "cell_type": "code",
   "execution_count": null,
   "id": "f6789c69",
   "metadata": {
    "deletable": false,
    "editable": false
   },
   "outputs": [],
   "source": [
    "grader.check(\"q1_2\")"
   ]
  },
  {
   "cell_type": "markdown",
   "id": "d550b670",
   "metadata": {
    "deletable": false,
    "editable": false
   },
   "source": [
    "<!-- BEGIN QUESTION -->\n",
    "\n",
    "**Question 1.3:** Why should we include a constant term in the regression model?\n",
    "\n",
    "<!--\n",
    "BEGIN QUESTION\n",
    "name: q1_3\n",
    "manual: true\n",
    "-->"
   ]
  },
  {
   "cell_type": "markdown",
   "id": "d6da3435",
   "metadata": {},
   "source": [
    "_Type your answer here, replacing this text._"
   ]
  },
  {
   "cell_type": "markdown",
   "id": "7b1a2351",
   "metadata": {
    "deletable": false,
    "editable": false
   },
   "source": [
    "<!-- END QUESTION -->\n",
    "\n",
    "**Question 1.4:** What is the estimated slope of the association between `earnings` and `height`?\n",
    "\n",
    "<!--\n",
    "BEGIN QUESTION\n",
    "name: q1_4\n",
    "points:\n",
    "    - 0\n",
    "    - 1\n",
    "-->"
   ]
  },
  {
   "cell_type": "code",
   "execution_count": 7,
   "id": "885dd7ed",
   "metadata": {},
   "outputs": [],
   "source": [
    "result_1_4 = ...\n",
    "result_1_4"
   ]
  },
  {
   "cell_type": "code",
   "execution_count": null,
   "id": "113f3aad",
   "metadata": {
    "deletable": false,
    "editable": false
   },
   "outputs": [],
   "source": [
    "grader.check(\"q1_4\")"
   ]
  },
  {
   "cell_type": "markdown",
   "id": "3da23355",
   "metadata": {
    "deletable": false,
    "editable": false
   },
   "source": [
    "**Question 1.5:** Is the association statistically significant? Answer `True` or `False`.\n",
    "\n",
    "<!--\n",
    "BEGIN QUESTION\n",
    "name: q1_5\n",
    "points:\n",
    "    - 0\n",
    "    - 1\n",
    "-->"
   ]
  },
  {
   "cell_type": "code",
   "execution_count": 10,
   "id": "54368478",
   "metadata": {},
   "outputs": [],
   "source": [
    "result_1_5 = ...\n",
    "result_1_5"
   ]
  },
  {
   "cell_type": "code",
   "execution_count": null,
   "id": "53c2386d",
   "metadata": {
    "deletable": false,
    "editable": false
   },
   "outputs": [],
   "source": [
    "grader.check(\"q1_5\")"
   ]
  },
  {
   "cell_type": "markdown",
   "id": "6d1ee247",
   "metadata": {
    "deletable": false,
    "editable": false
   },
   "source": [
    "<!-- BEGIN QUESTION -->\n",
    "\n",
    "**Question 1.6:** Interpret the slope on the `height` variable (including the units). Does this match with what you expected in question 1.1?\n",
    "\n",
    "<!--\n",
    "BEGIN QUESTION\n",
    "name: q1_6\n",
    "manual: true\n",
    "-->"
   ]
  },
  {
   "cell_type": "markdown",
   "id": "f2c9ad52",
   "metadata": {},
   "source": [
    "_Type your answer here, replacing this text._"
   ]
  },
  {
   "cell_type": "markdown",
   "id": "961d360d",
   "metadata": {
    "deletable": false,
    "editable": false
   },
   "source": [
    "<!-- END QUESTION -->\n",
    "\n",
    "<!-- BEGIN QUESTION -->\n",
    "\n",
    "**Question 1.7:** Interpret the intercept of the regression (including the units). Does this make practical sense? Explain your answer.\n",
    "\n",
    "<!--\n",
    "BEGIN QUESTION\n",
    "name: q1_7\n",
    "manual: true\n",
    "-->"
   ]
  },
  {
   "cell_type": "markdown",
   "id": "b8f16f8c",
   "metadata": {},
   "source": [
    "_Type your answer here, replacing this text._"
   ]
  },
  {
   "cell_type": "markdown",
   "id": "8a026b0b",
   "metadata": {
    "deletable": false,
    "editable": false
   },
   "source": [
    "<!-- END QUESTION -->\n",
    "\n",
    "<!-- BEGIN QUESTION -->\n",
    "\n",
    "**Question 1.8:** If the slope on the independent variable is statistically significant, can we infer a causal relationship between the two variables? Why or why not? When can you infer a causal relationship between 2 variables based on the results of the study (hint: think about the type of study)?\n",
    "\n",
    "<!--\n",
    "BEGIN QUESTION\n",
    "name: q1_8\n",
    "manual: true\n",
    "-->"
   ]
  },
  {
   "cell_type": "markdown",
   "id": "c5db9e12",
   "metadata": {},
   "source": [
    "_Type your answer here, replacing this text._"
   ]
  },
  {
   "cell_type": "markdown",
   "id": "dde45638",
   "metadata": {
    "deletable": false,
    "editable": false
   },
   "source": [
    "<!-- END QUESTION -->\n",
    "\n",
    "**Question 1.9:** Use the slope and intercept from the regression in question 1.2 to generate an array has predictions for `earnings` based on the `height` column on our dataset.\n",
    "\n",
    "<!--\n",
    "BEGIN QUESTION\n",
    "name: q1_9\n",
    "-->"
   ]
  },
  {
   "cell_type": "code",
   "execution_count": 13,
   "id": "b0a2a361",
   "metadata": {},
   "outputs": [],
   "source": [
    "predictions_1_9 = ...\n",
    "predictions_1_9"
   ]
  },
  {
   "cell_type": "code",
   "execution_count": null,
   "id": "fe48c597",
   "metadata": {
    "deletable": false,
    "editable": false
   },
   "outputs": [],
   "source": [
    "grader.check(\"q1_9\")"
   ]
  },
  {
   "cell_type": "markdown",
   "id": "d4b4b8e6",
   "metadata": {
    "deletable": false,
    "editable": false
   },
   "source": [
    "**Question 1.10:** Calculate the RMSE for your regression predictions for `earnings`.\n",
    "\n",
    "<!--\n",
    "BEGIN QUESTION\n",
    "name: q1_10\n",
    "-->"
   ]
  },
  {
   "cell_type": "code",
   "execution_count": 16,
   "id": "14e677d4",
   "metadata": {},
   "outputs": [],
   "source": [
    "rmse_1_10 = ...\n",
    "rmse_1_10"
   ]
  },
  {
   "cell_type": "code",
   "execution_count": null,
   "id": "b94a5f51",
   "metadata": {
    "deletable": false,
    "editable": false
   },
   "outputs": [],
   "source": [
    "grader.check(\"q1_10\")"
   ]
  },
  {
   "cell_type": "markdown",
   "id": "4633b3b4",
   "metadata": {
    "deletable": false,
    "editable": false
   },
   "source": [
    "<!-- BEGIN QUESTION -->\n",
    "\n",
    "**Question 1.11:** Interpret the RMSE value (including the units). What does it tell you about the accuracy of your predictions from question 1.9?\n",
    "\n",
    "<!--\n",
    "BEGIN QUESTION\n",
    "name: q1_11\n",
    "manual: true\n",
    "-->"
   ]
  },
  {
   "cell_type": "markdown",
   "id": "ab08dc8d",
   "metadata": {},
   "source": [
    "_Type your answer here, replacing this text._"
   ]
  },
  {
   "cell_type": "markdown",
   "id": "584d0603",
   "metadata": {},
   "source": [
    "<!-- END QUESTION -->\n",
    "\n",
    "\n",
    "\n",
    "## Part 2: Multiple Linear Regression\n",
    "\n",
    "Now, let's do multiple linear regression to account for potential confounding variables in our model."
   ]
  },
  {
   "cell_type": "markdown",
   "id": "8812a06a",
   "metadata": {
    "deletable": false,
    "editable": false
   },
   "source": [
    "<!-- BEGIN QUESTION -->\n",
    "\n",
    "**Question 2.1:** Take a look at the columns in the `earnings` table. Pick 2 variables you think might be potential confounders in the study and provide a brief explanation for why you think each of the variables may be a confounder. In your answer, also talk about how each variable is related to `height` and `earnings`.\n",
    "\n",
    "<!--\n",
    "BEGIN QUESTION\n",
    "name: q2_1\n",
    "manual: true\n",
    "-->"
   ]
  },
  {
   "cell_type": "markdown",
   "id": "42e47044",
   "metadata": {},
   "source": [
    "_Type your answer here, replacing this text._"
   ]
  },
  {
   "cell_type": "markdown",
   "id": "7337ed51",
   "metadata": {
    "deletable": false,
    "editable": false
   },
   "source": [
    "<!-- END QUESTION -->\n",
    "\n",
    "**Question 2.2:** Perform another regression with the following new regressors: `age`, `educ`, `sex` and `weight` (remember to also include `height`).\n",
    "\n",
    "<!--\n",
    "BEGIN QUESTION\n",
    "name: q2_2\n",
    "points: 2\n",
    "-->"
   ]
  },
  {
   "cell_type": "code",
   "execution_count": 19,
   "id": "118eddb5",
   "metadata": {},
   "outputs": [],
   "source": [
    "y_2_2 = ...\n",
    "x_2_2 = ...\n",
    "model_2_2 = ...\n",
    "results_2_2 = ...\n",
    "results_2_2.summary()"
   ]
  },
  {
   "cell_type": "code",
   "execution_count": null,
   "id": "7fe07033",
   "metadata": {
    "deletable": false,
    "editable": false
   },
   "outputs": [],
   "source": [
    "grader.check(\"q2_2\")"
   ]
  },
  {
   "cell_type": "markdown",
   "id": "e4b36b8a",
   "metadata": {
    "deletable": false,
    "editable": false
   },
   "source": [
    "<!-- BEGIN QUESTION -->\n",
    "\n",
    "**Question 2.3:** Compare the coefficient on `height` from the regression model in question 2.2 to the coefficient on `height` from the regression model in question 1.2. What does this tell you about the nature of the omitted variable bias in the previous model (hint: is the bias positive or negative)?\n",
    "\n",
    "<!--\n",
    "BEGIN QUESTION\n",
    "name: q2_3\n",
    "manual: true\n",
    "-->"
   ]
  },
  {
   "cell_type": "markdown",
   "id": "d687e34c",
   "metadata": {},
   "source": [
    "_Type your answer here, replacing this text._"
   ]
  },
  {
   "cell_type": "markdown",
   "id": "81a72a0f",
   "metadata": {
    "deletable": false,
    "editable": false
   },
   "source": [
    "<!-- END QUESTION -->\n",
    "\n",
    "<!-- BEGIN QUESTION -->\n",
    "\n",
    "**Question 2.4:** Look at the regression coefficients for the variables you chose in question 2.1. Do the coefficients align with your intuition?\n",
    "\n",
    "<!--\n",
    "BEGIN QUESTION\n",
    "name: q2_4\n",
    "manual: true\n",
    "-->"
   ]
  },
  {
   "cell_type": "markdown",
   "id": "f0d9d568",
   "metadata": {},
   "source": [
    "_Type your answer here, replacing this text._"
   ]
  },
  {
   "cell_type": "markdown",
   "id": "fd5ae29a",
   "metadata": {
    "deletable": false,
    "editable": false
   },
   "source": [
    "<!-- END QUESTION -->\n",
    "\n",
    "<!-- BEGIN QUESTION -->\n",
    "\n",
    "**Question 2.5:** Let's consider the effect of gender on earnings. Intuitively, do you think the relationship between height and earnings would be different based on gender? Explain your answer.\n",
    "\n",
    "<!--\n",
    "BEGIN QUESTION\n",
    "name: q2_5\n",
    "manual: true\n",
    "-->"
   ]
  },
  {
   "cell_type": "markdown",
   "id": "0cb3d62a",
   "metadata": {},
   "source": [
    "_Type your answer here, replacing this text._"
   ]
  },
  {
   "cell_type": "markdown",
   "id": "6419e9bd",
   "metadata": {
    "deletable": false,
    "editable": false
   },
   "source": [
    "<!-- END QUESTION -->\n",
    "\n",
    "<!-- BEGIN QUESTION -->\n",
    "\n",
    "**Question 2.6:** Let's say we perform a new regression in which we took all the variables in the earnings table into account. How would the RMSE you obtain from this regression differ from the RMSE you calculated in question 1.10? Why?  \n",
    "*Hint:* Would the new RMSE be higher or lower than the one you obtained in 1.10?\n",
    "\n",
    "<!--\n",
    "BEGIN QUESTION\n",
    "name: q2_6\n",
    "manual: true\n",
    "-->"
   ]
  },
  {
   "cell_type": "markdown",
   "id": "4c4fcdb2",
   "metadata": {},
   "source": [
    "_Type your answer here, replacing this text._"
   ]
  },
  {
   "cell_type": "markdown",
   "id": "a5d89e63",
   "metadata": {
    "deletable": false,
    "editable": false
   },
   "source": [
    "<!-- END QUESTION -->\n",
    "\n",
    "<!-- BEGIN QUESTION -->\n",
    "\n",
    "**Question 2.7:** Now that we've accounted for confounding variables such as age, occupation, gender, region, etc. do you think it makes sense for us to infer a causal relationship between height and earnings? Explain your answer.\n",
    "\n",
    "<!--\n",
    "BEGIN QUESTION\n",
    "name: q2_7\n",
    "manual: true\n",
    "-->"
   ]
  },
  {
   "cell_type": "markdown",
   "id": "8671c2f0",
   "metadata": {},
   "source": [
    "_Type your answer here, replacing this text._"
   ]
  },
  {
   "cell_type": "markdown",
   "id": "2cf5c851",
   "metadata": {
    "deletable": false,
    "editable": false
   },
   "source": [
    "<!-- END QUESTION -->\n",
    "\n",
    "**Question 2.8:** Now let’s try to predict a person’s earnings based on their characteristics.\n",
    "\n",
    "Sofia is a 35-year-old Hispanic female who works as an executive for a private company. She earned a Bachelor's degree (completing 15 years of education) and lives in Pennsylvania (which is in the northeastern part of the US) with her husband. She is 64 inches tall and weighs 124 pounds.\n",
    "\n",
    "What would her predicted earnings be?\n",
    "\n",
    "<!--\n",
    "BEGIN QUESTION\n",
    "name: q2_8\n",
    "-->"
   ]
  },
  {
   "cell_type": "code",
   "execution_count": 23,
   "id": "40d94a8e",
   "metadata": {},
   "outputs": [],
   "source": [
    "prediction_2_8 = ...\n",
    "prediction_2_8"
   ]
  },
  {
   "cell_type": "code",
   "execution_count": null,
   "id": "a1c6f03d",
   "metadata": {
    "deletable": false,
    "editable": false
   },
   "outputs": [],
   "source": [
    "grader.check(\"q2_8\")"
   ]
  },
  {
   "cell_type": "markdown",
   "id": "f7bdc71e",
   "metadata": {
    "deletable": false,
    "editable": false
   },
   "source": [
    "<!-- BEGIN QUESTION -->\n",
    "\n",
    "**Question 2.9:** Say we were to regress `earnings` (which is a continuous variable) on just `sex` (which is a binary variable). Which value would the regression coefficient be equal to (hint: it's a difference between two values)?\n",
    "\n",
    "<!--\n",
    "BEGIN QUESTION\n",
    "name: q2_9\n",
    "manual: true\n",
    "-->"
   ]
  },
  {
   "cell_type": "markdown",
   "id": "b922285f",
   "metadata": {},
   "source": [
    "_Type your answer here, replacing this text._"
   ]
  },
  {
   "cell_type": "markdown",
   "id": "1edc031a",
   "metadata": {},
   "source": [
    "<!-- END QUESTION -->\n",
    "\n",
    "\n",
    "\n",
    "## Part 3: Reading Econometrics Tables"
   ]
  },
  {
   "cell_type": "markdown",
   "id": "43cb9620",
   "metadata": {},
   "source": [
    "Below is one of the regression tables taken from the paper. It shows the regression results from 2 studies on the relationship between height and earnings: the British Cohort Study (BCS) and National Child Development Study (NCDS).\n",
    "\n",
    "<img src = \"https://i.imgur.com/a2o9OPA.png\">"
   ]
  },
  {
   "cell_type": "markdown",
   "id": "71c69032",
   "metadata": {},
   "source": [
    "<div class=\"alert alert-warning\">\n",
    "    \n",
    "Make sure to read the table (including the note at the bottom) before proceeding.\n",
    "    \n",
    "</div>"
   ]
  },
  {
   "cell_type": "markdown",
   "id": "83e3177b",
   "metadata": {
    "deletable": false,
    "editable": false
   },
   "source": [
    "<!-- BEGIN QUESTION -->\n",
    "\n",
    "**Question 3.1:** We can see that in each study, the researchers estimate separate models for men and women. Why do you think this is?\n",
    "\n",
    "<!--\n",
    "BEGIN QUESTION\n",
    "name: q3_1\n",
    "manual: true\n",
    "-->"
   ]
  },
  {
   "cell_type": "markdown",
   "id": "31da1d09",
   "metadata": {},
   "source": [
    "_Type your answer here, replacing this text._"
   ]
  },
  {
   "cell_type": "markdown",
   "id": "9a66dd6c",
   "metadata": {
    "deletable": false,
    "editable": false
   },
   "source": [
    "<!-- END QUESTION -->\n",
    "\n",
    "<!-- BEGIN QUESTION -->\n",
    "\n",
    "**Question 3.2:** Look at the results of the British Cohort Study for men. There are 3 coefficients reported for height at age 30. Give a brief interpretation of each of these coefficients (including the units). In your explanation, talk about what is causing the differences in these coefficients (hint: look at the *Test scores* and *Extended controls* rows).\n",
    "\n",
    "Note: Assume height is measured in inches for this study.\n",
    "\n",
    "<!--\n",
    "BEGIN QUESTION\n",
    "name: q3_2\n",
    "manual: true\n",
    "-->"
   ]
  },
  {
   "cell_type": "markdown",
   "id": "3a370fcc",
   "metadata": {},
   "source": [
    "_Type your answer here, replacing this text._"
   ]
  },
  {
   "cell_type": "markdown",
   "id": "b899d091",
   "metadata": {
    "deletable": false,
    "editable": false
   },
   "source": [
    "<!-- END QUESTION -->\n",
    "\n",
    "<!-- BEGIN QUESTION -->\n",
    "\n",
    "**Question 3.3:** Compare the third coefficient for men and women in the BCS (look at the 3rd and 6th columns). What does this tell you about the relationship between height and earnings for men and women? Does this align with your intuition in question 2.5?\n",
    "\n",
    "<!--\n",
    "BEGIN QUESTION\n",
    "name: q3_3\n",
    "manual: true\n",
    "-->"
   ]
  },
  {
   "cell_type": "markdown",
   "id": "b658ad94",
   "metadata": {},
   "source": [
    "_Type your answer here, replacing this text._"
   ]
  },
  {
   "cell_type": "markdown",
   "id": "44232847",
   "metadata": {},
   "source": [
    "<!-- END QUESTION -->\n",
    "\n",
    "\n",
    "\n",
    "**Congratulations for finishing your last project in Data 88E!** We hope you enjoyed working on this project (and this course in general) as much as we enjoyed creating it :)"
   ]
  },
  {
   "cell_type": "markdown",
   "id": "478c8e49",
   "metadata": {
    "deletable": false,
    "editable": false
   },
   "source": [
    "---\n",
    "\n",
    "To double-check your work, the cell below will rerun all of the autograder tests."
   ]
  },
  {
   "cell_type": "code",
   "execution_count": null,
   "id": "f8123e20",
   "metadata": {
    "deletable": false,
    "editable": false
   },
   "outputs": [],
   "source": [
    "grader.check_all()"
   ]
  },
  {
   "cell_type": "markdown",
   "id": "3feb3211",
   "metadata": {
    "deletable": false,
    "editable": false
   },
   "source": [
    "## Submission\n",
    "\n",
    "Make sure you have run all cells in your notebook in order before running the cell below, so that all images/graphs appear in the output. The cell below will generate a zip file for you to submit. **Please save before exporting!**"
   ]
  },
  {
   "cell_type": "code",
   "execution_count": null,
   "id": "4f2829d1",
   "metadata": {
    "deletable": false,
    "editable": false
   },
   "outputs": [],
   "source": [
    "# Save your notebook first, then run this cell to export your submission.\n",
    "grader.export()"
   ]
  },
  {
   "cell_type": "markdown",
   "id": "1c11f257",
   "metadata": {},
   "source": [
    " "
   ]
  }
 ],
 "metadata": {
  "kernelspec": {
   "display_name": "Python 3",
   "language": "python",
   "name": "python3"
  },
  "language_info": {
   "codemirror_mode": {
    "name": "ipython",
    "version": 3
   },
   "file_extension": ".py",
   "mimetype": "text/x-python",
   "name": "python",
   "nbconvert_exporter": "python",
   "pygments_lexer": "ipython3",
   "version": "3.8.8"
  }
 },
 "nbformat": 4,
 "nbformat_minor": 5
}
