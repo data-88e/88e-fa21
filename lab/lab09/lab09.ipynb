{
 "cells": [
  {
   "cell_type": "code",
   "execution_count": null,
   "id": "c5629551",
   "metadata": {
    "deletable": false,
    "editable": false
   },
   "outputs": [],
   "source": [
    "# Initialize Otter\n",
    "import otter\n",
    "grader = otter.Notebook(\"lab09.ipynb\")"
   ]
  },
  {
   "cell_type": "markdown",
   "id": "d3ea7739",
   "metadata": {},
   "source": [
    "<table style=\"width: 100%;\">\n",
    "    <tr style=\"background-color: transparent;\"><td>\n",
    "        <img src=\"https://data-88e.github.io/assets/images/blue_text.png\" width=\"250px\" style=\"margin-left: 0;\" />\n",
    "    </td><td>\n",
    "        <p style=\"text-align: right; font-size: 10pt;\"><strong>Economic Models</strong>, Fall 2021<br>\n",
    "            Dr. Eric Van Dusen<br>\n",
    "        Andrei Caprau<br>\n",
    "        Sreeja Apparaju<br>\n",
    "        Umar Maniku<br></p></td></tr>\n",
    "</table>"
   ]
  },
  {
   "cell_type": "markdown",
   "id": "bce3d954",
   "metadata": {},
   "source": [
    "# Lab 9: Finance"
   ]
  },
  {
   "cell_type": "markdown",
   "id": "0a71d901",
   "metadata": {},
   "source": [
    "In this lab we'll go over some of the concepts taught in lecture and explore how we can better understand these concepts."
   ]
  },
  {
   "cell_type": "code",
   "execution_count": 1,
   "id": "e6e2005d",
   "metadata": {},
   "outputs": [],
   "source": [
    "pip install yfinance"
   ]
  },
  {
   "cell_type": "code",
   "execution_count": 2,
   "id": "3cfd72bf",
   "metadata": {},
   "outputs": [],
   "source": [
    "import yfinance as yf\n",
    "import numpy as np\n",
    "import matplotlib.pyplot as plt\n",
    "import matplotlib.patches as patches\n",
    "import sympy\n",
    "from ipywidgets import interact, interactive, fixed, interact_manual\n",
    "import ipywidgets as widgets\n",
    "from IPython.display import display\n",
    "from scipy import stats\n",
    "import warnings\n",
    "from datascience import *\n",
    "warnings.filterwarnings('ignore')\n",
    "plt.style.use(\"seaborn-muted\")\n",
    "%matplotlib inline"
   ]
  },
  {
   "cell_type": "markdown",
   "id": "32950da1",
   "metadata": {},
   "source": [
    "## Compounding Interest"
   ]
  },
  {
   "cell_type": "markdown",
   "id": "75baee51",
   "metadata": {},
   "source": [
    "We mentioned in this week's lesson how interest in one year builds on top of not only the principal amount of money deposited into an account, but also the interest earned in previous years. This can be very powerful.\n",
    "\n",
    "Below is a tool that simulates a retirement or savings account. Each year, a fixed amount is deposited into the account. This is represented by `deposits`. In addition, the account compounds interest from last year's balance, with constant interest rate `r`. **`r` is expressed as a proportion.** So if an account yields 10% interest, `r = 0.1`. `t` is how many years this account accrues interest. In this example, if `t` is 0, the balance in the account is just the deposit as no interest has been accrued. If `t` is 1, the balance in the account is the initial deposit with interest compounded, plus the next year's deposit."
   ]
  },
  {
   "cell_type": "markdown",
   "id": "d162375c",
   "metadata": {
    "deletable": false,
    "editable": false
   },
   "source": [
    "**Question 1:** Complete the code for `plot_comp_interest`. Notice that the list called `balance` tracks the current balance in the account each year. We've given you the first element in that list. For each year after the first, how do you calculate the balance in the account? \n",
    "\n",
    "After completing the code for `plot_comp_interest`, please assign the variable `balance_calc` to the balance you have after 5 years for a deposit of 10,000 at a rate of 5%. In order to pass the autograder tests for this question, please assign `balance_calc` answer to a numerical value rather than a function call (i.e. do the function call in another cell and then copy-paste the numerical answer).\n",
    "\n",
    "*Hint*: Recall that the account grows through interest and yearly deposits.\n",
    "\n",
    "<!--\n",
    "BEGIN QUESTION\n",
    "name: q1\n",
    "-->"
   ]
  },
  {
   "cell_type": "code",
   "execution_count": 20,
   "id": "38de24c5",
   "metadata": {},
   "outputs": [],
   "source": [
    "def plot_comp_interest(deposits, r, t):\n",
    "    # This initiates a list where we will store the balance\n",
    "    # in the account for each year.\n",
    "    balance = np.array([])\n",
    "    balance = np.append(balance, deposits)\n",
    "    \n",
    "    # For each year, this adds an element to the list of \n",
    "    # balances.\n",
    "    for _ in range(t):\n",
    "        balance = np.append(balance, balance.item(-1) * ... + ...)\n",
    "        \n",
    "    # Code for plotting, don't edit\n",
    "    plt.figure(figsize=(8,6))\n",
    "    plt.plot(np.arange(t + 1), balance)\n",
    "    plt.xlabel('Time in Years')\n",
    "    plt.ylabel('Account Balance')\n",
    "    plt.title('Account Balance Over Time')\n",
    "    plt.ylim((0, 1000000))\n",
    "    plt.xlim((0, t))\n",
    "    \n",
    "    print('Balance after {} years: {}'.format(t, np.round(balance.item(-1), 2)))\n",
    "    print('Balance if there were no interest: {}'.format(deposits * (t + 1)))\n",
    "    return balance.item(-1)\n",
    "balance_calc = ..."
   ]
  },
  {
   "cell_type": "code",
   "execution_count": null,
   "id": "c6980fde",
   "metadata": {
    "deletable": false,
    "editable": false
   },
   "outputs": [],
   "source": [
    "grader.check(\"q1\")"
   ]
  },
  {
   "cell_type": "markdown",
   "id": "0a894942",
   "metadata": {},
   "source": [
    "Run the cell below to generate an interactive plot where you can adjust the three variables in `plot_comp_interest` to see what happens to the balance in the account."
   ]
  },
  {
   "cell_type": "code",
   "execution_count": 5,
   "id": "619a2309",
   "metadata": {},
   "outputs": [],
   "source": [
    "deposits_slider = widgets.IntSlider(min = 500, max = 10000, step = 500, value = 5000)\n",
    "r_slider = widgets.FloatSlider(min = 0.01, max = 0.2, step = 0.01, value = 0.1)\n",
    "t_slider = widgets.IntSlider(min = 10, max = 30, step = 1, value = 20)\n",
    "display(widgets.interactive(plot_comp_interest, deposits = deposits_slider, r = r_slider, t = t_slider))"
   ]
  },
  {
   "cell_type": "markdown",
   "id": "f22cf29f",
   "metadata": {
    "deletable": false,
    "editable": false
   },
   "source": [
    "**Question 2**: Try out the sliders. Assign `True` to the respective variable if the answer to the question is \"yes\", and `False` if the answer to the question is \"no\".\n",
    "1. What happens as you increase the amount of fixed deposits? Does the balance in the account grow faster?\n",
    "2. What happens as the interest rate increases? Does the balance in the account grow faster?\n",
    "3. What happens as you invest into the account for longer periods of time? Are you left with a smaller account than if you had invested for a shorter period of time?\n",
    "\n",
    "<!--\n",
    "BEGIN QUESTION\n",
    "name: q2\n",
    "points:\n",
    "    - 0\n",
    "    - 0\n",
    "    - 0\n",
    "    - 0.33\n",
    "    - 0.33\n",
    "    - 0.33\n",
    "-->"
   ]
  },
  {
   "cell_type": "code",
   "execution_count": 6,
   "id": "197bdd2e",
   "metadata": {},
   "outputs": [],
   "source": [
    "q2_1 = ...\n",
    "q2_2 = ...\n",
    "q2_3 = ..."
   ]
  },
  {
   "cell_type": "code",
   "execution_count": null,
   "id": "74ae8c89",
   "metadata": {
    "deletable": false,
    "editable": false
   },
   "outputs": [],
   "source": [
    "grader.check(\"q2\")"
   ]
  },
  {
   "cell_type": "markdown",
   "id": "7944610e",
   "metadata": {},
   "source": [
    "## Options\n",
    "\n",
    "In the following section you will be asked a series of short questions regarding options. Set the variable for each question equal to your answer."
   ]
  },
  {
   "cell_type": "markdown",
   "id": "f975f974",
   "metadata": {
    "deletable": false,
    "editable": false
   },
   "source": [
    "**Question 3.1:** Let's say that you are interested in purchasing the stock of Tesla, but owning Tesla stock makes you nervous due to the volatile nature of the stock price. Therefore, you would like to hedge your holdings by purchasing options. If you purchase 100 shares of Tesla, what kind of option would you need to purchase to hedge against extreme losses in the event that Tesla's price drops? Please pick one of the four following options: `'long call'`, `'long put'`, `'short call'`, `'short put'`, making sure that your answer is a string that exactly matches one of the options.\n",
    "\n",
    "<!--\n",
    "BEGIN QUESTION\n",
    "name: q3_1\n",
    "points:\n",
    "    - 0\n",
    "    - 0\n",
    "    - 1\n",
    "-->"
   ]
  },
  {
   "cell_type": "code",
   "execution_count": 10,
   "id": "16d8e5f0",
   "metadata": {},
   "outputs": [],
   "source": [
    "q3_1 = ..."
   ]
  },
  {
   "cell_type": "code",
   "execution_count": null,
   "id": "331f951a",
   "metadata": {
    "deletable": false,
    "editable": false
   },
   "outputs": [],
   "source": [
    "grader.check(\"q3_1\")"
   ]
  },
  {
   "cell_type": "markdown",
   "id": "21c50b9c",
   "metadata": {
    "deletable": false,
    "editable": false
   },
   "source": [
    "**Question 3.2:** Continuing from the scenario above, let's say you purchase 100 shares of the Tesla stock for a price of \\\\$1000 each. Additionally, you purchased a long put for \\\\$100 with the following properties: strike of \\\\$800, expiration in one week. Immediately after making these purchases, assuming that they constitute the entirety of your portfolio, how much is your portfolio worth? For this group of questions we will acknowledge that options have value and not ignore their cost.\n",
    "\n",
    "<!--\n",
    "BEGIN QUESTION\n",
    "name: q3_2\n",
    "points:\n",
    "    - 0\n",
    "    - 0\n",
    "    - 0\n",
    "    - 1\n",
    "-->"
   ]
  },
  {
   "cell_type": "code",
   "execution_count": 14,
   "id": "f0fbaeaf",
   "metadata": {},
   "outputs": [],
   "source": [
    "q3_2 = ..."
   ]
  },
  {
   "cell_type": "code",
   "execution_count": null,
   "id": "34900128",
   "metadata": {
    "deletable": false,
    "editable": false
   },
   "outputs": [],
   "source": [
    "grader.check(\"q3_2\")"
   ]
  },
  {
   "cell_type": "markdown",
   "id": "cb47d535",
   "metadata": {
    "deletable": false,
    "editable": false
   },
   "source": [
    "**Question 3.3:** Continuing from above, how much is your portfolio worth after one week has passed, assuming that Tesla's price remains at \\\\$1000 the entire time?\n",
    "\n",
    "<!--\n",
    "BEGIN QUESTION\n",
    "name: q3_3\n",
    "points:\n",
    "    - 0\n",
    "    - 1\n",
    "-->"
   ]
  },
  {
   "cell_type": "code",
   "execution_count": 19,
   "id": "c8cebc9f",
   "metadata": {},
   "outputs": [],
   "source": [
    "q3_3 = ..."
   ]
  },
  {
   "cell_type": "code",
   "execution_count": null,
   "id": "b665c5a7",
   "metadata": {
    "deletable": false,
    "editable": false
   },
   "outputs": [],
   "source": [
    "grader.check(\"q3_3\")"
   ]
  },
  {
   "cell_type": "markdown",
   "id": "61791d01",
   "metadata": {
    "deletable": false,
    "editable": false
   },
   "source": [
    "**Question 3.4:** Continuing from above, suppose that Tesla's price remained at \\\\$1000 for one week, but after that its price dropped to \\\\$700. Displeased with this, you decide to sell off your portfolio. How much did you gain/lose in this scenario, from portfolio creation till now. If you lost money, please give your answer as a negative number.\n",
    "\n",
    "<!--\n",
    "BEGIN QUESTION\n",
    "name: q3_4\n",
    "points:\n",
    "    - 0\n",
    "    - 0.5\n",
    "    - 0.5\n",
    "    - 1\n",
    "-->"
   ]
  },
  {
   "cell_type": "code",
   "execution_count": 22,
   "id": "9247b3df",
   "metadata": {},
   "outputs": [],
   "source": [
    "q3_4 = ..."
   ]
  },
  {
   "cell_type": "code",
   "execution_count": null,
   "id": "ed349bfd",
   "metadata": {
    "deletable": false,
    "editable": false
   },
   "outputs": [],
   "source": [
    "grader.check(\"q3_4\")"
   ]
  },
  {
   "cell_type": "markdown",
   "id": "36cba8de",
   "metadata": {
    "deletable": false,
    "editable": false
   },
   "source": [
    "**Question 3.5:** Suppose now you're in a similar situation as above, but instead Tesla's price drops to \\\\$700 the day after you form your portfolio. Displeased with this, you decide to sell off your portfolio, utilizing any options if it is profitable for you to do so. How much did you gain/lose in this scenario, from portfolio creation till now. If you lost money, please give your answer as a negative number.\n",
    "\n",
    "<!--\n",
    "BEGIN QUESTION\n",
    "name: q3_5\n",
    "points:\n",
    "    - 0\n",
    "    - 0.33\n",
    "    - 0.33\n",
    "    - 0.33\n",
    "    - 1\n",
    "-->"
   ]
  },
  {
   "cell_type": "code",
   "execution_count": 27,
   "id": "d6db8a3c",
   "metadata": {},
   "outputs": [],
   "source": [
    "q3_5 = ..."
   ]
  },
  {
   "cell_type": "code",
   "execution_count": null,
   "id": "b6e21c6f",
   "metadata": {
    "deletable": false,
    "editable": false
   },
   "outputs": [],
   "source": [
    "grader.check(\"q3_5\")"
   ]
  },
  {
   "cell_type": "markdown",
   "id": "5cf9772f",
   "metadata": {
    "deletable": false,
    "editable": false
   },
   "source": [
    "**Question 3.6:** Suppose now you're in a similar situation as above (you have a portfolio of 100 shares of Tesla and one long put on Tesla), but after one week has passed, Tesla's price goes up to \\\\$1100 (remember you bought it at \\\\$1000). Satisfied with this, you decide to sell off your portfolio, utilizing any options if it is profitable for you to do so. How much did you gain (lose) in this scenario, from portfolio creation till now. If you lost money, please give your answer as a negative number.\n",
    "\n",
    "<!--\n",
    "BEGIN QUESTION\n",
    "name: q3_6\n",
    "points:\n",
    "    - 0\n",
    "    - 0.5\n",
    "    - 0.5\n",
    "    - 1\n",
    "-->"
   ]
  },
  {
   "cell_type": "code",
   "execution_count": 33,
   "id": "5e076a99",
   "metadata": {},
   "outputs": [],
   "source": [
    "q3_6 = ..."
   ]
  },
  {
   "cell_type": "code",
   "execution_count": null,
   "id": "de5bddbc",
   "metadata": {
    "deletable": false,
    "editable": false
   },
   "outputs": [],
   "source": [
    "grader.check(\"q3_6\")"
   ]
  },
  {
   "cell_type": "markdown",
   "id": "bb51d55f",
   "metadata": {
    "deletable": false,
    "editable": false
   },
   "source": [
    "**Question 4.1:** Not wanting to live with the stress of owning a volatile stock like Tesla, you decide to create a new portfolio, this time with 100 shares of Apple stock for which you paid \\\\$350 apiece. Suppose that you have strong faith in the fundamentals of Apple, and don't mind temporary losses due to drops in Apple's price. You would, however, like to limit your potential gains and make some money by *selling* one call on Apple. The properties of this short call are as follows: you sold it for \\\\$200, it has a strike of \\\\$400, and it expires in one month. How much did it cost you to form this portfolio? For this question please define your answer as a positive number.\n",
    "\n",
    "<!--\n",
    "BEGIN QUESTION\n",
    "name: q4_1\n",
    "points:\n",
    "    - 0\n",
    "    - 0\n",
    "    - 1\n",
    "-->"
   ]
  },
  {
   "cell_type": "code",
   "execution_count": 38,
   "id": "c3adf15f",
   "metadata": {},
   "outputs": [],
   "source": [
    "q4_1 = ..."
   ]
  },
  {
   "cell_type": "code",
   "execution_count": null,
   "id": "24e4535f",
   "metadata": {
    "deletable": false,
    "editable": false
   },
   "outputs": [],
   "source": [
    "grader.check(\"q4_1\")"
   ]
  },
  {
   "cell_type": "markdown",
   "id": "8133828d",
   "metadata": {
    "deletable": false,
    "editable": false
   },
   "source": [
    "**Question 4.2:** Suppose Apple's stock price doesn't really change throughout the next month, and the option you sold expires worthless. After one month has passed from portfolio formation, you decide to sell another call option on Apple, with the same properties as above. Now how much has this portfolio cost you, from its creation till now? Again, please define your answer as a positive number.\n",
    "\n",
    "<!--\n",
    "BEGIN QUESTION\n",
    "name: q4_2\n",
    "points:\n",
    "    - 0\n",
    "    - 0\n",
    "    - 1\n",
    "-->"
   ]
  },
  {
   "cell_type": "code",
   "execution_count": 42,
   "id": "f1bfbc01",
   "metadata": {},
   "outputs": [],
   "source": [
    "q4_2 = ..."
   ]
  },
  {
   "cell_type": "code",
   "execution_count": null,
   "id": "0426f715",
   "metadata": {
    "deletable": false,
    "editable": false
   },
   "outputs": [],
   "source": [
    "grader.check(\"q4_2\")"
   ]
  },
  {
   "cell_type": "markdown",
   "id": "ed878fc6",
   "metadata": {
    "deletable": false,
    "editable": false
   },
   "source": [
    "**Question 4.3:** In fact, Apple's stock price doesn't really change for the next year. Assuming you repeat this process month after month for 12 months starting from portfolio creation (where you sell a call option on Apple that ends up expiring worthless one month later) how much has this portfolio cost you, from its creation till now? Again, please define your answer as a positive number.\n",
    "\n",
    "<!--\n",
    "BEGIN QUESTION\n",
    "name: q4_3\n",
    "points:\n",
    "    - 0\n",
    "    - 0\n",
    "    - 0\n",
    "    - 1\n",
    "-->"
   ]
  },
  {
   "cell_type": "code",
   "execution_count": 46,
   "id": "f002951e",
   "metadata": {},
   "outputs": [],
   "source": [
    "q4_3 = ..."
   ]
  },
  {
   "cell_type": "code",
   "execution_count": null,
   "id": "d1d86dfa",
   "metadata": {
    "deletable": false,
    "editable": false
   },
   "outputs": [],
   "source": [
    "grader.check(\"q4_3\")"
   ]
  },
  {
   "cell_type": "markdown",
   "id": "49eb44e5",
   "metadata": {
    "deletable": false,
    "editable": false
   },
   "source": [
    "**Question 4.4:** Continuing from above, after 12 months of this procedure have passed, you have now sold your 13th overall call option on Apple. The next day, Apple announces the AppleCar and their stock price jumps to \\\\$450. Because of this, your short call gets exercised, thus closing out your portfolio. How much money have you made (or lost) as a result of this portfolio, from creation till now? If you lost money, please give your answer as a negative number?\n",
    "\n",
    "<!--\n",
    "BEGIN QUESTION\n",
    "name: q4_4\n",
    "points:\n",
    "    - 0\n",
    "    - 0.5\n",
    "    - 0.5\n",
    "    - 1\n",
    "-->"
   ]
  },
  {
   "cell_type": "code",
   "execution_count": 51,
   "id": "a4a258b1",
   "metadata": {},
   "outputs": [],
   "source": [
    "q4_4 = ..."
   ]
  },
  {
   "cell_type": "code",
   "execution_count": null,
   "id": "bcc9e290",
   "metadata": {
    "deletable": false,
    "editable": false
   },
   "outputs": [],
   "source": [
    "grader.check(\"q4_4\")"
   ]
  },
  {
   "cell_type": "markdown",
   "id": "4e2ab134",
   "metadata": {},
   "source": [
    "## Question 5\n",
    "\n",
    "1. What happens to the price of a call as volatility of the underlying stock increases? Why do you think this happens?\n",
    "2. What happens to the price of a put as volatility of the underlying stock increases? Why do you think this happens?\n",
    "3. Given these two answers above, what happens to the prices of the portfolios created in Questions 3.2 and 4.1 as volatility of the underlying stock increases?"
   ]
  },
  {
   "cell_type": "markdown",
   "id": "ac47b412",
   "metadata": {},
   "source": [
    "_Type your answer here, replacing this text._"
   ]
  },
  {
   "cell_type": "markdown",
   "id": "d120896d",
   "metadata": {},
   "source": [
    "## Graphing Stocks\n",
    "\n",
    "For the following questions, we will finding the returns for Apple and Tesla stocks. Similar to our lecture notebook, we will first be plotting the time series graph for Apple and Tesla's stock prices. Then, we will be plotting their returns on the same graph like we did in lecture for S&P500 and NASDAQ. "
   ]
  },
  {
   "cell_type": "markdown",
   "id": "a6c781c8",
   "metadata": {},
   "source": [
    "First, we will fetch the dataframe for Apple and Tesla's stock prices over the years. Define `data_APTL` that contains the "
   ]
  },
  {
   "cell_type": "code",
   "execution_count": 4,
   "id": "bfa0c342",
   "metadata": {},
   "outputs": [],
   "source": [
    "data_APTL = ..."
   ]
  },
  {
   "cell_type": "code",
   "execution_count": 5,
   "id": "7b499986",
   "metadata": {},
   "outputs": [],
   "source": [
    "data_AT = data_APTL.iloc[:, [2,3]]\n",
    "data_AP = data_APTL.iloc[:, 0]\n",
    "data_TL = data_APTL.iloc[:, 1]\n",
    "dAP = np.array(len(data_AP)-1)\n",
    "for i in range(len(data_AP)-1):\n",
    "    dat = ((data_AP[i] - data_AP[i+1])/data_AP[i])*100\n",
    "    dAP = np.append(dAP,dat)\n",
    "dTL = np.array(len(data_TL)-1)\n",
    "for i in range(len(data_TL)-1):\n",
    "    dat = ((data_TL[i] - data_TL[i+1])/data_TL[i])*100\n",
    "    dTL = np.append(dTL,dat)\n",
    "data_AT['AP Returns'] = dAP\n",
    "data_AT['TL Returns'] = dTL"
   ]
  },
  {
   "cell_type": "markdown",
   "id": "a8b5de40",
   "metadata": {},
   "source": [
    "The above code is written in Pandas and you don't need to understand it for this class. It essentially calculates the return rate (formula we discussed in the lecture) "
   ]
  },
  {
   "cell_type": "code",
   "execution_count": 7,
   "id": "f3ea895b",
   "metadata": {},
   "outputs": [],
   "source": [
    "data_AT.iloc[:,[0,1]].plot(color = ('blue', 'red'), figsize=(10,8), alpha =0.3, title = 'Time Series Graph for Closing Prices of Tesla and Apple');"
   ]
  },
  {
   "cell_type": "markdown",
   "id": "37b137b9",
   "metadata": {},
   "source": [
    "**Question 6.1:** Comment on the closing price of Apple and Tesla over the years."
   ]
  },
  {
   "cell_type": "markdown",
   "id": "265cce20",
   "metadata": {},
   "source": [
    "_Type your answer here, replacing this text._"
   ]
  },
  {
   "cell_type": "code",
   "execution_count": 8,
   "id": "8b830c2a",
   "metadata": {},
   "outputs": [],
   "source": [
    "data_AT[['AP Returns', 'TL Returns']].iloc[1:].plot(color = ('blue', 'red'), figsize=(10,8), alpha =0.3, title = \"Returns for Apple and Tesla\");"
   ]
  },
  {
   "cell_type": "markdown",
   "id": "aee83e78",
   "metadata": {},
   "source": [
    "**Question 6.2:** Comment on the returns for Apple and Tesla over the years."
   ]
  },
  {
   "cell_type": "markdown",
   "id": "7a695016",
   "metadata": {},
   "source": [
    "_Type your answer here, replacing this text._"
   ]
  },
  {
   "cell_type": "markdown",
   "id": "a1fff3e6",
   "metadata": {},
   "source": [
    "## Conclusion"
   ]
  },
  {
   "cell_type": "markdown",
   "id": "0ff05bcc",
   "metadata": {},
   "source": [
    "In the first part of the lab, we explored the power of compounding interest with code. In the second part of the lab, we turned our attention to options and portfolios. Hopefully, you now have a better understanding of not only how options can be used in a portfolio, but also of the fact that options themselves have value. Lastly, we used Python API to fetch data directly from Yahoo! Finance and graph the returns for Apple and Tesla "
   ]
  },
  {
   "cell_type": "markdown",
   "id": "ae51713c",
   "metadata": {
    "deletable": false,
    "editable": false
   },
   "source": [
    "---\n",
    "\n",
    "To double-check your work, the cell below will rerun all of the autograder tests."
   ]
  },
  {
   "cell_type": "code",
   "execution_count": null,
   "id": "0bbdced7",
   "metadata": {
    "deletable": false,
    "editable": false
   },
   "outputs": [],
   "source": [
    "grader.check_all()"
   ]
  },
  {
   "cell_type": "markdown",
   "id": "1459d63c",
   "metadata": {
    "deletable": false,
    "editable": false
   },
   "source": [
    "## Submission\n",
    "\n",
    "Make sure you have run all cells in your notebook in order before running the cell below, so that all images/graphs appear in the output. The cell below will generate a zip file for you to submit. **Please save before exporting!**"
   ]
  },
  {
   "cell_type": "code",
   "execution_count": null,
   "id": "141b0901",
   "metadata": {
    "deletable": false,
    "editable": false
   },
   "outputs": [],
   "source": [
    "# Save your notebook first, then run this cell to export your submission.\n",
    "grader.export(pdf=False)"
   ]
  },
  {
   "cell_type": "markdown",
   "id": "b2c9ea85",
   "metadata": {},
   "source": [
    " "
   ]
  }
 ],
 "metadata": {
  "kernelspec": {
   "display_name": "Python 3",
   "language": "python",
   "name": "python3"
  },
  "language_info": {
   "codemirror_mode": {
    "name": "ipython",
    "version": 3
   },
   "file_extension": ".py",
   "mimetype": "text/x-python",
   "name": "python",
   "nbconvert_exporter": "python",
   "pygments_lexer": "ipython3",
   "version": "3.8.8"
  }
 },
 "nbformat": 4,
 "nbformat_minor": 5
}
